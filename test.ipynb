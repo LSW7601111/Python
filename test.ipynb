{
 "cells": [
  {
   "cell_type": "code",
   "execution_count": 26,
   "metadata": {},
   "outputs": [],
   "source": [
    "a = 100\n",
    "b = 50"
   ]
  },
  {
   "cell_type": "code",
   "execution_count": 29,
   "metadata": {},
   "outputs": [],
   "source": [
    "result = a+b"
   ]
  },
  {
   "cell_type": "code",
   "execution_count": 30,
   "metadata": {},
   "outputs": [
    {
     "name": "stdout",
     "output_type": "stream",
     "text": [
      "100 + 50 = 150\n"
     ]
    }
   ],
   "source": [
    "print(a,\"+\",b,\"=\",result)"
   ]
  },
  {
   "cell_type": "code",
   "execution_count": null,
   "metadata": {},
   "outputs": [],
   "source": [
    "result = a-b"
   ]
  },
  {
   "cell_type": "code",
   "execution_count": 7,
   "metadata": {},
   "outputs": [
    {
     "name": "stdout",
     "output_type": "stream",
     "text": [
      "100 - 50 = 150\n"
     ]
    }
   ],
   "source": [
    "print(a,\"-\",b,\"=\",result)"
   ]
  },
  {
   "cell_type": "code",
   "execution_count": 10,
   "metadata": {},
   "outputs": [],
   "source": [
    "result = a*b"
   ]
  },
  {
   "cell_type": "code",
   "execution_count": 11,
   "metadata": {},
   "outputs": [
    {
     "name": "stdout",
     "output_type": "stream",
     "text": [
      "100 * 50 = 5000\n"
     ]
    }
   ],
   "source": [
    "print(a,\"*\",b,\"=\",result)"
   ]
  },
  {
   "cell_type": "code",
   "execution_count": 12,
   "metadata": {},
   "outputs": [],
   "source": [
    "result = a/b"
   ]
  },
  {
   "cell_type": "code",
   "execution_count": 13,
   "metadata": {},
   "outputs": [
    {
     "name": "stdout",
     "output_type": "stream",
     "text": [
      "100 / 50 = 2.0\n"
     ]
    }
   ],
   "source": [
    "print(a,\"/\",b,\"=\",result)"
   ]
  },
  {
   "cell_type": "code",
   "execution_count": 22,
   "metadata": {},
   "outputs": [
    {
     "ename": "NameError",
     "evalue": "name 'c' is not defined",
     "output_type": "error",
     "traceback": [
      "\u001b[1;31m---------------------------------------------------------------------------\u001b[0m",
      "\u001b[1;31mNameError\u001b[0m                                 Traceback (most recent call last)",
      "Cell \u001b[1;32mIn[22], line 1\u001b[0m\n\u001b[1;32m----> 1\u001b[0m \u001b[43mc\u001b[49m\n",
      "\u001b[1;31mNameError\u001b[0m: name 'c' is not defined"
     ]
    }
   ],
   "source": [
    "c"
   ]
  },
  {
   "cell_type": "code",
   "execution_count": 1,
   "metadata": {},
   "outputs": [
    {
     "name": "stdout",
     "output_type": "stream",
     "text": [
      "1.0\n",
      "2.0\n",
      "1.0 + 2.0 = 3.0\n",
      "1.0 - 2.0 = -1.0\n",
      "1.0 * 2.0 = 2.0\n",
      "1.0 / 2.0 = 0.5\n"
     ]
    }
   ],
   "source": [
    "a = float(input(\"첫 번째 숫자를 입력하세요 : \"))\n",
    "b = float(input(\"두 번째 숫자를 입력하세요 : \"))\n",
    "\n",
    "print(a)\n",
    "print(b)\n",
    "result = a+b\n",
    "print(a,\"+\",b,\"=\",result)\n",
    "result = a-b\n",
    "print(a,\"-\",b,\"=\",result)\n",
    "result = a*b\n",
    "print(a,\"*\",b,\"=\",result)\n",
    "result = a/b\n",
    "print(a,\"/\",b,\"=\",result)\n"
   ]
  },
  {
   "cell_type": "code",
   "execution_count": null,
   "metadata": {},
   "outputs": [],
   "source": [
    "# 1. 자기이름, 출생년도를 입력\n",
    "# 2. 이름 : 000, 나이 : 00세\n",
    "# 이름과 나이가 출력되도록 작성하시오"
   ]
  },
  {
   "cell_type": "code",
   "execution_count": null,
   "metadata": {},
   "outputs": [
    {
     "name": "stdout",
     "output_type": "stream",
     "text": [
      "이성우 42 세\n"
     ]
    }
   ],
   "source": [
    "a = input(\"이름 : \")\n",
    "b = input(\"나이 : \")\n",
    "print(a)\n",
    "print(b, \"세\")"
   ]
  },
  {
   "cell_type": "code",
   "execution_count": null,
   "metadata": {},
   "outputs": [
    {
     "name": "stdout",
     "output_type": "stream",
     "text": [
      "이름: 이성우 나이: 42 세\n"
     ]
    }
   ],
   "source": [
    "a = input()\n",
    "b = input()\n",
    "print(\"이름 :\", a ,  \"나이 :\", b, \"세\")\n"
   ]
  },
  {
   "cell_type": "markdown",
   "metadata": {},
   "source": [
    "0. 변수 대입 연산 \n",
    "    a = 10 이라고 할때\n",
    "    \"=\" 의 기호가 변수에 값을 저장함을 의미 한다\n",
    "\n",
    "1. 함수 두가지\n",
    "    * input() : 키보드 입력으로 값을 받는 것 input은 기본 문자열 형태로 자료를 받고, 실제 숫자 연산을 하려면 int(), float(), 형변환 함수를 사용해야 한다\n",
    "    input(\"텍스트\"): \"텍스트\"부분이 출력되면서 입력하도록 표시\n",
    "    * pring():모니터로 결과를 출력 pring(a, \"~~~~\"): a에는 변수가 출력\"~~~~\" 그대로 텍스트가 출력됨\n",
    "\n",
    "2. 자료형        \n",
    "    *정수형 int() integer, 정수\n",
    "    *문자열 str() string, 문자 또는 텍스트\n",
    "\n",
    "\n",
    "\n",
    "\n",
    "\n",
    "    "
   ]
  }
 ],
 "metadata": {
  "kernelspec": {
   "display_name": "Python 3",
   "language": "python",
   "name": "python3"
  },
  "language_info": {
   "codemirror_mode": {
    "name": "ipython",
    "version": 3
   },
   "file_extension": ".py",
   "mimetype": "text/x-python",
   "name": "python",
   "nbconvert_exporter": "python",
   "pygments_lexer": "ipython3",
   "version": "3.11.9"
  }
 },
 "nbformat": 4,
 "nbformat_minor": 2
}
