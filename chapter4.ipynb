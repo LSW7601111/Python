{
 "cells": [
  {
   "cell_type": "markdown",
   "metadata": {},
   "source": [
    "# Chapter4"
   ]
  },
  {
   "cell_type": "markdown",
   "metadata": {},
   "source": [
    "## 조건문\n",
    "   1. 조건문에서는 들여쓰기가 아주 중요하다"
   ]
  },
  {
   "cell_type": "code",
   "execution_count": 4,
   "metadata": {},
   "outputs": [
    {
     "name": "stdout",
     "output_type": "stream",
     "text": [
      "100보다 적군요.\n",
      "aaaa\n"
     ]
    }
   ],
   "source": [
    "a = 99\n",
    "if a <100:\n",
    "    print(\"100보다 적군요.\")\n",
    "print(\"aaaa\")    "
   ]
  },
  {
   "cell_type": "code",
   "execution_count": 5,
   "metadata": {},
   "outputs": [
    {
     "name": "stdout",
     "output_type": "stream",
     "text": [
      "aaaa\n"
     ]
    }
   ],
   "source": [
    "a = 101\n",
    "if a <100:\n",
    "    print(\"100보다 적군요.\")\n",
    "print(\"aaaa\")    "
   ]
  },
  {
   "cell_type": "markdown",
   "metadata": {},
   "source": [
    "if else문"
   ]
  },
  {
   "cell_type": "code",
   "execution_count": 6,
   "metadata": {},
   "outputs": [
    {
     "name": "stdout",
     "output_type": "stream",
     "text": [
      "100보다 크군요\n"
     ]
    }
   ],
   "source": [
    "a = 200\n",
    "if a < 200:\n",
    "    print(\"100보다 작군요\")\n",
    "else:\n",
    "    print(\"100보다 크군요\")"
   ]
  },
  {
   "cell_type": "markdown",
   "metadata": {},
   "source": [
    "정수를 입력 받으면 홀수 인지 짝수인지 판별하는 프로그램\n",
    "5wnf zheld rksmd : input(), print(), if()\n",
    "짝수 -> 2로 나눴을때 나머지 0\n",
    "홀수 -> 2로 나눴을때 나머지 1"
   ]
  },
  {
   "cell_type": "code",
   "execution_count": 9,
   "metadata": {},
   "outputs": [
    {
     "name": "stdout",
     "output_type": "stream",
     "text": [
      "짝수\n"
     ]
    }
   ],
   "source": [
    "a = int(input(\"숫자를 입력하세요 : \"))\n",
    "\n",
    "if a%2 == 0:\n",
    "    print(\"짝수\")  \n",
    "else:\n",
    "    print(\"홀수\")    "
   ]
  },
  {
   "cell_type": "markdown",
   "metadata": {},
   "source": [
    "중첩 if문"
   ]
  },
  {
   "cell_type": "code",
   "execution_count": null,
   "metadata": {},
   "outputs": [
    {
     "name": "stdout",
     "output_type": "stream",
     "text": [
      "와 ~ 100보다 크군요\n"
     ]
    }
   ],
   "source": [
    "a = int(input(\"숫자를 입력하세요 : \"))\n",
    "\n",
    "if a > 50:\n",
    "    if a < 100:\n",
    "        print(\"50보다 크고 100보다 작군요\")\n",
    "    else:\n",
    "        print(\"와~ 100보다 크군요\")    \n",
    "else:\n",
    "    print(\"에고~ 50보다 작군요\")                "
   ]
  }
 ],
 "metadata": {
  "kernelspec": {
   "display_name": "Python 3",
   "language": "python",
   "name": "python3"
  },
  "language_info": {
   "codemirror_mode": {
    "name": "ipython",
    "version": 3
   },
   "file_extension": ".py",
   "mimetype": "text/x-python",
   "name": "python",
   "nbconvert_exporter": "python",
   "pygments_lexer": "ipython3",
   "version": "3.11.9"
  }
 },
 "nbformat": 4,
 "nbformat_minor": 2
}
