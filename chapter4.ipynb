{
 "cells": [
  {
   "cell_type": "markdown",
   "metadata": {},
   "source": [
    "# Chapter4"
   ]
  },
  {
   "cell_type": "markdown",
   "metadata": {},
   "source": [
    "## 조건문\n",
    "   1. 조건문에서는 들여쓰기가 아주 중요하다"
   ]
  },
  {
   "cell_type": "code",
   "execution_count": 4,
   "metadata": {},
   "outputs": [
    {
     "name": "stdout",
     "output_type": "stream",
     "text": [
      "100보다 적군요.\n",
      "aaaa\n"
     ]
    }
   ],
   "source": [
    "a = 99\n",
    "if a <100:\n",
    "    print(\"100보다 적군요.\")\n",
    "print(\"aaaa\")    "
   ]
  },
  {
   "cell_type": "code",
   "execution_count": 5,
   "metadata": {},
   "outputs": [
    {
     "name": "stdout",
     "output_type": "stream",
     "text": [
      "aaaa\n"
     ]
    }
   ],
   "source": [
    "a = 101\n",
    "if a <100:\n",
    "    print(\"100보다 적군요.\")\n",
    "print(\"aaaa\")    "
   ]
  },
  {
   "cell_type": "markdown",
   "metadata": {},
   "source": [
    "if else문"
   ]
  },
  {
   "cell_type": "code",
   "execution_count": 6,
   "metadata": {},
   "outputs": [
    {
     "name": "stdout",
     "output_type": "stream",
     "text": [
      "100보다 크군요\n"
     ]
    }
   ],
   "source": [
    "a = 200\n",
    "if a < 200:\n",
    "    print(\"100보다 작군요\")\n",
    "else:\n",
    "    print(\"100보다 크군요\")"
   ]
  },
  {
   "cell_type": "markdown",
   "metadata": {},
   "source": [
    "정수를 입력 받으면 홀수 인지 짝수인지 판별하는 프로그램\n",
    "5wnf zheld rksmd : input(), print(), if()\n",
    "짝수 -> 2로 나눴을때 나머지 0\n",
    "홀수 -> 2로 나눴을때 나머지 1"
   ]
  },
  {
   "cell_type": "code",
   "execution_count": 9,
   "metadata": {},
   "outputs": [
    {
     "name": "stdout",
     "output_type": "stream",
     "text": [
      "짝수\n"
     ]
    }
   ],
   "source": [
    "a = int(input(\"숫자를 입력하세요 : \"))\n",
    "\n",
    "if a%2 == 0:\n",
    "    print(\"짝수\")  \n",
    "else:\n",
    "    print(\"홀수\")    "
   ]
  },
  {
   "cell_type": "markdown",
   "metadata": {},
   "source": [
    "중첩 if문"
   ]
  },
  {
   "cell_type": "code",
   "execution_count": null,
   "metadata": {},
   "outputs": [
    {
     "name": "stdout",
     "output_type": "stream",
     "text": [
      "와 ~ 100보다 크군요\n"
     ]
    }
   ],
   "source": [
    "a = int(input(\"숫자를 입력하세요 : \"))\n",
    "\n",
    "if a > 50:\n",
    "    if a < 100:\n",
    "        print(\"50보다 크고 100보다 작군요\")\n",
    "    else:\n",
    "        print(\"와~ 100보다 크군요\")    \n",
    "else:\n",
    "    print(\"에고~ 50보다 작군요\")                "
   ]
  },
  {
   "cell_type": "markdown",
   "metadata": {},
   "source": [
    "if elif(if + else) else 문"
   ]
  },
  {
   "cell_type": "code",
   "execution_count": 21,
   "metadata": {},
   "outputs": [
    {
     "name": "stdout",
     "output_type": "stream",
     "text": [
      "B\n",
      "학점입니다.\n"
     ]
    }
   ],
   "source": [
    "a = int(input(\"숫자를 입력하세요 : \"))\n",
    "\n",
    "if a >= 90:\n",
    "    print(\"A\")\n",
    "elif a >= 80:\n",
    "    print(\"B\")    \n",
    "elif a >= 70:\n",
    "    print(\"C\")    \n",
    "elif a >= 60:\n",
    "    print(\"D\")\n",
    "else:\n",
    "    print(\"F\")                \n",
    "print(\"학점입니다.\")    "
   ]
  },
  {
   "cell_type": "code",
   "execution_count": null,
   "metadata": {},
   "outputs": [
    {
     "name": "stdout",
     "output_type": "stream",
     "text": [
      "B+학점입니다.\n"
     ]
    }
   ],
   "source": [
    "a = int(input(\"숫자를 입력하세요 : \"))\n",
    "text = (\"학점입니다.\")\n",
    "\n",
    "if a >= 95:\n",
    "    print(\"A+\" + text)\n",
    "elif a >= 90:\n",
    "    print(\"A0\" + text)\n",
    "elif a >= 85:\n",
    "    print(\"B+\" + text)    \n",
    "elif a >= 80:\n",
    "    print(\"B0\" + text)    \n",
    "elif a >= 75:\n",
    "    print(\"C+\" + text)    \n",
    "elif a >= 70:\n",
    "    print(\"C0\" + text)    \n",
    "elif a >= 65:\n",
    "    print(\"D+\" + text)\n",
    "elif a >= 60:\n",
    "    print(\"D0\" + text)\n",
    "else:\n",
    "    print(\"F\" + text)                \n"
   ]
  },
  {
   "cell_type": "markdown",
   "metadata": {},
   "source": [
    "### 문제\n",
    "나이 판별기\n",
    "\n",
    "1.나이를 입력하세요 : 메세지를 출력하면서 나이 입력 받기\n",
    "\n",
    "2. 13 미만 : 어린이\n",
    "   13이상 20세 미만 : 청소년\n",
    "   \n",
    "   20세 이상 60세 미만 : 성인\n",
    "   \n",
    "   그 외 나이대 노년층\n",
    "\n",
    "이것을 출력하는 프로그램 작성하시오"
   ]
  },
  {
   "cell_type": "code",
   "execution_count": null,
   "metadata": {},
   "outputs": [
    {
     "name": "stdout",
     "output_type": "stream",
     "text": [
      "노년층 입니다.\n"
     ]
    }
   ],
   "source": [
    "a = int(input(\"나이를 입력하세요 : \"))\n",
    "\n",
    "if a < 13:\n",
    "    print(\"어린이 입니다.\")\n",
    "elif 13<= a < 20:\n",
    "        print(\"청소년 입니다.\")     \n",
    "elif 20<= a < 60:\n",
    "        print(\"성인 입니다.\")    \n",
    "else:\n",
    "    print(\"노년층 입니다.\")      \n",
    "\n",
    "# 추가한다면 나이가 -1 이 될경우 \"오류입니다.\"가 추가되면 제일 좋다"
   ]
  },
  {
   "cell_type": "markdown",
   "metadata": {},
   "source": [
    "## 삼항 연산자\n"
   ]
  },
  {
   "cell_type": "code",
   "execution_count": null,
   "metadata": {},
   "outputs": [],
   "source": [
    "score = 85\n",
    "\n",
    "grade = \"\"\n",
    "\n",
    "if score >= 90:\n",
    "    grade = \"A\"\n",
    "else:\n",
    "    grade = \"B\"\n",
    "print(grade)    \n",
    "\n",
    "# 값1 if조건 else값2\n",
    "\n"
   ]
  },
  {
   "cell_type": "code",
   "execution_count": 40,
   "metadata": {},
   "outputs": [
    {
     "name": "stdout",
     "output_type": "stream",
     "text": [
      "B\n"
     ]
    }
   ],
   "source": [
    "score = 85\n",
    "grade = \"A\" if score >=90 else \"B\"\n",
    "print(grade)"
   ]
  },
  {
   "cell_type": "markdown",
   "metadata": {},
   "source": [
    "if 문 응용\n",
    "\n",
    "파이썬 자료형 중에 리스트가 있음"
   ]
  },
  {
   "cell_type": "code",
   "execution_count": null,
   "metadata": {},
   "outputs": [
    {
     "name": "stdout",
     "output_type": "stream",
     "text": [
      "['사과', '배', '딸기', '포도']\n",
      "['사과', '배', '딸기', '포도', '귤']\n"
     ]
    }
   ],
   "source": [
    "fruit = [\"사과\", \"배\", \"딸기\", \"포도\"]\n",
    "print(fruit)"
   ]
  },
  {
   "cell_type": "code",
   "execution_count": 55,
   "metadata": {},
   "outputs": [
    {
     "name": "stdout",
     "output_type": "stream",
     "text": [
      "['사과', '배', '딸기', '포도', '귤', '귤', '귤', '귤', '귤', '귤', '귤', '귤', '귤']\n",
      "딸기가 있네요!\n"
     ]
    }
   ],
   "source": [
    "fruit.append(\"귤\")\n",
    "print(fruit)\n",
    "\n",
    "if \"딸기\" in fruit:\n",
    "    print(\"딸기가 있네요!\")\n"
   ]
  }
 ],
 "metadata": {
  "kernelspec": {
   "display_name": "Python 3",
   "language": "python",
   "name": "python3"
  },
  "language_info": {
   "codemirror_mode": {
    "name": "ipython",
    "version": 3
   },
   "file_extension": ".py",
   "mimetype": "text/x-python",
   "name": "python",
   "nbconvert_exporter": "python",
   "pygments_lexer": "ipython3",
   "version": "3.11.9"
  }
 },
 "nbformat": 4,
 "nbformat_minor": 2
}
