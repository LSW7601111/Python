{
 "cells": [
  {
   "cell_type": "code",
   "execution_count": null,
   "metadata": {},
   "outputs": [
    {
     "name": "stdout",
     "output_type": "stream",
     "text": [
      "(^-^)\n",
      "(-.-)\n"
     ]
    }
   ],
   "source": [
    "# 1. \n",
    "print(\"(^-^)\")\n",
    "\n",
    "print(\"(-.-)\")\n"
   ]
  },
  {
   "cell_type": "code",
   "execution_count": null,
   "metadata": {},
   "outputs": [
    {
     "name": "stdout",
     "output_type": "stream",
     "text": [
      "안녕하세요\n",
      " 저는 이성우 입니다.\n"
     ]
    }
   ],
   "source": [
    "# 2. \n",
    "print(\"안녕하세요\\n 저는 이성우 입니다.\")"
   ]
  },
  {
   "cell_type": "code",
   "execution_count": null,
   "metadata": {},
   "outputs": [
    {
     "name": "stdout",
     "output_type": "stream",
     "text": [
      "20+10=30\n"
     ]
    }
   ],
   "source": [
    "# 3. \n",
    "a = 20\n",
    "b = 10\n",
    "c = a + b\n",
    "print(f\"{a}+{b}={c}\")"
   ]
  },
  {
   "cell_type": "code",
   "execution_count": null,
   "metadata": {},
   "outputs": [
    {
     "name": "stdout",
     "output_type": "stream",
     "text": [
      "3.140000\n",
      "   20\n"
     ]
    }
   ],
   "source": [
    "# 4 .\n",
    "x, y = 3.14, 20\n",
    "a = \"%-3f\" %x\n",
    "b = \"%5d\" %y\n",
    "print(a)\n",
    "print(b)"
   ]
  },
  {
   "cell_type": "code",
   "execution_count": null,
   "metadata": {},
   "outputs": [
    {
     "name": "stdout",
     "output_type": "stream",
     "text": [
      "30\n",
      "10\n",
      "200\n",
      "2.0\n",
      "1\n"
     ]
    }
   ],
   "source": [
    "# 5. \n",
    "print(20 + 10)\n",
    "print(20 - 10)\n",
    "print(20 * 10)\n",
    "print(20 / 10)\n",
    "print(10 % 3)"
   ]
  },
  {
   "cell_type": "code",
   "execution_count": null,
   "metadata": {},
   "outputs": [
    {
     "name": "stdout",
     "output_type": "stream",
     "text": [
      "1051010.0501\n"
     ]
    }
   ],
   "source": [
    "# 6. \n",
    "a = 1000000\n",
    "b = 0.01\n",
    "c = 5\n",
    "d = a*(1+b)**(c)\n",
    "print(d)"
   ]
  },
  {
   "cell_type": "code",
   "execution_count": 1,
   "metadata": {},
   "outputs": [
    {
     "name": "stdout",
     "output_type": "stream",
     "text": [
      "13750.0\n"
     ]
    }
   ],
   "source": [
    "# 7. \n",
    "a = 2500\n",
    "b = 0.1\n",
    "c = 5*(a+(a*b))\n",
    "print(c)"
   ]
  },
  {
   "cell_type": "code",
   "execution_count": null,
   "metadata": {},
   "outputs": [
    {
     "name": "stdout",
     "output_type": "stream",
     "text": [
      "원주= 62.800000000000004\n",
      "면적= 314.0\n"
     ]
    }
   ],
   "source": [
    "# 8.\n",
    "r = 10\n",
    "pi = 3.14\n",
    "c = 2*pi*r\n",
    "s = pi*(r**2)\n",
    "print(\"원주=\", c)\n",
    "print(\"면적=\", s)"
   ]
  },
  {
   "cell_type": "code",
   "execution_count": null,
   "metadata": {},
   "outputs": [
    {
     "name": "stdout",
     "output_type": "stream",
     "text": [
      "2\n",
      "4\n",
      "6\n",
      "8\n",
      "10\n",
      "12\n",
      "14\n",
      "16\n",
      "18\n",
      "20\n",
      "22\n",
      "24\n",
      "26\n",
      "28\n",
      "30\n",
      "32\n",
      "34\n",
      "36\n",
      "38\n",
      "40\n",
      "42\n",
      "44\n",
      "46\n",
      "48\n",
      "50\n",
      "52\n",
      "54\n",
      "56\n",
      "58\n",
      "60\n",
      "62\n",
      "64\n",
      "66\n",
      "68\n",
      "70\n",
      "72\n",
      "74\n",
      "76\n",
      "78\n",
      "80\n",
      "82\n",
      "84\n",
      "86\n",
      "88\n",
      "90\n",
      "92\n",
      "94\n",
      "96\n",
      "98\n",
      "100\n",
      "102\n",
      "104\n",
      "106\n",
      "108\n",
      "110\n",
      "112\n",
      "114\n",
      "116\n",
      "118\n",
      "120\n",
      "122\n",
      "124\n",
      "126\n",
      "128\n",
      "130\n",
      "132\n",
      "134\n",
      "136\n",
      "138\n",
      "140\n",
      "142\n",
      "144\n",
      "146\n",
      "148\n",
      "150\n",
      "152\n",
      "154\n",
      "156\n",
      "158\n",
      "160\n",
      "162\n",
      "164\n",
      "166\n",
      "168\n",
      "170\n",
      "172\n",
      "174\n",
      "176\n",
      "178\n",
      "180\n",
      "182\n",
      "184\n",
      "186\n",
      "188\n",
      "190\n",
      "192\n",
      "194\n",
      "196\n",
      "198\n"
     ]
    }
   ],
   "source": [
    "# 9.\n",
    "for i in range(1,100):\n",
    "    i = i+i\n",
    "    sum = \n",
    "    print(sum)"
   ]
  },
  {
   "cell_type": "code",
   "execution_count": null,
   "metadata": {},
   "outputs": [],
   "source": [
    "# 10. \n",
    "n = 4\n",
    "p = 1\n",
    "for i in range(n):\n",
    "    d = \n",
    "\n",
    "print(f\"2**{n:d}={p:d}\")    \n",
    "\n"
   ]
  },
  {
   "cell_type": "code",
   "execution_count": 11,
   "metadata": {},
   "outputs": [
    {
     "name": "stdout",
     "output_type": "stream",
     "text": [
      "값 a? : 10\n",
      "값 b? : 20\n",
      "1020\n"
     ]
    }
   ],
   "source": [
    "# 11.\n",
    "a = str(\"10\")\n",
    "b = str(\"20\")\n",
    "c = a + b\n",
    "\n",
    "print(f\"값 a? : {a}\\n값 b? : {b}\\n{c}\")\n"
   ]
  },
  {
   "cell_type": "code",
   "execution_count": 12,
   "metadata": {},
   "outputs": [
    {
     "name": "stdout",
     "output_type": "stream",
     "text": [
      "값 a? : 10\n",
      "값 b? : 20\n",
      "30\n"
     ]
    }
   ],
   "source": [
    "# 12.\n",
    "a = 10\n",
    "b = 20\n",
    "c = a + b\n",
    "\n",
    "print(f\"값 a? : {a}\\n값 b? : {b}\\n{c}\")"
   ]
  },
  {
   "cell_type": "code",
   "execution_count": null,
   "metadata": {},
   "outputs": [],
   "source": [
    "# 13.\n",
    "a = str(\"10\")\n",
    "b = str(\"20\")\n",
    "c = a + b\n",
    "\n",
    "print(f\"값 a? : {a}\\n값 b? : {b}\\n{c}\")"
   ]
  },
  {
   "cell_type": "code",
   "execution_count": 8,
   "metadata": {},
   "outputs": [
    {
     "name": "stdout",
     "output_type": "stream",
     "text": [
      "**********\n",
      "**********\n",
      "**********\n"
     ]
    }
   ],
   "source": [
    "# 14.\n",
    "\n",
    "for i in range(0,3):\n",
    "    for j in range(0,10):\n",
    "        print(\"*\",end=\"\")\n",
    "    print()"
   ]
  },
  {
   "cell_type": "code",
   "execution_count": 9,
   "metadata": {},
   "outputs": [
    {
     "name": "stdout",
     "output_type": "stream",
     "text": [
      "*\n",
      "**\n",
      "***\n",
      "****\n"
     ]
    }
   ],
   "source": [
    "# 15. \n",
    "for i in range(1,5):\n",
    "    for j in range(i):\n",
    "        print('*',end='')\n",
    "    print()"
   ]
  },
  {
   "cell_type": "code",
   "execution_count": 10,
   "metadata": {},
   "outputs": [
    {
     "name": "stdout",
     "output_type": "stream",
     "text": [
      "*\n",
      "**\n",
      "***\n",
      "****\n"
     ]
    }
   ],
   "source": [
    "# 16. \n",
    "for i in range(1,5):\n",
    "    for j in range(i):\n",
    "        print('*',end='')\n",
    "    print()"
   ]
  },
  {
   "cell_type": "code",
   "execution_count": null,
   "metadata": {},
   "outputs": [],
   "source": [
    "# 17.\n"
   ]
  }
 ],
 "metadata": {
  "kernelspec": {
   "display_name": "Python 3",
   "language": "python",
   "name": "python3"
  },
  "language_info": {
   "codemirror_mode": {
    "name": "ipython",
    "version": 3
   },
   "file_extension": ".py",
   "mimetype": "text/x-python",
   "name": "python",
   "nbconvert_exporter": "python",
   "pygments_lexer": "ipython3",
   "version": "3.11.9"
  }
 },
 "nbformat": 4,
 "nbformat_minor": 2
}
