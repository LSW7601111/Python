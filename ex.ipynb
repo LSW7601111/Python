{
 "cells": [
  {
   "cell_type": "code",
   "execution_count": null,
   "metadata": {},
   "outputs": [
    {
     "name": "stdout",
     "output_type": "stream",
     "text": [
      "(^-^)\n",
      "(-.-)\n"
     ]
    }
   ],
   "source": [
    "# 1. \n",
    "print(\"(^-^)\")\n",
    "\n",
    "print(\"(-.-)\")\n"
   ]
  },
  {
   "cell_type": "code",
   "execution_count": null,
   "metadata": {},
   "outputs": [
    {
     "name": "stdout",
     "output_type": "stream",
     "text": [
      "안녕하세요\n",
      " 저는 이성우 입니다.\n"
     ]
    }
   ],
   "source": [
    "# 2. \n",
    "print(\"안녕하세요\\n 저는 이성우 입니다.\")"
   ]
  },
  {
   "cell_type": "code",
   "execution_count": null,
   "metadata": {},
   "outputs": [
    {
     "name": "stdout",
     "output_type": "stream",
     "text": [
      "20+10=30\n"
     ]
    }
   ],
   "source": [
    "# 3. \n",
    "a = 20\n",
    "b = 10\n",
    "c = a + b\n",
    "print(f\"{a}+{b}={c}\")"
   ]
  },
  {
   "cell_type": "code",
   "execution_count": 26,
   "metadata": {},
   "outputs": [
    {
     "name": "stdout",
     "output_type": "stream",
     "text": [
      "3.140\n",
      "   20\n"
     ]
    }
   ],
   "source": [
    "# 4 .\n",
    "x, y = 3.14, 20\n",
    "a = \"%.3f\" %x\n",
    "b = \"%5d\" %y\n",
    "print(a)\n",
    "print(b)"
   ]
  },
  {
   "cell_type": "code",
   "execution_count": null,
   "metadata": {},
   "outputs": [
    {
     "name": "stdout",
     "output_type": "stream",
     "text": [
      "30\n",
      "10\n",
      "200\n",
      "2.0\n",
      "1\n"
     ]
    }
   ],
   "source": [
    "# 5. \n",
    "print(20 + 10)\n",
    "print(20 - 10)\n",
    "print(20 * 10)\n",
    "print(20 / 10)\n",
    "print(10 % 3)"
   ]
  },
  {
   "cell_type": "code",
   "execution_count": null,
   "metadata": {},
   "outputs": [
    {
     "name": "stdout",
     "output_type": "stream",
     "text": [
      "1051010.0501\n"
     ]
    }
   ],
   "source": [
    "# 6. \n",
    "a = 1000000\n",
    "b = 0.01\n",
    "c = 5\n",
    "d = a*(1+b)**(c)\n",
    "print(d)"
   ]
  },
  {
   "cell_type": "code",
   "execution_count": 1,
   "metadata": {},
   "outputs": [
    {
     "name": "stdout",
     "output_type": "stream",
     "text": [
      "13750.0\n"
     ]
    }
   ],
   "source": [
    "# 7. \n",
    "a = 2500\n",
    "b = 0.1\n",
    "c = 5*(a+(a*b))\n",
    "print(c)"
   ]
  },
  {
   "cell_type": "code",
   "execution_count": null,
   "metadata": {},
   "outputs": [
    {
     "name": "stdout",
     "output_type": "stream",
     "text": [
      "원주= 62.800000000000004\n",
      "면적= 314.0\n"
     ]
    }
   ],
   "source": [
    "# 8.\n",
    "r = 10\n",
    "pi = 3.14\n",
    "c = 2*pi*r\n",
    "s = pi*(r**2)\n",
    "print(\"원주=\", c)\n",
    "print(\"면적=\", s)"
   ]
  },
  {
   "cell_type": "code",
   "execution_count": 3,
   "metadata": {},
   "outputs": [
    {
     "name": "stdout",
     "output_type": "stream",
     "text": [
      "5050\n"
     ]
    }
   ],
   "source": [
    "# 9.\n",
    "i, sum = 0, 0\n",
    "\n",
    "for i in range(0,101):\n",
    "    sum = sum + i\n",
    "    \n",
    "print(sum)    "
   ]
  },
  {
   "cell_type": "code",
   "execution_count": null,
   "metadata": {},
   "outputs": [],
   "source": [
    "# 10. \n",
    "n = 4\n",
    "p = 1\n",
    "for i in range(n):\n",
    "    d = \n",
    "\n",
    "print(f\"2**{n:d}={p:d}\")    \n",
    "\n"
   ]
  },
  {
   "cell_type": "code",
   "execution_count": 11,
   "metadata": {},
   "outputs": [
    {
     "name": "stdout",
     "output_type": "stream",
     "text": [
      "값 a? : 10\n",
      "값 b? : 20\n",
      "1020\n"
     ]
    }
   ],
   "source": [
    "# 11.\n",
    "a = str(\"10\")\n",
    "b = str(\"20\")\n",
    "c = a + b\n",
    "\n",
    "print(f\"값 a? : {a}\\n값 b? : {b}\\n{c}\")\n"
   ]
  },
  {
   "cell_type": "code",
   "execution_count": 12,
   "metadata": {},
   "outputs": [
    {
     "name": "stdout",
     "output_type": "stream",
     "text": [
      "값 a? : 10\n",
      "값 b? : 20\n",
      "30\n"
     ]
    }
   ],
   "source": [
    "# 12.\n",
    "a = 10\n",
    "b = 20\n",
    "c = a + b\n",
    "\n",
    "print(f\"값 a? : {a}\\n값 b? : {b}\\n{c}\")"
   ]
  },
  {
   "cell_type": "code",
   "execution_count": 4,
   "metadata": {},
   "outputs": [
    {
     "name": "stdout",
     "output_type": "stream",
     "text": [
      "값 a : 10.0\n",
      "값 b : 20.0\n",
      "30.0\n"
     ]
    }
   ],
   "source": [
    "# 13.\n",
    "a = float(10)\n",
    "b = float(20)\n",
    "c = a + b\n",
    "\n",
    "print(f\"값 a : {a}\\n값 b : {b}\\n{c}\")"
   ]
  },
  {
   "cell_type": "code",
   "execution_count": 8,
   "metadata": {},
   "outputs": [
    {
     "name": "stdout",
     "output_type": "stream",
     "text": [
      "**********\n",
      "**********\n",
      "**********\n"
     ]
    }
   ],
   "source": [
    "# 14.\n",
    "\n",
    "for i in range(0,3):\n",
    "    for j in range(0,10):\n",
    "        print(\"*\",end=\"\")\n",
    "    print()"
   ]
  },
  {
   "cell_type": "code",
   "execution_count": 9,
   "metadata": {},
   "outputs": [
    {
     "name": "stdout",
     "output_type": "stream",
     "text": [
      "*\n",
      "**\n",
      "***\n",
      "****\n"
     ]
    }
   ],
   "source": [
    "# 15. \n",
    "for i in range(1,5):\n",
    "    for j in range(i):\n",
    "        print('*',end='')\n",
    "    print()"
   ]
  },
  {
   "cell_type": "code",
   "execution_count": 13,
   "metadata": {},
   "outputs": [
    {
     "name": "stdout",
     "output_type": "stream",
     "text": [
      "****\n",
      "***\n",
      "**\n",
      "*\n"
     ]
    }
   ],
   "source": [
    "# 16. \n",
    "for i in range(1,5):\n",
    "    for j in range(i,5):\n",
    "        print('*',end='')\n",
    "    print()"
   ]
  },
  {
   "cell_type": "code",
   "execution_count": 16,
   "metadata": {},
   "outputs": [
    {
     "name": "stdout",
     "output_type": "stream",
     "text": [
      "2X1=2\n",
      "2X2=4\n",
      "2X3=6\n",
      "2X4=8\n",
      "2X5=10\n",
      "2X6=12\n",
      "2X7=14\n",
      "2X8=16\n",
      "2X9=18\n"
     ]
    }
   ],
   "source": [
    "# 17. (1)\n",
    "for i in range(2,3):\n",
    "    for j in range(1, 10):\n",
    "        print(f\"{i}X{j}={i*j}\")\n",
    "\n",
    "\n"
   ]
  },
  {
   "cell_type": "code",
   "execution_count": 25,
   "metadata": {},
   "outputs": [
    {
     "name": "stdout",
     "output_type": "stream",
     "text": [
      " 2 x  1 =  2   3 x  1 =  3   4 x  1 =  4   5 x  1 =  5   6 x  1 =  6   7 x  1 =  7   8 x  1 =  8   9 x  1 =  9  \n",
      " 2 x  2 =  4   3 x  2 =  6   4 x  2 =  8   5 x  2 = 10   6 x  2 = 12   7 x  2 = 14   8 x  2 = 16   9 x  2 = 18  \n",
      " 2 x  3 =  6   3 x  3 =  9   4 x  3 = 12   5 x  3 = 15   6 x  3 = 18   7 x  3 = 21   8 x  3 = 24   9 x  3 = 27  \n",
      " 2 x  4 =  8   3 x  4 = 12   4 x  4 = 16   5 x  4 = 20   6 x  4 = 24   7 x  4 = 28   8 x  4 = 32   9 x  4 = 36  \n",
      " 2 x  5 = 10   3 x  5 = 15   4 x  5 = 20   5 x  5 = 25   6 x  5 = 30   7 x  5 = 35   8 x  5 = 40   9 x  5 = 45  \n",
      " 2 x  6 = 12   3 x  6 = 18   4 x  6 = 24   5 x  6 = 30   6 x  6 = 36   7 x  6 = 42   8 x  6 = 48   9 x  6 = 54  \n",
      " 2 x  7 = 14   3 x  7 = 21   4 x  7 = 28   5 x  7 = 35   6 x  7 = 42   7 x  7 = 49   8 x  7 = 56   9 x  7 = 63  \n",
      " 2 x  8 = 16   3 x  8 = 24   4 x  8 = 32   5 x  8 = 40   6 x  8 = 48   7 x  8 = 56   8 x  8 = 64   9 x  8 = 72  \n",
      " 2 x  9 = 18   3 x  9 = 27   4 x  9 = 36   5 x  9 = 45   6 x  9 = 54   7 x  9 = 63   8 x  9 = 72   9 x  9 = 81  \n"
     ]
    }
   ],
   "source": [
    "# 17. (2) (모르겠어서 참고 많이 했습니다.)\n",
    "for i in range(1,10):\n",
    "    a = \"\"\n",
    "    for j in range(2, 10):\n",
    "        a = a +str(\"%2d x %2d = %2d  \" % (j, i, i*j))\n",
    "    print(a)        "
   ]
  },
  {
   "cell_type": "code",
   "execution_count": 3,
   "metadata": {},
   "outputs": [
    {
     "ename": "AttributeError",
     "evalue": "'str' object has no attribute 'inventory'",
     "output_type": "error",
     "traceback": [
      "\u001b[1;31m---------------------------------------------------------------------------\u001b[0m",
      "\u001b[1;31mAttributeError\u001b[0m                            Traceback (most recent call last)",
      "Cell \u001b[1;32mIn[3], line 4\u001b[0m\n\u001b[0;32m      2\u001b[0m inventory \u001b[38;5;241m=\u001b[39m {\u001b[38;5;124m\"\u001b[39m\u001b[38;5;124mapple\u001b[39m\u001b[38;5;124m\"\u001b[39m:\u001b[38;5;124m\"\u001b[39m\u001b[38;5;124m10\u001b[39m\u001b[38;5;124m\"\u001b[39m, \u001b[38;5;124m\"\u001b[39m\u001b[38;5;124mbanana\u001b[39m\u001b[38;5;124m\"\u001b[39m:\u001b[38;5;124m\"\u001b[39m\u001b[38;5;124m5\u001b[39m\u001b[38;5;124m\"\u001b[39m, \u001b[38;5;124m\"\u001b[39m\u001b[38;5;124morange\u001b[39m\u001b[38;5;124m\"\u001b[39m:\u001b[38;5;124m\"\u001b[39m\u001b[38;5;124m8\u001b[39m\u001b[38;5;124m\"\u001b[39m}\n\u001b[0;32m      3\u001b[0m a \u001b[38;5;241m=\u001b[39m \u001b[38;5;28minput\u001b[39m(\u001b[38;5;124m\"\u001b[39m\u001b[38;5;124m과일 이름을 입력하세요 : \u001b[39m\u001b[38;5;124m\"\u001b[39m)\n\u001b[1;32m----> 4\u001b[0m \u001b[38;5;28mprint\u001b[39m(\u001b[38;5;124;43mf\u001b[39;49m\u001b[38;5;124;43m\"\u001b[39;49m\u001b[38;5;132;43;01m{\u001b[39;49;00m\u001b[43ma\u001b[49m\u001b[38;5;132;43;01m}\u001b[39;49;00m\u001b[38;5;124;43m의 재고는\u001b[39;49m\u001b[38;5;132;43;01m{\u001b[39;49;00m\u001b[43ma\u001b[49m\u001b[38;5;132;43;01m}\u001b[39;49;00m\u001b[38;5;124;43m입니다.\u001b[39;49m\u001b[38;5;124;43m\"\u001b[39;49m\u001b[38;5;241;43m.\u001b[39;49m\u001b[43minventory\u001b[49m[a])\n",
      "\u001b[1;31mAttributeError\u001b[0m: 'str' object has no attribute 'inventory'"
     ]
    }
   ],
   "source": [
    "# 18.(a)\n",
    "inventory = {\"apple\":\"10\", \"banana\":\"5\", \"orange\":\"8\"}\n",
    "a = input(\"과일 이름을 입력하세요 : \")\n",
    "print(f\"{a}의 재고는{a}입니다.\".inventory[a])"
   ]
  },
  {
   "cell_type": "code",
   "execution_count": null,
   "metadata": {},
   "outputs": [],
   "source": [
    "y_dict = {\"name\":\"lsw\", \"age\":\"42\", \"city\":\"Daegu\"}\n",
    "print(my_dict[\"name\"])"
   ]
  }
 ],
 "metadata": {
  "kernelspec": {
   "display_name": "Python 3",
   "language": "python",
   "name": "python3"
  },
  "language_info": {
   "codemirror_mode": {
    "name": "ipython",
    "version": 3
   },
   "file_extension": ".py",
   "mimetype": "text/x-python",
   "name": "python",
   "nbconvert_exporter": "python",
   "pygments_lexer": "ipython3",
   "version": "3.11.9"
  }
 },
 "nbformat": 4,
 "nbformat_minor": 2
}
