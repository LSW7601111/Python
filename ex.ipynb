{
 "cells": [
  {
   "cell_type": "code",
   "execution_count": null,
   "metadata": {},
   "outputs": [
    {
     "name": "stdout",
     "output_type": "stream",
     "text": [
      "(^-^)\n",
      "(-.-)\n"
     ]
    }
   ],
   "source": [
    "# 1. \n",
    "print(\"(^-^)\")\n",
    "\n",
    "print(\"(-.-)\")\n"
   ]
  },
  {
   "cell_type": "code",
   "execution_count": null,
   "metadata": {},
   "outputs": [
    {
     "name": "stdout",
     "output_type": "stream",
     "text": [
      "안녕하세요\n",
      " 저는 이성우 입니다.\n"
     ]
    }
   ],
   "source": [
    "# 2. \n",
    "print(\"안녕하세요\\n 저는 이성우 입니다.\")"
   ]
  },
  {
   "cell_type": "code",
   "execution_count": null,
   "metadata": {},
   "outputs": [
    {
     "name": "stdout",
     "output_type": "stream",
     "text": [
      "20+10=30\n"
     ]
    }
   ],
   "source": [
    "# 3. \n",
    "a = 20\n",
    "b = 10\n",
    "c = a + b\n",
    "print(f\"{a}+{b}={c}\")"
   ]
  },
  {
   "cell_type": "code",
   "execution_count": null,
   "metadata": {},
   "outputs": [
    {
     "name": "stdout",
     "output_type": "stream",
     "text": [
      "3.140000\n",
      "   20\n"
     ]
    }
   ],
   "source": [
    "# 4 .\n",
    "x, y = 3.14, 20\n",
    "a = \"%-3f\" %x\n",
    "b = \"%5d\" %y\n",
    "print(a)\n",
    "print(b)"
   ]
  },
  {
   "cell_type": "code",
   "execution_count": null,
   "metadata": {},
   "outputs": [
    {
     "name": "stdout",
     "output_type": "stream",
     "text": [
      "30\n",
      "10\n",
      "200\n",
      "2.0\n",
      "1\n"
     ]
    }
   ],
   "source": [
    "# 5. \n",
    "print(20 + 10)\n",
    "print(20 - 10)\n",
    "print(20 * 10)\n",
    "print(20 / 10)\n",
    "print(10 % 3)"
   ]
  },
  {
   "cell_type": "code",
   "execution_count": null,
   "metadata": {},
   "outputs": [
    {
     "name": "stdout",
     "output_type": "stream",
     "text": [
      "1051010.0501\n"
     ]
    }
   ],
   "source": [
    "# 6. \n",
    "a = 1000000\n",
    "b = 0.01\n",
    "c = 5\n",
    "d = a*(1+b)**(c)\n",
    "print(d)"
   ]
  },
  {
   "cell_type": "code",
   "execution_count": 1,
   "metadata": {},
   "outputs": [
    {
     "name": "stdout",
     "output_type": "stream",
     "text": [
      "13750.0\n"
     ]
    }
   ],
   "source": [
    "# 7. \n",
    "a = 2500\n",
    "b = 0.1\n",
    "c = 5*(a+(a*b))\n",
    "print(c)"
   ]
  },
  {
   "cell_type": "code",
   "execution_count": null,
   "metadata": {},
   "outputs": [
    {
     "name": "stdout",
     "output_type": "stream",
     "text": [
      "원주= 62.800000000000004\n",
      "면적= 314.0\n"
     ]
    }
   ],
   "source": [
    "# 8.\n",
    "r = 10\n",
    "pi = 3.14\n",
    "c = 2*pi*r\n",
    "s = pi*(r**2)\n",
    "print(\"원주=\", c)\n",
    "print(\"면적=\", s)"
   ]
  },
  {
   "cell_type": "code",
   "execution_count": 3,
   "metadata": {},
   "outputs": [
    {
     "name": "stdout",
     "output_type": "stream",
     "text": [
      "5050\n"
     ]
    }
   ],
   "source": [
    "# 9.\n",
    "i, sum = 0, 0\n",
    "\n",
    "for i in range(0,101):\n",
    "    sum = sum + i\n",
    "    \n",
    "print(sum)    "
   ]
  },
  {
   "cell_type": "code",
   "execution_count": null,
   "metadata": {},
   "outputs": [],
   "source": [
    "# 10. \n",
    "n = 4\n",
    "p = 1\n",
    "for i in range(n):\n",
    "    d = \n",
    "\n",
    "print(f\"2**{n:d}={p:d}\")    \n",
    "\n"
   ]
  },
  {
   "cell_type": "code",
   "execution_count": 11,
   "metadata": {},
   "outputs": [
    {
     "name": "stdout",
     "output_type": "stream",
     "text": [
      "값 a? : 10\n",
      "값 b? : 20\n",
      "1020\n"
     ]
    }
   ],
   "source": [
    "# 11.\n",
    "a = str(\"10\")\n",
    "b = str(\"20\")\n",
    "c = a + b\n",
    "\n",
    "print(f\"값 a? : {a}\\n값 b? : {b}\\n{c}\")\n"
   ]
  },
  {
   "cell_type": "code",
   "execution_count": 12,
   "metadata": {},
   "outputs": [
    {
     "name": "stdout",
     "output_type": "stream",
     "text": [
      "값 a? : 10\n",
      "값 b? : 20\n",
      "30\n"
     ]
    }
   ],
   "source": [
    "# 12.\n",
    "a = 10\n",
    "b = 20\n",
    "c = a + b\n",
    "\n",
    "print(f\"값 a? : {a}\\n값 b? : {b}\\n{c}\")"
   ]
  },
  {
   "cell_type": "code",
   "execution_count": null,
   "metadata": {},
   "outputs": [],
   "source": [
    "# 13.\n",
    "a = str(\"10\")\n",
    "b = str(\"20\")\n",
    "c = a + b\n",
    "\n",
    "print(f\"값 a : {a}\\n값 b : {b}\\n{c}\")"
   ]
  },
  {
   "cell_type": "code",
   "execution_count": 8,
   "metadata": {},
   "outputs": [
    {
     "name": "stdout",
     "output_type": "stream",
     "text": [
      "**********\n",
      "**********\n",
      "**********\n"
     ]
    }
   ],
   "source": [
    "# 14.\n",
    "\n",
    "for i in range(0,3):\n",
    "    for j in range(0,10):\n",
    "        print(\"*\",end=\"\")\n",
    "    print()"
   ]
  },
  {
   "cell_type": "code",
   "execution_count": 9,
   "metadata": {},
   "outputs": [
    {
     "name": "stdout",
     "output_type": "stream",
     "text": [
      "*\n",
      "**\n",
      "***\n",
      "****\n"
     ]
    }
   ],
   "source": [
    "# 15. \n",
    "for i in range(1,5):\n",
    "    for j in range(i):\n",
    "        print('*',end='')\n",
    "    print()"
   ]
  },
  {
   "cell_type": "code",
   "execution_count": 9,
   "metadata": {},
   "outputs": [
    {
     "name": "stdout",
     "output_type": "stream",
     "text": [
      "*\n",
      "**\n",
      "***\n",
      "****\n"
     ]
    }
   ],
   "source": [
    "# 16. \n",
    "for i in range(1,5):\n",
    "    for j in range(i):\n",
    "        print('*',end='')\n",
    "    print()"
   ]
  },
  {
   "cell_type": "code",
   "execution_count": 16,
   "metadata": {},
   "outputs": [
    {
     "name": "stdout",
     "output_type": "stream",
     "text": [
      "2X1=2\n",
      "2X2=4\n",
      "2X3=6\n",
      "2X4=8\n",
      "2X5=10\n",
      "2X6=12\n",
      "2X7=14\n",
      "2X8=16\n",
      "2X9=18\n"
     ]
    }
   ],
   "source": [
    "# 17. (1)\n",
    "for i in range(2,3):\n",
    "    for j in range(1, 10):\n",
    "        print(f\"{i}X{j}={i*j}\")\n",
    "\n",
    "\n"
   ]
  },
  {
   "cell_type": "code",
   "execution_count": null,
   "metadata": {},
   "outputs": [
    {
     "ename": "IndentationError",
     "evalue": "expected an indented block after 'for' statement on line 3 (3532870926.py, line 5)",
     "output_type": "error",
     "traceback": [
      "\u001b[1;36m  Cell \u001b[1;32mIn[17], line 5\u001b[1;36m\u001b[0m\n\u001b[1;33m    print(f\"{i}X{j}={i*j}\", end=\"\")\u001b[0m\n\u001b[1;37m                                                   ^\u001b[0m\n\u001b[1;31mIndentationError\u001b[0m\u001b[1;31m:\u001b[0m expected an indented block after 'for' statement on line 3\n"
     ]
    }
   ],
   "source": [
    "# 17. (2)\n",
    "for i in range(2,10):\n",
    "    for j in range(1, 10):\n",
    "        print(f\"{i}X{j}={i*j}\", end=\"\")        "
   ]
  }
 ],
 "metadata": {
  "kernelspec": {
   "display_name": "Python 3",
   "language": "python",
   "name": "python3"
  },
  "language_info": {
   "codemirror_mode": {
    "name": "ipython",
    "version": 3
   },
   "file_extension": ".py",
   "mimetype": "text/x-python",
   "name": "python",
   "nbconvert_exporter": "python",
   "pygments_lexer": "ipython3",
   "version": "3.11.9"
  }
 },
 "nbformat": 4,
 "nbformat_minor": 2
}
