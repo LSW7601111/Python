{
 "cells": [
  {
   "cell_type": "code",
   "execution_count": 3,
   "metadata": {},
   "outputs": [
    {
     "name": "stdout",
     "output_type": "stream",
     "text": [
      "(^-^)\n",
      "(-.-)\n"
     ]
    }
   ],
   "source": [
    "print(\"(^-^)\")\n",
    "\n",
    "print(\"(-.-)\")\n"
   ]
  },
  {
   "cell_type": "code",
   "execution_count": 2,
   "metadata": {},
   "outputs": [
    {
     "name": "stdout",
     "output_type": "stream",
     "text": [
      "안녕하세요\n",
      " 저는 이성우 입니다.\n"
     ]
    }
   ],
   "source": [
    "print(\"안녕하세요\\n 저는 이성우 입니다.\")"
   ]
  },
  {
   "cell_type": "code",
   "execution_count": 4,
   "metadata": {},
   "outputs": [
    {
     "name": "stdout",
     "output_type": "stream",
     "text": [
      "20+10=30\n"
     ]
    }
   ],
   "source": [
    "a = 20\n",
    "b = 10\n",
    "c = a + b\n",
    "print(f\"{a}+{b}={c}\")"
   ]
  },
  {
   "cell_type": "code",
   "execution_count": 11,
   "metadata": {},
   "outputs": [
    {
     "name": "stdout",
     "output_type": "stream",
     "text": [
      "3.140000\n",
      "   20\n"
     ]
    }
   ],
   "source": [
    "x, y = 3.14, 20\n",
    "a = \"%-3f\" %x\n",
    "b = \"%5d\" %y\n",
    "print(a)\n",
    "print(b)"
   ]
  },
  {
   "cell_type": "code",
   "execution_count": 6,
   "metadata": {},
   "outputs": [
    {
     "name": "stdout",
     "output_type": "stream",
     "text": [
      "30\n",
      "10\n",
      "200\n",
      "2.0\n",
      "1\n"
     ]
    }
   ],
   "source": [
    "print(20 + 10)\n",
    "print(20 - 10)\n",
    "print(20 * 10)\n",
    "print(20 / 10)\n",
    "print(10 % 3)"
   ]
  },
  {
   "cell_type": "code",
   "execution_count": 17,
   "metadata": {},
   "outputs": [
    {
     "name": "stdout",
     "output_type": "stream",
     "text": [
      "1051010.0501\n"
     ]
    }
   ],
   "source": [
    "a = 1000000\n",
    "b = 0.01\n",
    "c = 5\n",
    "d = a*(1+b)**(c)\n",
    "print(d)"
   ]
  },
  {
   "cell_type": "code",
   "execution_count": 21,
   "metadata": {},
   "outputs": [
    {
     "name": "stdout",
     "output_type": "stream",
     "text": [
      "11250.0\n"
     ]
    }
   ],
   "source": [
    "a = 2500\n",
    "b = 0.1\n",
    "c = 5*(a-(a*b))\n",
    "print(c)"
   ]
  },
  {
   "cell_type": "code",
   "execution_count": 22,
   "metadata": {},
   "outputs": [
    {
     "name": "stdout",
     "output_type": "stream",
     "text": [
      "원주= 62.800000000000004\n",
      "면적= 314.0\n"
     ]
    }
   ],
   "source": [
    "r = 10\n",
    "pi = 3.14\n",
    "c = 2*pi*r\n",
    "s = pi*(r**2)\n",
    "print(\"원주=\", c)\n",
    "print(\"면적=\", s)"
   ]
  }
 ],
 "metadata": {
  "kernelspec": {
   "display_name": "Python 3",
   "language": "python",
   "name": "python3"
  },
  "language_info": {
   "codemirror_mode": {
    "name": "ipython",
    "version": 3
   },
   "file_extension": ".py",
   "mimetype": "text/x-python",
   "name": "python",
   "nbconvert_exporter": "python",
   "pygments_lexer": "ipython3",
   "version": "3.11.9"
  }
 },
 "nbformat": 4,
 "nbformat_minor": 2
}
