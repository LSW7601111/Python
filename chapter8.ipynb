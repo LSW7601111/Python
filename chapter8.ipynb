{
 "cells": [
  {
   "cell_type": "markdown",
   "metadata": {},
   "source": [
    "Chapter 8  모듈"
   ]
  },
  {
   "cell_type": "markdown",
   "metadata": {},
   "source": [
    "코드를 분리하고 공유하는 기능 -> 라이브러리\n",
    "\n",
    "표준 모듈, 외부 모듈\n",
    "\n",
    "명령어 : import 모듈이름\n",
    "\n",
    "       : import 모듈이름 as 약칭\n",
    "\n",
    "       : from 모듈이름 import 가져오고 싶은 변수 또는 함수\n",
    "       "
   ]
  },
  {
   "cell_type": "markdown",
   "metadata": {},
   "source": [
    "* math 모듈\n",
    "\n",
    "수학과 관련 된 기능 -> numpy로 대부분 사용하기 때문에 잘 안씀\n"
   ]
  },
  {
   "cell_type": "code",
   "execution_count": 7,
   "metadata": {},
   "outputs": [
    {
     "name": "stdout",
     "output_type": "stream",
     "text": [
      "0.8414709848078965\n",
      "2\n",
      "3\n"
     ]
    }
   ],
   "source": [
    "import math\n",
    "\n",
    "print(math.sin(1))\n",
    "\n",
    "print(math.floor(2.5)) # 내림\n",
    "\n",
    "print(math.ceil(2.5)) # 올림"
   ]
  },
  {
   "cell_type": "markdown",
   "metadata": {},
   "source": [
    "from 모듈 이름 import 가져오고 싶은 함수\n",
    "\n",
    " - 장점 : 다양한 함수를 계속 입력하는 것의 비효율성\n",
    "\n",
    "     ---> 모듈이름을 붙이지 않고도 사용할 수 있다\n",
    "\n",
    " - 단점 : 같은 함수가 있는 다른 모듈이 있다면 함수가 중복되기 때문에 무조건적으로 사용X"
   ]
  },
  {
   "cell_type": "code",
   "execution_count": 8,
   "metadata": {},
   "outputs": [
    {
     "name": "stdout",
     "output_type": "stream",
     "text": [
      "0.8414709848078965\n",
      "2\n"
     ]
    }
   ],
   "source": [
    "from math import sin, cos, tan, floor, ceil\n",
    "\n",
    "print(sin(1))\n",
    "\n",
    "print(floor(2.5))"
   ]
  },
  {
   "cell_type": "markdown",
   "metadata": {},
   "source": [
    "import 모듈 as 사용하고 싶은 식별자\n",
    "\n",
    "모듈 이름이 너무 길어서 짧게 줄여서 사용하고 싶은 경우 사용"
   ]
  },
  {
   "cell_type": "code",
   "execution_count": 9,
   "metadata": {},
   "outputs": [
    {
     "name": "stdout",
     "output_type": "stream",
     "text": [
      "0.8414709848078965\n",
      "2\n",
      "3\n"
     ]
    }
   ],
   "source": [
    "import math as m\n",
    "\n",
    "print(m.sin(1))\n",
    "\n",
    "print(m.floor(2.5)) # 내림\n",
    "\n",
    "print(m.ceil(2.5)) # 올림"
   ]
  },
  {
   "cell_type": "markdown",
   "metadata": {},
   "source": [
    "* 개발과정에서 사용할 만한 모듈"
   ]
  },
  {
   "cell_type": "markdown",
   "metadata": {},
   "source": [
    "1. random모듈 : 난수발생에 관련된 모듈"
   ]
  },
  {
   "cell_type": "code",
   "execution_count": 10,
   "metadata": {},
   "outputs": [
    {
     "name": "stdout",
     "output_type": "stream",
     "text": [
      "# random 모듈\n",
      "- random(): 0.6414261863312193\n",
      "-uniform(10, 20): 11.65211294589457\n",
      "-randrange(10): 8\n"
     ]
    }
   ],
   "source": [
    "import random\n",
    "print(\"# random 모듈\")\n",
    "\n",
    "# random(): 0,0 <= X < 0.0 사이의 float를 리턴합니다.\n",
    "print(\"- random():\", random.random())\n",
    "\n",
    "# uniform(min, max) : 지정한 범위 사이의 float를 리턴합니다.\n",
    "print(\"-uniform(10, 20):\", random.uniform(10, 20))\n",
    "\n",
    "# randrange(): 지정한 범위의 int를 리턴합니다.\n",
    "# - randrange(max) : 0 부터 max 사이의 값을 리턴합니다.\n",
    "# - randrange(min,max) : min 부터 max 사이의 값을 리턴합니다.\n",
    "print(\"-randrange(10):\", random.randrange(10))"
   ]
  },
  {
   "cell_type": "code",
   "execution_count": null,
   "metadata": {},
   "outputs": [],
   "source": [
    "# 랜덤모듈을 이용하여 로또생성기를 만드시오\n",
    "\n",
    "import random\n",
    "\n",
    "for i in range(0,46):\n",
    "    "
   ]
  },
  {
   "cell_type": "code",
   "execution_count": 11,
   "metadata": {},
   "outputs": [
    {
     "name": "stdout",
     "output_type": "stream",
     "text": [
      "choice 함수 :  3\n",
      "shuffle 함수 :  None\n",
      "sample 함수 :  [5, 1]\n"
     ]
    }
   ],
   "source": [
    "list = [1,2,3,4,5]\n",
    "# choice(list) : 리스트 내부에 있는 요소를 랜덤하게 생성한다.\n",
    "print(\"choice 함수 : \", random.choice(list))\n",
    "\n",
    "# shuffle(list) : 리스트 내부에 있는 요소를 랜덤하게 섞음\n",
    "print(\"shuffle 함수 : \", random.shuffle(list))\n",
    "\n",
    "# sample(list, k=숫자) : 리스트 요소 중에 K개를 뽐음\n",
    "print(\"sample 함수 : \", random.sample(list,k=2))"
   ]
  },
  {
   "cell_type": "markdown",
   "metadata": {},
   "source": [
    "2. sys 모듈\n",
    "\n",
    "시스템과 관련된 정보를 가진 모듈\n",
    "\n",
    "명령매개변수 받을 때 많이 사용"
   ]
  },
  {
   "cell_type": "code",
   "execution_count": null,
   "metadata": {},
   "outputs": [],
   "source": [
    "# 모듈을 읽어 들입니다.\n",
    "import sys\n",
    "\n",
    "# 명령 매개변수를 출력합니다.\n",
    "print(sys.argv)\n",
    "print(\"____\")\n",
    "\n",
    "# 컴퓨터 환경과 관련된 정보를 출력합니다.\n",
    "print(\"getwindowsversion:()\",sys.getwindowsversion())\n",
    "print(\"____\")\n",
    "print(\"copyright : \", sys.copyright)\n",
    "print(\"____\")\n",
    "print(\"version:\",sys.version)\n",
    "\n",
    "# 프로그램을 강제로 종료합니다.\n",
    "sys.exit()"
   ]
  },
  {
   "cell_type": "markdown",
   "metadata": {},
   "source": [
    "3. OS 모듈\n",
    "\n",
    "운영체제와 관련된 기능을 가진 모듈\n",
    "\n",
    "새로운 폴더를 만들거나 폴더 내부 파일 목록을 보는 등의 역할"
   ]
  },
  {
   "cell_type": "code",
   "execution_count": null,
   "metadata": {},
   "outputs": [
    {
     "name": "stdout",
     "output_type": "stream",
     "text": [
      "현재 운영체제 :  nt\n",
      "현재 폴더 :  c:\\Users\\HKIT\\Desktop\\academy\\AI cloud\\Python\n",
      "현재 폴더 내부의 요소 :  ['.git', '.gitattributes', 'basic.txt', 'basic2.txt', 'chapter2(1).ipynb', 'chapter2.ipynb', 'chapter3.ipynb', 'chapter4.ipynb', 'chapter5.ipynb', 'chapter6-1.ipynb', 'chapter6.ipynb', 'chapter7.ipynb', 'chapter8.ipynb', 'ex.ipynb', 'info.txt', 'README.md', 'test.ipynb', 'test.py']\n"
     ]
    }
   ],
   "source": [
    "# 모듈을 읽어 들입니다.\n",
    "import os\n",
    "\n",
    "# 기본 정보를 몇 개 출력해봅시다.\n",
    "print(\"현재 운영체제 : \", os.name)\n",
    "print(\"현재 폴더 : \", os.getcwd())\n",
    "print(\"현재 폴더 내부의 요소 : \", os.listdir())\n",
    "\n",
    "# 폴더를 만들고 제거합니다.(폴더가 비어있을 때만 제거 가능)\n",
    "os.mkdir(\"hello\")\n",
    "os.rmdir(\"hello\")\n",
    "\n"
   ]
  },
  {
   "cell_type": "code",
   "execution_count": 17,
   "metadata": {},
   "outputs": [
    {
     "data": {
      "text/plain": [
       "0"
      ]
     },
     "execution_count": 17,
     "metadata": {},
     "output_type": "execute_result"
    }
   ],
   "source": [
    "# 파일을 생성하고 파일 이름을 변경합니다.\n",
    "with open(\"original.txt\", \"w\") as file:\n",
    "    file.write(\"hello\")\n",
    "\n",
    "# 파일 명을 변경\n",
    "os.rename(\"original.txt\", \"new.txt\")\n",
    "\n",
    "# 파일을 제거 합니다.\n",
    "os.remove(\"new.txt\")\n",
    "\n",
    "# 시스템 명령어 실행\n",
    "os.system(\"dir\")"
   ]
  },
  {
   "cell_type": "markdown",
   "metadata": {},
   "source": [
    "* datetime 모듈\n",
    "\n",
    "   날짜와 시간에 관련된 모듈로, 날짜 형식 만들때 자주 사용 되는 코드들로 구성되어 있다.\n",
    "   "
   ]
  },
  {
   "cell_type": "code",
   "execution_count": 19,
   "metadata": {},
   "outputs": [
    {
     "name": "stdout",
     "output_type": "stream",
     "text": [
      "# 현재 시각 출력하기\n",
      "2024 년\n",
      "12 월\n",
      "11 일\n",
      "10 시\n",
      "34 분\n",
      "42 초\n",
      "\n"
     ]
    }
   ],
   "source": [
    "import datetime\n",
    "\n",
    "# 현재 시각을 구하고 출력하기\n",
    "print(\"# 현재 시각 출력하기\")\n",
    "now = datetime.datetime.now()\n",
    "print(now.year, \"년\")\n",
    "print(now.month, \"월\")\n",
    "print(now.day, \"일\")\n",
    "print(now.hour, \"시\")\n",
    "print(now.minute, \"분\")\n",
    "print(now.second, \"초\")\n",
    "print()"
   ]
  },
  {
   "cell_type": "markdown",
   "metadata": {},
   "source": [
    "시간 표현 방식\n",
    "\n",
    "Unix time stamp 방식\n",
    "\n",
    "개발하다보면 시간 20241211이 아니라\n",
    "\n",
    "숫자가 뜨는 경우가 있음\n",
    "\n",
    "UTC기준으로 1970년 1월 1일 자정(0시0분0초) 기준으로 현재까지 몇초가 지났는지를 \n",
    "\n",
    "정수 형태로 표시"
   ]
  },
  {
   "cell_type": "code",
   "execution_count": 20,
   "metadata": {},
   "outputs": [
    {
     "name": "stdout",
     "output_type": "stream",
     "text": [
      "Currunt Unit timestamp : 1733881479.336263\n"
     ]
    }
   ],
   "source": [
    "import time\n",
    "current_timestamp = time.time()\n",
    "print(f\"Currunt Unit timestamp : {current_timestamp}\")"
   ]
  },
  {
   "cell_type": "markdown",
   "metadata": {},
   "source": [
    "* time 모듈\n",
    "\n",
    "시간과 관련되 기능\n",
    "\n"
   ]
  },
  {
   "cell_type": "code",
   "execution_count": null,
   "metadata": {},
   "outputs": [],
   "source": [
    "import time\n",
    "\n",
    "# time.sleep() 함수\n",
    "# 특정 시간동안 코드 진행을 정지\n",
    "# 정지하고 싶은 시간을 초단위로 입력\n",
    "\n",
    "print(\"지금부터 5초 동안 정지합니다.\")\n",
    "time.sleep(5)\n",
    "print(\"프로그램을 종료합니다.\")"
   ]
  },
  {
   "cell_type": "code",
   "execution_count": 21,
   "metadata": {},
   "outputs": [
    {
     "name": "stdout",
     "output_type": "stream",
     "text": [
      "Elapsed time : 2.000899314880371 second\n"
     ]
    }
   ],
   "source": [
    "import time\n",
    "\n",
    "# tick : 시작시간 기록\n",
    "start_time = time.time()\n",
    "\n",
    "# 코드 실행\n",
    "time.sleep(2) # 2초 후에 실행 합니다.\n",
    "\n",
    "# tock : 종료 시간 기록\n",
    "end_time = time.time()\n",
    "\n",
    "# 경과시간 출력\n",
    "print(f\"Elapsed time : {end_time - start_time} second\")"
   ]
  },
  {
   "cell_type": "markdown",
   "metadata": {},
   "source": [
    "* urlib 모듈\n",
    "\n",
    "url 다루는 라이브러리\n",
    "\n",
    "웹 크롤링 또는 스크레이핑 할 때 사용\n",
    " \n",
    "  -> 데이터 수집할때 사용 = 빅테이터 또는 인공지능에 많이 사용함"
   ]
  },
  {
   "cell_type": "code",
   "execution_count": 22,
   "metadata": {},
   "outputs": [
    {
     "name": "stdout",
     "output_type": "stream",
     "text": [
      "b'<!doctype html><html itemscope=\"\" itemtype=\"http://schema.org/WebPage\" lang=\"ko\"><head><meta content=\"text/html; charset=UTF-8\" http-equiv=\"Content-Type\"><meta content=\"/images/branding/googleg/1x/googleg_standard_color_128dp.png\" itemprop=\"image\"><title>Google</title><script nonce=\"JtuVCONraXmqeyUqGgZnTA\">(function(){var _g={kEI:\\'i_VYZ4iiBZq6hbIP9djSmQo\\',kEXPI:\\'0,18167,3682174,608,435,302126,236535,2872,2891,8348,64702,6398,211571,132771,2006,8155,23350,22436,9779,45600,17058,92024,1804,26408,686,19988,1632,29279,5241339,184,8834569,67,18,8,45,1,1,1,1,1,1,1,1,1,1,1,1,27978082,25228681,46383,54098,22622,15165,8182,5935,15403,28091,21673,6751,23878,9139,740,2,2,3856,328,4459,1766,1116,22291,6,4577,5633,687,3516,4335,22,10485,11497,1341,13707,6619,1594,7422,14520,3291,1822,10743,17667,10672,9519,2219,1645,4809,307,3,2,2542,3279,5354,41,11882,1281,476,1,1443,3440,39,1819,729,2021,143,1212,307,1891,1,2254,3284,608,3690,446,6821,839,309,1901,3,4321,306,1222,49,192,4373,880,4085,809,2631,2,1547,129,1374,88,831,79,1265,529,2,204,3,292,4429,1546,1700,143,15,1070,313,1584,133,3260,975,407,1415,1645,417,525,4,793,824,1308,240,5,89,233,281,56,16,1564,1,140,371,1090,9,13,732,618,14,1,1426,451,3,173,970,1,188,307,1930,703,783,245,132,234,2888,8,458,514,262,95,14,123,289,5,4,4,4,529,163,77,2,2,4,439,25,93,652,146,177,459,280,312,120,799,45,348,806,147,403,2,206,63,2,874,283,617,187,150,17,195,70,33,9,277,31,467,1,22,795,94,339,448,1073,531,343,1,1187,204,852,8,520,295,1323,106,383,31,23,23,28,9,345,4,226,217,121,446,29,467,7,724,38,462,128,118,4,195,528,208,504,147,252,469,280,68,892,252,1688,601,21393685,18,2004,1480,866,5439,2217,111,8,1989,76,3,1202,597,17,3675244,2310782\\',kBL:\\'Y4-z\\',kOPI:89978449};(function(){var a;((a=window.google)==null?0:a.stvsc)?google.kEI=_g.kEI:window.google=_g;}).call(this);})();(function(){google.sn=\\'webhp\\';google.kHL=\\'ko\\';})();(function(){\\nvar g=this||self;function k(){return window.google&&window.google.kOPI||null};var l,m=[];function n(a){for(var b;a&&(!a.getAttribute||!(b=a.getAttribute(\"eid\")));)a=a.parentNode;return b||l}function p(a){for(var b=null;a&&(!a.getAttribute||!(b=a.getAttribute(\"leid\")));)a=a.parentNode;return b}function q(a){/^http:/i.test(a)&&window.location.protocol===\"https:\"&&(google.ml&&google.ml(Error(\"a\"),!1,{src:a,glmm:1}),a=\"\");return a}\\nfunction r(a,b,d,c,h){var e=\"\";b.search(\"&ei=\")===-1&&(e=\"&ei=\"+n(c),b.search(\"&lei=\")===-1&&(c=p(c))&&(e+=\"&lei=\"+c));var f=b.search(\"&cshid=\")===-1&&a!==\"slh\";c=\"&zx=\"+Date.now().toString();g._cshid&&f&&(c+=\"&cshid=\"+g._cshid);(d=d())&&(c+=\"&opi=\"+d);return\"/\"+(h||\"gen_204\")+\"?atyp=i&ct=\"+String(a)+\"&cad=\"+(b+e+c)};l=google.kEI;google.getEI=n;google.getLEI=p;google.ml=function(){return null};google.log=function(a,b,d,c,h,e){e=e===void 0?k:e;d||(d=r(a,b,e,c,h));if(d=q(d)){a=new Image;var f=m.length;m[f]=a;a.onerror=a.onload=a.onabort=function(){delete m[f]};a.src=d}};google.logUrl=function(a,b){b=b===void 0?k:b;return r(\"\",a,b)};}).call(this);(function(){google.y={};google.sy=[];var d;(d=google).x||(d.x=function(a,b){if(a)var c=a.id;else{do c=Math.random();while(google.y[c])}google.y[c]=[a,b];return!1});var e;(e=google).sx||(e.sx=function(a){google.sy.push(a)});google.lm=[];var f;(f=google).plm||(f.plm=function(a){google.lm.push.apply(google.lm,a)});google.lq=[];var g;(g=google).load||(g.load=function(a,b,c){google.lq.push([[a],b,c])});var h;(h=google).loadAll||(h.loadAll=function(a,b){google.lq.push([a,b])});google.bx=!1;var k;(k=google).lx||(k.lx=function(){});var l=[],m;(m=google).fce||(m.fce=function(a,b,c,n){l.push([a,b,c,n])});google.qce=l;}).call(this);google.f={};(function(){\\ndocument.documentElement.addEventListener(\"submit\",function(b){var a;if(a=b.target){var c=a.getAttribute(\"data-submitfalse\");a=c===\"1\"||c===\"q\"&&!a.elements.q.value?!0:!1}else a=!1;a&&(b.preventDefault(),b.stopPropagation())},!0);document.documentElement.addEventListener(\"click\",function(b){var a;a:{for(a=b.target;a&&a!==document.documentElement;a=a.parentElement)if(a.tagName===\"A\"){a=a.getAttribute(\"data-nohref\")===\"1\";break a}a=!1}a&&b.preventDefault()},!0);}).call(this);</script><style>#gbar,#guser{font-size:13px;padding-top:1px !important;}#gbar{height:22px}#guser{padding-bottom:7px !important;text-align:right}.gbh,.gbd{border-top:1px solid #c9d7f1;font-size:1px}.gbh{height:0;position:absolute;top:24px;width:100%}@media all{.gb1{height:22px;margin-right:.5em;vertical-align:top}#gbar{float:left}}a.gb1,a.gb4{text-decoration:underline !important}a.gb1,a.gb4{color:#00c !important}.gbi .gb4{color:#dd8e27 !important}.gbf .gb4{color:#900 !important}\\n</style><style>body,td,a,p,.h{font-family:&#44404;&#47548;,&#46027;&#50880;,arial,sans-serif}.ko{font-size:9pt}body{margin:0;overflow-y:scroll}#gog{padding:3px 8px 0}td{line-height:.8em}.gac_m td{line-height:17px}form{margin-bottom:20px}.h{color:#1967d2}em{font-weight:bold;font-style:normal}.lst{height:25px;width:496px}.gsfi,.lst{font:18px arial,sans-serif}.gsfs{font:17px arial,sans-serif}.ds{display:inline-box;display:inline-block;margin:3px 0 4px;margin-left:4px}input{font-family:inherit}body{background:#fff;color:#000}a{color:#681da8;text-decoration:none}a:hover,a:active{text-decoration:underline}.fl a{color:#1967d2}a:visited{color:#681da8}.sblc{padding-top:5px}.sblc a{display:block;margin:2px 0;margin-left:13px;font-size:11px}.lsbb{background:#f8f9fa;border:solid 1px;border-color:#dadce0 #70757a #70757a #dadce0;height:30px}.lsbb{display:block}#WqQANb a{display:inline-block;margin:0 12px}.lsb{background:url(/images/nav_logo229.png) 0 -261px repeat-x;color:#000;border:none;cursor:pointer;height:30px;margin:0;outline:0;font:15px arial,sans-serif;vertical-align:top}.lsb:active{background:#dadce0}.lst:focus{outline:none}.Ucigb{width:458px}</style><script nonce=\"JtuVCONraXmqeyUqGgZnTA\">(function(){window.google.erd={jsr:1,bv:2130,de:true,dpf:\\'vvG-TzwEVj2kAsYjuzqeQtYtSDWlAjwCVYH8Z7v39yQ\\'};\\nvar g=this||self;var k,l=(k=g.mei)!=null?k:1,n,p=(n=g.sdo)!=null?n:!0,q=0,r,t=google.erd,v=t.jsr;google.ml=function(a,b,d,m,e){e=e===void 0?2:e;b&&(r=a&&a.message);d===void 0&&(d={});d.cad=\"ple_\"+google.ple+\".aple_\"+google.aple;if(google.dl)return google.dl(a,e,d,!0),null;b=d;if(v<0){window.console&&console.error(a,b);if(v===-2)throw a;b=!1}else b=!a||!a.message||a.message===\"Error loading script\"||q>=l&&!m?!1:!0;if(!b)return null;q++;d=d||{};b=encodeURIComponent;var c=\"/gen_204?atyp=i&ei=\"+b(google.kEI);google.kEXPI&&(c+=\"&jexpid=\"+b(google.kEXPI));c+=\"&srcpg=\"+b(google.sn)+\"&jsr=\"+b(t.jsr)+\\n\"&bver=\"+b(t.bv);t.dpf&&(c+=\"&dpf=\"+b(t.dpf));var f=a.lineNumber;f!==void 0&&(c+=\"&line=\"+f);var h=a.fileName;h&&(h.indexOf(\"-extension:/\")>0&&(e=3),c+=\"&script=\"+b(h),f&&h===window.location.href&&(f=document.documentElement.outerHTML.split(\"\\\\n\")[f],c+=\"&cad=\"+b(f?f.substring(0,300):\"No script found.\")));google.ple&&google.ple===1&&(e=2);c+=\"&jsel=\"+e;for(var u in d)c+=\"&\",c+=b(u),c+=\"=\",c+=b(d[u]);c=c+\"&emsg=\"+b(a.name+\": \"+a.message);c=c+\"&jsst=\"+b(a.stack||\"N/A\");c.length>=12288&&(c=c.substr(0,12288));a=c;m||google.log(0,\"\",a);return a};window.onerror=function(a,b,d,m,e){r!==a&&(a=e instanceof Error?e:Error(a),d===void 0||\"lineNumber\"in a||(a.lineNumber=d),b===void 0||\"fileName\"in a||(a.fileName=b),google.ml(a,!1,void 0,!1,a.name===\"SyntaxError\"||a.message.substring(0,11)===\"SyntaxError\"||a.message.indexOf(\"Script error\")!==-1?3:0));r=null;p&&q>=l&&(window.onerror=null)};})();</script></head><body bgcolor=\"#fff\"><script nonce=\"JtuVCONraXmqeyUqGgZnTA\">(function(){var src=\\'/images/nav_logo229.png\\';var iesg=false;document.body.onload = function(){window.n && window.n();if (document.images){new Image().src=src;}\\nif (!iesg){document.f&&document.f.q.focus();document.gbqf&&document.gbqf.q.focus();}\\n}\\n})();</script><div id=\"mngb\"><div id=gbar><nobr><b class=gb1>&#44160;&#49353;</b> <a class=gb1 href=\"https://www.google.com/imghp?hl=ko&tab=wi\">&#51060;&#48120;&#51648;</a> <a class=gb1 href=\"http://maps.google.co.kr/maps?hl=ko&tab=wl\">&#51648;&#46020;</a> <a class=gb1 href=\"https://play.google.com/?hl=ko&tab=w8\">Play</a> <a class=gb1 href=\"https://www.youtube.com/?tab=w1\">YouTube</a> <a class=gb1 href=\"https://news.google.com/?tab=wn\">&#45684;&#49828;</a> <a class=gb1 href=\"https://mail.google.com/mail/?tab=wm\">Gmail</a> <a class=gb1 href=\"https://drive.google.com/?tab=wo\">&#46300;&#46972;&#51060;&#48652;</a> <a class=gb1 style=\"text-decoration:none\" href=\"https://www.google.co.kr/intl/ko/about/products?tab=wh\"><u>&#45908;&#48372;&#44592;</u> &raquo;</a></nobr></div><div id=guser width=100%><nobr><span id=gbn class=gbi></span><span id=gbf class=gbf></span><span id=gbe></span><a href=\"http://www.google.co.kr/history/optout?hl=ko\" class=gb4>&#50937; &#44592;&#47197;</a> | <a  href=\"/preferences?hl=ko\" class=gb4>&#49444;&#51221;</a> | <a target=_top id=gb_70 href=\"https://accounts.google.com/ServiceLogin?hl=ko&passive=true&continue=http://www.google.com/&ec=GAZAAQ\" class=gb4>&#47196;&#44536;&#51064;</a></nobr></div><div class=gbh style=left:0></div><div class=gbh style=right:0></div></div><center><br clear=\"all\" id=\"lgpd\"><div id=\"XjhHGf\"><img alt=\"Google\" height=\"92\" src=\"/images/branding/googlelogo/1x/googlelogo_white_background_color_272x92dp.png\" style=\"padding:28px 0 14px\" width=\"272\" id=\"hplogo\"><br><br></div><form action=\"/search\" name=\"f\"><table cellpadding=\"0\" cellspacing=\"0\"><tr valign=\"top\"><td width=\"25%\">&nbsp;</td><td align=\"center\" nowrap=\"\"><input name=\"ie\" value=\"ISO-8859-1\" type=\"hidden\"><input value=\"ko\" name=\"hl\" type=\"hidden\"><input name=\"source\" type=\"hidden\" value=\"hp\"><input name=\"biw\" type=\"hidden\"><input name=\"bih\" type=\"hidden\"><div class=\"ds\" style=\"height:32px;margin:4px 0\"><div style=\"position:relative;zoom:1\"><input class=\"lst Ucigb\" style=\"margin:0;padding:5px 8px 0 6px;vertical-align:top;color:#000;padding-right:38px\" autocomplete=\"off\" value=\"\" title=\"Google &#44160;&#49353;\" maxlength=\"2048\" name=\"q\" size=\"57\"><img src=\"/textinputassistant/tia.png\" style=\"position:absolute;cursor:pointer;right:5px;top:4px;z-index:300\" data-script-url=\"/textinputassistant/13/ko_tia.js\" id=\"tsuid_i_VYZ4iiBZq6hbIP9djSmQo_1\" alt=\"\" height=\"23\" width=\"27\"><script nonce=\"JtuVCONraXmqeyUqGgZnTA\">(function(){var id=\\'tsuid_i_VYZ4iiBZq6hbIP9djSmQo_1\\';document.getElementById(id).onclick = function(){var s = document.createElement(\\'script\\');s.src = this.getAttribute(\\'data-script-url\\');document.body.appendChild(s);};})();</script></div></div><br style=\"line-height:0\"><span class=\"ds\"><span class=\"lsbb\"><input class=\"lsb\" value=\"Google &#44160;&#49353;\" name=\"btnG\" type=\"submit\"></span></span><span class=\"ds\"><span class=\"lsbb\"><input class=\"lsb\" id=\"tsuid_i_VYZ4iiBZq6hbIP9djSmQo_2\" value=\"I&#8217;m Feeling Lucky\" name=\"btnI\" type=\"submit\"><script nonce=\"JtuVCONraXmqeyUqGgZnTA\">(function(){var id=\\'tsuid_i_VYZ4iiBZq6hbIP9djSmQo_2\\';document.getElementById(id).onclick = function(){if (this.form.q.value){this.checked = 1;if (this.form.iflsig)this.form.iflsig.disabled = false;}\\nelse top.location=\\'/doodles/\\';};})();</script><input value=\"AL9hbdgAAAAAZ1kDmx-7hanv18ey9OCoPDHP2-gHNYgx\" name=\"iflsig\" type=\"hidden\"></span></span></td><td class=\"fl sblc\" align=\"left\" nowrap=\"\" width=\"25%\"><a href=\"/advanced_search?hl=ko&amp;authuser=0\">&#44256;&#44553;&#44160;&#49353;</a></td></tr></table><input id=\"gbv\" name=\"gbv\" type=\"hidden\" value=\"1\"><script nonce=\"JtuVCONraXmqeyUqGgZnTA\">(function(){var a,b=\"1\";if(document&&document.getElementById)if(typeof XMLHttpRequest!=\"undefined\")b=\"2\";else if(typeof ActiveXObject!=\"undefined\"){var c,d,e=[\"MSXML2.XMLHTTP.6.0\",\"MSXML2.XMLHTTP.3.0\",\"MSXML2.XMLHTTP\",\"Microsoft.XMLHTTP\"];for(c=0;d=e[c++];)try{new ActiveXObject(d),b=\"2\"}catch(h){}}a=b;if(a==\"2\"&&location.search.indexOf(\"&gbv=2\")==-1){var f=google.gbvu,g=document.getElementById(\"gbv\");g&&(g.value=a);f&&window.setTimeout(function(){location.href=f},0)};}).call(this);</script></form><div style=\"font-size:83%;min-height:3.5em\"><br></div><span id=\"footer\"><div style=\"font-size:10pt\"><div style=\"margin:19px auto;text-align:center\" id=\"WqQANb\"><a href=\"/intl/ko/ads/\">&#44305;&#44256;</a><a href=\"http://www.google.co.kr/intl/ko/services/\">&#48708;&#51592;&#45768;&#49828; &#49556;&#47336;&#49496;</a><a href=\"/intl/ko/about.html\">Google &#51221;&#48372;</a><a href=\"http://www.google.com/setprefdomain?prefdom=KR&amp;prev=http://www.google.co.kr/&amp;sig=K_j7ECVG3Rr8NLqSA0-vjZNTAaNiI%3D\">Google.co.kr</a></div></div><p style=\"font-size:8pt;color:#70757a\">&copy; 2024 - <a href=\"/intl/ko/policies/privacy/\">&#44060;&#51064;&#51221;&#48372;&#52376;&#47532;&#48169;&#52840;</a> - <a href=\"/intl/ko/policies/terms/\">&#50557;&#44288;</a></p></span></center><script nonce=\"JtuVCONraXmqeyUqGgZnTA\">(function(){window.google.cdo={height:757,width:1440};(function(){var a=window.innerWidth,b=window.innerHeight;if(!a||!b){var c=window.document,d=c.compatMode==\"CSS1Compat\"?c.documentElement:c.body;a=d.clientWidth;b=d.clientHeight}if(a&&b&&(a!=google.cdo.width||b!=google.cdo.height)){var e=google,f=e.log,g=\"/client_204?&atyp=i&biw=\"+a+\"&bih=\"+b+\"&ei=\"+google.kEI,h=\"\",k=window.google&&window.google.kOPI||null;k&&(h+=\"&opi=\"+k);f.call(e,\"\",\"\",g+h)};}).call(this);})();</script>  <script nonce=\"JtuVCONraXmqeyUqGgZnTA\">(function(){google.xjs={basecomb:\\'/xjs/_/js/k\\\\x3dxjs.hp.en.41mDyGO7qog.es5.O/ck\\\\x3dxjs.hp.OcKd6OSWFI8.L.X.O/am\\\\x3dBAAAAABAAAAAAAAAAAAAAAAAAAAAAAAAAAAAAAAAAAQBAAAAAAAAAAAMADAaAAAAAgAECAAAAAAAAAAAAAAAIgAQBQBxAgAAIL4jABAAiwAA8AI/d\\\\x3d1/ed\\\\x3d1/dg\\\\x3d0/ujg\\\\x3d1/rs\\\\x3dACT90oEr4TVVR-yTUq6tmyh_CnYkE-uOvw\\',basecss:\\'/xjs/_/ss/k\\\\x3dxjs.hp.OcKd6OSWFI8.L.X.O/am\\\\x3dBAAAAABAAAAAAAAAAAAAAAAAAAAAAAAAAAAAAAAAAAABAAAAAAAAAAAAADACAAAAAgAECAAAAAAAAAAAAAAAIgAQBQBxAg/rs\\\\x3dACT90oHht35dtETgyRtPgVnjl89nbjjAwA\\',basejs:\\'/xjs/_/js/k\\\\x3dxjs.hp.en.41mDyGO7qog.es5.O/am\\\\x3dAAAAAAAAAAAAAAAAAAAAAAAAAAAAAAAAAAAAAAAAAAQAAAAAAAAAAAAMAAAYAAAAAAAAAAAAAAAAAAAAAAAAAAAAAAAAAAAAIL4jABAAiwAA8AI/dg\\\\x3d0/rs\\\\x3dACT90oHx_M6Npv1NZwBfAp05Z8-P69iQUA\\',excm:[]};})();</script>       <script nonce=\"JtuVCONraXmqeyUqGgZnTA\">(function(){var u=\\'/xjs/_/js/k\\\\x3dxjs.hp.en.41mDyGO7qog.es5.O/am\\\\x3dAAAAAAAAAAAAAAAAAAAAAAAAAAAAAAAAAAAAAAAAAAQAAAAAAAAAAAAMAAAYAAAAAAAAAAAAAAAAAAAAAAAAAAAAAAAAAAAAIL4jABAAiwAA8AI/d\\\\x3d1/ed\\\\x3d1/dg\\\\x3d3/rs\\\\x3dACT90oHx_M6Npv1NZwBfAp05Z8-P69iQUA/m\\\\x3dsb_he,d\\';var st=1;var amd=1000;var mmd=0;var pod=true;\\nvar e=this||self;function f(){var a,b,d;if(b=a=(b=window.google)==null?void 0:(d=b.ia)==null?void 0:d.r.B2Jtyd)b=a.m,b=b===1||b===5;return b&&a.cbfd!=null&&a.cbvi!=null?a:void 0};function g(){var a=[u];if(!google.dp){for(var b=0;b<a.length;b++){var d=a[b],c=document.createElement(\"link\");c.as=\"script\";c.href=d;c.rel=\"preload\";document.body.appendChild(c)}google.dp=!0}};google.ps===void 0&&(google.ps=[]);function h(){var a=u,b=function(){};google.lx=google.stvsc?b:function(){k(a);google.lx=b};google.bx||google.lx()}function l(a,b){b&&(a.src=b);var d=a.onload;a.onload=function(c){d&&d(c);google.ps=google.ps.filter(function(C){return a!==C})};google.ps.push(a);document.body.appendChild(a)}google.as=l;function k(a){google.timers&&google.timers.load&&google.tick&&google.tick(\"load\",\"xjsls\");var b=document.createElement(\"script\");b.onerror=function(){google.ple=1};b.onload=function(){google.ple=0};google.xjsus=void 0;l(b,a);google.aple=-1;google.dp=!0};function m(a){var b=a.getAttribute(\"jscontroller\");return(b===\"UBXHI\"||b===\"R3fhkb\"||b===\"TSZEqd\")&&a.hasAttribute(\"data-src\")}function n(){for(var a=document.getElementsByTagName(\"img\"),b=0,d=a.length;b<d;b++){var c=a[b];if(c.hasAttribute(\"data-lzy_\")&&Number(c.getAttribute(\"data-atf\"))&1&&!m(c))return!0}return!1}for(var p=document.getElementsByTagName(\"img\"),q=0,r=p.length;q<r;++q){var t=p[q];Number(t.getAttribute(\"data-atf\"))&1&&m(t)&&(t.src=t.getAttribute(\"data-src\"))};var w,x,y,z,A,B;function D(){google.xjsu=u;e._F_jsUrl=u;A=function(){h()};w=!1;x=(st===1||st===3)&&!!google.caft&&!n();y=f();z=(st===2||st===3)&&!!y&&!n();B=pod}function E(){w||x||z||(A(),w=!0)}setTimeout(function(){google&&google.tick&&google.timers&&google.timers.load&&google.tick(\"load\",\"xjspls\");D();if(x||z){if(x){var a=function(){x=!1;E()};google.caft(a);window.setTimeout(a,amd)}z&&(a=function(){z=!1;E()},y.cbvi.push(a),window.setTimeout(a,mmd));B&&(w||g())}else A()},0);})();window._ = window._ || {};window._DumpException = _._DumpException = function(e){throw e;};window._s = window._s || {};_s._DumpException = _._DumpException;window._qs = window._qs || {};_qs._DumpException = _._DumpException;(function(){var t=[4,65536,0,0,0,0,0,0,66560,0,134218752,109844483,171966544,2101248,40960,0,570425344,68435968,10000,149915648,185077760,197132290];window._F_toggles = window._xjs_toggles = t;})();window._F_installCss = window._F_installCss || function(css){};(function(){google.jl={bfl:0,dw:false,ine:false,ubm:false,uwp:true,vs:false};})();(function(){var pmc=\\'{\\\\x22d\\\\x22:{},\\\\x22sb_he\\\\x22:{\\\\x22agen\\\\x22:false,\\\\x22cgen\\\\x22:false,\\\\x22client\\\\x22:\\\\x22heirloom-hp\\\\x22,\\\\x22dh\\\\x22:true,\\\\x22ds\\\\x22:\\\\x22\\\\x22,\\\\x22fl\\\\x22:true,\\\\x22host\\\\x22:\\\\x22google.com\\\\x22,\\\\x22jsonp\\\\x22:true,\\\\x22msgs\\\\x22:{\\\\x22cibl\\\\x22:\\\\x22\\\\\\\\uac80\\\\\\\\uc0c9\\\\\\\\uc5b4 \\\\\\\\uc9c0\\\\\\\\uc6b0\\\\\\\\uae30\\\\x22,\\\\x22dym\\\\x22:\\\\x22\\\\\\\\uc774\\\\\\\\uac83\\\\\\\\uc744 \\\\\\\\ucc3e\\\\\\\\uc73c\\\\\\\\uc168\\\\\\\\ub098\\\\\\\\uc694?\\\\x22,\\\\x22lcky\\\\x22:\\\\x22I\\\\\\\\u2019m Feeling Lucky\\\\x22,\\\\x22lml\\\\x22:\\\\x22\\\\\\\\uc790\\\\\\\\uc138\\\\\\\\ud788 \\\\\\\\uc54c\\\\\\\\uc544\\\\\\\\ubcf4\\\\\\\\uae30\\\\x22,\\\\x22psrc\\\\x22:\\\\x22\\\\\\\\uac80\\\\\\\\uc0c9\\\\\\\\uc5b4\\\\\\\\uac00 \\\\\\\\u003Ca href\\\\x3d\\\\\\\\\\\\x22/history\\\\\\\\\\\\x22\\\\\\\\u003E\\\\\\\\uc6f9 \\\\\\\\uae30\\\\\\\\ub85d\\\\\\\\u003C/a\\\\\\\\u003E\\\\\\\\uc5d0\\\\\\\\uc11c \\\\\\\\uc0ad\\\\\\\\uc81c\\\\\\\\ub418\\\\\\\\uc5c8\\\\\\\\uc2b5\\\\\\\\ub2c8\\\\\\\\ub2e4.\\\\x22,\\\\x22psrl\\\\x22:\\\\x22\\\\\\\\uc0ad\\\\\\\\uc81c\\\\x22,\\\\x22sbit\\\\x22:\\\\x22\\\\\\\\uc774\\\\\\\\ubbf8\\\\\\\\uc9c0\\\\\\\\ub85c \\\\\\\\uac80\\\\\\\\uc0c9\\\\x22,\\\\x22srch\\\\x22:\\\\x22Google \\\\\\\\uac80\\\\\\\\uc0c9\\\\x22},\\\\x22ovr\\\\x22:{},\\\\x22pq\\\\x22:\\\\x22\\\\x22,\\\\x22rfs\\\\x22:[],\\\\x22stok\\\\x22:\\\\x22IsE6bHyIOc5UuYjZzRiObnxC4Gw\\\\x22}}\\';google.pmc=JSON.parse(pmc);})();(function(){var b=function(a){var c=0;return function(){return c<a.length?{done:!1,value:a[c++]}:{done:!0}}};\\nvar e=this||self;var g,h;a:{for(var k=[\"CLOSURE_FLAGS\"],l=e,n=0;n<k.length;n++)if(l=l[k[n]],l==null){h=null;break a}h=l}var p=h&&h[610401301];g=p!=null?p:!1;var q,r=e.navigator;q=r?r.userAgentData||null:null;function t(a){return g?q?q.brands.some(function(c){return(c=c.brand)&&c.indexOf(a)!=-1}):!1:!1}function u(a){var c;a:{if(c=e.navigator)if(c=c.userAgent)break a;c=\"\"}return c.indexOf(a)!=-1};function v(){return g?!!q&&q.brands.length>0:!1}function w(){return u(\"Safari\")&&!(x()||(v()?0:u(\"Coast\"))||(v()?0:u(\"Opera\"))||(v()?0:u(\"Edge\"))||(v()?t(\"Microsoft Edge\"):u(\"Edg/\"))||(v()?t(\"Opera\"):u(\"OPR\"))||u(\"Firefox\")||u(\"FxiOS\")||u(\"Silk\")||u(\"Android\"))}function x(){return v()?t(\"Chromium\"):(u(\"Chrome\")||u(\"CriOS\"))&&!(v()?0:u(\"Edge\"))||u(\"Silk\")}function y(){return u(\"Android\")&&!(x()||u(\"Firefox\")||u(\"FxiOS\")||(v()?0:u(\"Opera\"))||u(\"Silk\"))};var z=v()?!1:u(\"Trident\")||u(\"MSIE\");y();x();w();var A=!z&&!w(),D=function(a){if(/-[a-z]/.test(\"ved\"))return null;if(A&&a.dataset){if(y()&&!(\"ved\"in a.dataset))return null;a=a.dataset.ved;return a===void 0?null:a}return a.getAttribute(\"data-\"+\"ved\".replace(/([A-Z])/g,\"-$1\").toLowerCase())};var E=[],F=null;function G(a){a=a.target;var c=performance.now(),f=[],H=f.concat,d=E;if(!(d instanceof Array)){var m=typeof Symbol!=\"undefined\"&&Symbol.iterator&&d[Symbol.iterator];if(m)d=m.call(d);else if(typeof d.length==\"number\")d={next:b(d)};else throw Error(\"b`\"+String(d));for(var B=[];!(m=d.next()).done;)B.push(m.value);d=B}E=H.call(f,d,[c]);if(a&&a instanceof HTMLElement)if(a===F){if(c=E.length>=4)c=(E[E.length-1]-E[E.length-4])/1E3<5;if(c){c=google.getEI(a);a.hasAttribute(\"data-ved\")?f=a?D(a)||\"\":\"\":f=(f=\\na.closest(\"[data-ved]\"))?D(f)||\"\":\"\";f=f||\"\";if(a.hasAttribute(\"jsname\"))a=a.getAttribute(\"jsname\");else{var C;a=(C=a.closest(\"[jsname]\"))==null?void 0:C.getAttribute(\"jsname\")}google.log(\"rcm\",\"&ei=\"+c+\"&tgtved=\"+f+\"&jsname=\"+(a||\"\"))}}else F=a,E=[c]}window.document.addEventListener(\"DOMContentLoaded\",function(){document.body.addEventListener(\"click\",G)});}).call(this);</script></body></html>'\n"
     ]
    }
   ],
   "source": [
    "# 모듈을 읽어 들입니다.\n",
    "from urllib import request\n",
    "\n",
    "# urlopen() 함수로 구글의 메인 페이지를 읽습니다.\n",
    "target = request.urlopen(\"http://google.com\")\n",
    "output = target.read()\n",
    "\n",
    "# 출력합니다.\n",
    "print(output)"
   ]
  },
  {
   "cell_type": "markdown",
   "metadata": {},
   "source": [
    "패키지\n",
    "\n",
    "* 모듈 (module)\n",
    "\n",
    "* 패키지 관리 시스템 (package Management System)\n",
    "\n",
    "  -> pip\n",
    "\n",
    "     pip를 사용하면 모듈을 설치, 제거 등등 가능\n",
    "\n",
    "     pip install 모듈명"
   ]
  },
  {
   "cell_type": "code",
   "execution_count": 25,
   "metadata": {},
   "outputs": [
    {
     "name": "stdout",
     "output_type": "stream",
     "text": [
      " * Serving Flask app '__main__'\n",
      " * Debug mode: on\n"
     ]
    },
    {
     "name": "stderr",
     "output_type": "stream",
     "text": [
      "WARNING: This is a development server. Do not use it in a production deployment. Use a production WSGI server instead.\n",
      " * Running on http://127.0.0.1:5000\n",
      "Press CTRL+C to quit\n",
      " * Restarting with stat\n"
     ]
    },
    {
     "ename": "SystemExit",
     "evalue": "1",
     "output_type": "error",
     "traceback": [
      "An exception has occurred, use %tb to see the full traceback.\n",
      "\u001b[1;31mSystemExit\u001b[0m\u001b[1;31m:\u001b[0m 1\n"
     ]
    },
    {
     "name": "stderr",
     "output_type": "stream",
     "text": [
      "C:\\Users\\HKIT\\AppData\\Local\\Packages\\PythonSoftwareFoundation.Python.3.11_qbz5n2kfra8p0\\LocalCache\\local-packages\\Python311\\site-packages\\IPython\\core\\interactiveshell.py:3585: UserWarning: To exit: use 'exit', 'quit', or Ctrl-D.\n",
      "  warn(\"To exit: use 'exit', 'quit', or Ctrl-D.\", stacklevel=1)\n"
     ]
    }
   ],
   "source": [
    "from flask import Flask\n",
    "\n",
    "app = Flask(__name__)\n",
    "\n",
    "@app.route(\"/\")\n",
    "def hello():\n",
    "    return \"Hello, World\"\n",
    "\n",
    "if __name__ == '__main__':\n",
    "    app.run(debug=True)"
   ]
  }
 ],
 "metadata": {
  "kernelspec": {
   "display_name": "Python 3",
   "language": "python",
   "name": "python3"
  },
  "language_info": {
   "codemirror_mode": {
    "name": "ipython",
    "version": 3
   },
   "file_extension": ".py",
   "mimetype": "text/x-python",
   "name": "python",
   "nbconvert_exporter": "python",
   "pygments_lexer": "ipython3",
   "version": "3.11.9"
  }
 },
 "nbformat": 4,
 "nbformat_minor": 2
}
