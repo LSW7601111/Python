{
 "cells": [
  {
   "cell_type": "markdown",
   "metadata": {},
   "source": [
    "# Chapter6"
   ]
  },
  {
   "cell_type": "markdown",
   "metadata": {},
   "source": [
    "딕셔너리 \n",
    "\n",
    "키를 기반으로 여러 자료를 저장하는 자료형\n",
    "\n",
    "키 : 딕셔너리 내부에서 값을 접근 할 때 사용하는 것\n",
    "\n",
    "값 : 딕셔너리 내부에 있는 각각의 내용\n",
    "\n",
    "참고로 json과 비슷한 형태이다.\n",
    "json -> 웹 개발 할때 많이 사용하는 것"
   ]
  },
  {
   "cell_type": "code",
   "execution_count": 10,
   "metadata": {},
   "outputs": [],
   "source": [
    "# 변수명 = {} 중광호 사용\n",
    "dict_a = {\n",
    "    # 키 : 값 형태, 키와 값이 페이를 갖는다\n",
    "    \"name\" : \"어벤져스 엔드게임\",\n",
    "    \"typr\" : \"히어로 무비\"\n",
    "}"
   ]
  },
  {
   "cell_type": "code",
   "execution_count": 11,
   "metadata": {},
   "outputs": [
    {
     "data": {
      "text/plain": [
       "'어벤져스 엔드게임'"
      ]
     },
     "execution_count": 11,
     "metadata": {},
     "output_type": "execute_result"
    }
   ],
   "source": [
    "# 딕셔너리 값을 조회\n",
    "dict_a[\"name\"]"
   ]
  },
  {
   "cell_type": "code",
   "execution_count": 12,
   "metadata": {},
   "outputs": [
    {
     "data": {
      "text/plain": [
       "'어벤져스'"
      ]
     },
     "execution_count": 12,
     "metadata": {},
     "output_type": "execute_result"
    }
   ],
   "source": [
    "# 딕셔너리 값을 바꾸기\n",
    "dict_a[\"name\"] = \"어벤져스\"\n",
    "dict_a[\"name\"]"
   ]
  },
  {
   "cell_type": "code",
   "execution_count": 13,
   "metadata": {},
   "outputs": [
    {
     "data": {
      "text/plain": [
       "'20241204'"
      ]
     },
     "execution_count": 13,
     "metadata": {},
     "output_type": "execute_result"
    }
   ],
   "source": [
    "# 딕셔너리에 새로운 키 : 값을 추가하기\n",
    "dict_a[\"date\"] = \"20241204\"\n",
    "dict_a[\"date\"]"
   ]
  },
  {
   "cell_type": "code",
   "execution_count": 17,
   "metadata": {},
   "outputs": [
    {
     "name": "stdout",
     "output_type": "stream",
     "text": [
      "name 7D 건조 망고\n",
      "type 당절임\n",
      "ingtedient ['망고', '설탕', '메타중아황산나트륨', '치자황색소']\n",
      "origin 필리핀\n",
      "\n",
      "name : 7D 건조 망고\n",
      "type : 당절임\n",
      "ingtedient : ['망고', '설탕', '메타중아황산나트륨', '치자황색소']\n",
      "origin : 필리핀\n"
     ]
    }
   ],
   "source": [
    "# 딕셔너리 요소에 접근하기\n",
    "dictionary = {\n",
    "    \"name\" : \"7D 건조 망고\",\n",
    "    \"type\" : \"당절임\",\n",
    "    \"ingtedient\" : [\"망고\", \"설탕\", \"메타중아황산나트륨\", \"치자황색소\"],\n",
    "    \"origin\" : \"필리핀\"\n",
    "}\n",
    "# 출력하기\n",
    "print(\"name\", dictionary[\"name\"])\n",
    "print(\"type\", dictionary[\"type\"])\n",
    "print(\"ingtedient\", dictionary[\"ingtedient\"])\n",
    "print(\"origin\", dictionary[\"origin\"])\n",
    "print()\n",
    "\n",
    "for key, value in dictionary.items():\n",
    "    print(f\"{key} : {value}\")"
   ]
  },
  {
   "cell_type": "code",
   "execution_count": 18,
   "metadata": {},
   "outputs": [
    {
     "name": "stdout",
     "output_type": "stream",
     "text": [
      "name:  8D건조 망고\n"
     ]
    }
   ],
   "source": [
    "#값을 변경하기\n",
    "dictionary[\"name\"] = \"8D건조 망고\"\n",
    "print(\"name: \", dictionary[\"name\"])"
   ]
  },
  {
   "cell_type": "code",
   "execution_count": 19,
   "metadata": {},
   "outputs": [
    {
     "data": {
      "text/plain": [
       "['망고', '설탕', '메타중아황산나트륨', '치자황색소']"
      ]
     },
     "execution_count": 19,
     "metadata": {},
     "output_type": "execute_result"
    }
   ],
   "source": [
    "# 리스트가 값으로 갖는 경우 어떻게 출력을 할까?\n",
    "dictionary[\"ingtedient\"]"
   ]
  },
  {
   "cell_type": "code",
   "execution_count": null,
   "metadata": {},
   "outputs": [],
   "source": [
    "# dictionary[\"ingtedient\"][ \"ingtedient\"]\n",
    "# 리스트 형태의 요소를 출력하는 인덱스\n",
    "# 추가로[]에 인덱스 번호를 넣어믄되\n",
    "dictionary[\"ingtedient\"][1]"
   ]
  },
  {
   "cell_type": "code",
   "execution_count": null,
   "metadata": {},
   "outputs": [],
   "source": [
    "# 딕셔너리의 요소를 제거하는 방법\n",
    "dictionary\n"
   ]
  },
  {
   "cell_type": "code",
   "execution_count": 21,
   "metadata": {},
   "outputs": [],
   "source": [
    "del dictionary[\"origin\"]"
   ]
  },
  {
   "cell_type": "code",
   "execution_count": null,
   "metadata": {},
   "outputs": [],
   "source": [
    "# 딕셔너리 내부 검색\n",
    "# in 키워드\n",
    "# 이전에 선언된 dictionary를 이용\n",
    "\n",
    "key = input(\">접근하고자 하는 키워\")\n",
    "#출력 부분\n",
    "if key in dictionary:\n",
    "    print(dictionary[key])\n",
    "else:\n",
    "    print(\"존재하지 않는 키에 접근하고 있습니다.\")\n"
   ]
  },
  {
   "cell_type": "code",
   "execution_count": null,
   "metadata": {},
   "outputs": [],
   "source": [
    "# get() 함수\n",
    "\n",
    "# 존재하지 않는 키에 접근해 봅니다.\n",
    "value = dictionary.get(\"존재하지 않는 키\")\n",
    "print(\"값 : \", value)\n",
    "\n",
    "#Npne 확인방법\n",
    "if value == Npne:\n",
    "    print(\"d존재 하지 않는 키\")"
   ]
  },
  {
   "cell_type": "markdown",
   "metadata": {},
   "source": [
    "연습문제"
   ]
  },
  {
   "cell_type": "code",
   "execution_count": 38,
   "metadata": {},
   "outputs": [
    {
     "name": "stdout",
     "output_type": "stream",
     "text": [
      "Allice 25\n"
     ]
    }
   ],
   "source": [
    "# 문제 : 아래의 딕셔너리를 생성한 후 name과 age 값을 출력하세요\n",
    "\n",
    "# person 딕셔너니\n",
    "# 키 : 값\n",
    "#\"name\" : \"Allice\"\n",
    "#\"age\" : \"25\"\n",
    "#\"city\" : \"Seoul\"\n",
    "\n",
    "person = {\n",
    "    \"name\" : \"Allice\",\n",
    "    \"age\" : \"25\",\n",
    "    \"city\" : \"Seoul\"\n",
    "}\n",
    "print(person[\"name\"], person[\"age\"])\n"
   ]
  },
  {
   "cell_type": "code",
   "execution_count": 35,
   "metadata": {},
   "outputs": [
    {
     "name": "stdout",
     "output_type": "stream",
     "text": [
      "30\n"
     ]
    }
   ],
   "source": [
    "# 3) 딕셔너리에서 age를 30으로 업데이트 하세요\n",
    "person[\"age\"] = \"30\"\n",
    "print(person[\"age\"])"
   ]
  },
  {
   "cell_type": "code",
   "execution_count": 32,
   "metadata": {},
   "outputs": [
    {
     "name": "stdout",
     "output_type": "stream",
     "text": [
      "Developer\n"
     ]
    }
   ],
   "source": [
    "# 4) 딕셔너리에 \"job\" 키를 추가하고 \"Developer\"로 설정하세요\n",
    "person[\"job\"] = \"Developer\"\n",
    "print(person[\"job\"])"
   ]
  },
  {
   "cell_type": "code",
   "execution_count": 39,
   "metadata": {},
   "outputs": [
    {
     "name": "stdout",
     "output_type": "stream",
     "text": [
      "{'name': 'Allice', 'age': '25'}\n"
     ]
    }
   ],
   "source": [
    "# 5) 딕셔너리에서 \"city\" 키를 삭제하세요\n",
    "del person[\"city\"]\n",
    "print(person)"
   ]
  },
  {
   "cell_type": "code",
   "execution_count": 43,
   "metadata": {},
   "outputs": [
    {
     "name": "stdout",
     "output_type": "stream",
     "text": [
      "Allice\n",
      "키가 존재 합니다.\n"
     ]
    }
   ],
   "source": [
    "# 6) 딕셔너리에서 \"name\"라는 키가 존재하는 지 확인하는 코드 작성하시오\n",
    "\n",
    "# 1. if문 + in 사용하는 방식\n",
    "key = input(\">접근하고자 하는 키워\")\n",
    "#출력 부분\n",
    "if key in person:\n",
    "    print(person[key])\n",
    "else:\n",
    "    print(\"존재하지 않는 키에 접근하고 있습니다.\")\n",
    "\n",
    "# 2. get() 함수를 이용하는 방법\n",
    "value = dictionary.get(\"name\")\n",
    "if value == None:\n",
    "    print(\"키가 존재하지 않습니다.\")\n",
    "else:\n",
    "    print(\"키가 존재 합니다.\")    "
   ]
  },
  {
   "cell_type": "markdown",
   "metadata": {},
   "source": [
    "값이 있는지 확인하는 방법\n",
    "values()"
   ]
  },
  {
   "cell_type": "code",
   "execution_count": null,
   "metadata": {},
   "outputs": [],
   "source": [
    "if \"Alice\" in person.values():\n",
    "    print(\"값이 존재합니다.\")\n",
    "else:    \n",
    "    print(\"값이 존재 하지 않습니다.\")"
   ]
  },
  {
   "cell_type": "markdown",
   "metadata": {},
   "source": [
    "문자열, 리스트, 딕셔너리와 관련된 기본함수"
   ]
  },
  {
   "cell_type": "code",
   "execution_count": 48,
   "metadata": {},
   "outputs": [
    {
     "name": "stdout",
     "output_type": "stream",
     "text": [
      "텍스트1텍스트2\n"
     ]
    }
   ],
   "source": [
    "# 문자열 연결 연산자 : +\n",
    "text1 = \"텍스트1\"; text2 =  \"텍스트2\"\n",
    "print(text1 + text2)"
   ]
  },
  {
   "cell_type": "code",
   "execution_count": 49,
   "metadata": {},
   "outputs": [
    {
     "name": "stdout",
     "output_type": "stream",
     "text": [
      "안녕하세요안녕하세요안녕하세요\n"
     ]
    }
   ],
   "source": [
    "# 문자열 반복 연산자 : *\n",
    "print(3*\"안녕하세요\")"
   ]
  },
  {
   "cell_type": "code",
   "execution_count": null,
   "metadata": {},
   "outputs": [
    {
     "name": "stdout",
     "output_type": "stream",
     "text": [
      "==================================================="
     ]
    }
   ],
   "source": [
    "# print문에 end =  옵션을 안넣어주면 다음 출력으로 넘어감\n",
    "# end옵션을 사용해서 넣어주면 옆으로 붙어서 출력됨\n",
    "\n",
    "for i in range(0, 51, 1):\n",
    "    print(\"=\", end=\"\")"
   ]
  },
  {
   "cell_type": "markdown",
   "metadata": {},
   "source": [
    "## 인덱싱 - 많이 사용\n",
    "    문자열 내부 문자 하나를 선택\n",
    "    문자열 외에도 리스트형 자료에 인덱싱을 사용함\n",
    "    python은 0인덱스로 : 숫자를 0부터 셈"
   ]
  },
  {
   "cell_type": "code",
   "execution_count": 57,
   "metadata": {},
   "outputs": [
    {
     "name": "stdout",
     "output_type": "stream",
     "text": [
      "녕\n"
     ]
    }
   ],
   "source": [
    "text = \"안녕하세요\"\n",
    "print(text[1])"
   ]
  },
  {
   "cell_type": "code",
   "execution_count": 58,
   "metadata": {},
   "outputs": [
    {
     "name": "stdout",
     "output_type": "stream",
     "text": [
      "요\n"
     ]
    }
   ],
   "source": [
    "#문자를 거꾸로 출력하는것\n",
    "text = \"안녕하세요\"\n",
    "print(text[-1])"
   ]
  },
  {
   "cell_type": "code",
   "execution_count": null,
   "metadata": {},
   "outputs": [
    {
     "name": "stdout",
     "output_type": "stream",
     "text": [
      "녕하세\n"
     ]
    }
   ],
   "source": [
    "# 문자열 범위 선택 연산자(슬라이싱) : [:]\n",
    "# 문자열의 특정 범위를 선택\n",
    "# 대괄호 안에 범위 구분위치를 콜론으로 구분\n",
    "text = \"안녕하세요\"\n",
    "print(text[1:4])\n",
    "# range(0,5) -> 0,1,2,3,4\n",
    "# text[1:4] -> 1번째,2번째,3번째 까지만\n",
    "#처음은 포함이 되고, 마지막은 빠짐"
   ]
  },
  {
   "cell_type": "code",
   "execution_count": 68,
   "metadata": {},
   "outputs": [
    {
     "name": "stdout",
     "output_type": "stream",
     "text": [
      "['Seoul', 'Suwon']\n",
      "['Seoul', 'Suwon', 'Daegu']\n",
      "['Seoul', 'Daegu']\n"
     ]
    }
   ],
   "source": [
    "# 문자열 뿐만이 아니라 리스트형 자료형도 슬라이싱 가능\n",
    "\n",
    "city = [\"Seoul\", \"Suwon\", \"Daegu\", \"Busan\", \"Incheon\"]\n",
    "# 리스트형(List) => 괄호가 [] 대괄호\n",
    "# 딕셔너리(dictionary) => 괄호가 {} 중괄호\n",
    "\n",
    "print(city[0:2]) # 시작점 포함,  끝점 제외, 1씩 증가\n",
    "# 0, 1, 후 2는 제외\n",
    "print(city[-5:-2])\n",
    "# -5, -4, -3, 후 -2는 제외\n",
    "print(city[-5:-1:2]) #시작점 포함, 끝점 제외, 2씩 증가\n",
    "# -5, -3 후 -1는 제외"
   ]
  },
  {
   "cell_type": "markdown",
   "metadata": {},
   "source": [
    "Len() 함수\n",
    "\n",
    "문자열 길이를 구할 때나 리스트 자료형의 길이를 구할 때 사용"
   ]
  },
  {
   "cell_type": "code",
   "execution_count": 70,
   "metadata": {},
   "outputs": [
    {
     "name": "stdout",
     "output_type": "stream",
     "text": [
      "안녕하세요\n",
      "5\n",
      "['Seoul', 'Suwon', 'Daegu', 'Busan', 'Incheon']\n",
      "5\n"
     ]
    }
   ],
   "source": [
    "print(text)\n",
    "print(len(text))\n",
    "print(city)\n",
    "print(len(city))"
   ]
  },
  {
   "cell_type": "markdown",
   "metadata": {},
   "source": [
    "참고 \n",
    "\n",
    "python에서 변수 출력하는 방법 3가지\n",
    "\n",
    "1. % 포멧 연산자(이전방식)\n",
    "\n",
    "   ex) name = \"망고\"\n",
    "\n",
    "       type = \"건조과일\"\n",
    "\n",
    "       print(\"과일이름 : %d, 종류 : %d\" % (name, type))\n",
    "\n",
    "2. f-strings(포멧 문자열 리터럴)\n",
    "\n",
    "   ex) name = \"망고\"\n",
    "\n",
    "       type = \"건조과일\"\n",
    "\n",
    "       print(f\"과일 이름: {name}, 종류 : {type})\n",
    "\n",
    "3. str.format() 메서드\n",
    "\n",
    "   ex) name = \"망고\"\n",
    "\n",
    "       type = \"건조과일\"\n",
    "       \n",
    "       print(\"과일 이름: {}, 종류 : {}\".format(name, type))"
   ]
  },
  {
   "cell_type": "code",
   "execution_count": 74,
   "metadata": {},
   "outputs": [
    {
     "name": "stdout",
     "output_type": "stream",
     "text": [
      "5000만 원\n",
      "1 문자열 True\n"
     ]
    }
   ],
   "source": [
    "format_a = \"{}만 원\". format(5000)\n",
    "format_d = \"{} {} {}\". format(1, \"문자열\", True)\n",
    "print(format_a)\n",
    "print(format_d)"
   ]
  },
  {
   "cell_type": "code",
   "execution_count": 76,
   "metadata": {},
   "outputs": [
    {
     "name": "stdout",
     "output_type": "stream",
     "text": [
      "5000만원\n",
      "1 문자열 True\n"
     ]
    }
   ],
   "source": [
    "# format_a = \"{}만 원\". format(5000)\n",
    "# format_d = \"{} {} {}\". format(1, \"문자열\", True)\n",
    "a = 5000; b = 1; c = \"문자열\"; d = True\n",
    "print(f\"{a}만원\")\n",
    "print(f\"{b} {c} {d}\")\n",
    "# print(format_d)"
   ]
  },
  {
   "cell_type": "markdown",
   "metadata": {},
   "source": [
    "정수 출력의 다양한 형태 -      f-strings "
   ]
  },
  {
   "cell_type": "code",
   "execution_count": null,
   "metadata": {},
   "outputs": [
    {
     "name": "stdout",
     "output_type": "stream",
     "text": [
      "52\n",
      "특정 칸에 출력하기\n",
      "   52\n",
      "   52\n"
     ]
    }
   ],
   "source": [
    "number = 52\n",
    "output_a =  f\"{number:d}\"\n",
    "# 특정 칸에 출력하기\n",
    "output_b = f\"{number:5d}\" # 총 5칸으로 하고 오른쪽 정렬 후 출력\n",
    "\n",
    "output_d = f\"{number:05d}\" # 총 5칸으로 하고 0으로 빈칸채우기\n",
    "\n",
    "print(output_a)\n",
    "\n",
    "print(\"특정 칸에 출력하기\")\n",
    "print(output_b)\n",
    "print(\"%5d\" % number)\n",
    "print(output_d)"
   ]
  },
  {
   "cell_type": "code",
   "execution_count": 81,
   "metadata": {},
   "outputs": [
    {
     "name": "stdout",
     "output_type": "stream",
     "text": [
      "52\n",
      "특정 칸에 출력하기\n",
      "   52\n",
      "   52\n",
      "00052\n",
      "-0052\n"
     ]
    }
   ],
   "source": [
    "number = 52\n",
    "number2 = -52\n",
    "output_a =  f\"{number:d}\"\n",
    "# 특정 칸에 출력하기\n",
    "output_b = f\"{number:5d}\" # 총 5칸으로 하고 오른쪽 정렬 후 출력\n",
    "\n",
    "output_d = f\"{number:05d}\" # 총 5칸으로 하고 0으로 빈칸채우기\n",
    "\n",
    "output_e = f\"{number2:05d}\" # 총 5칸으로 하고 0으로 빈칸채우기\n",
    "\n",
    "print(output_a)\n",
    "\n",
    "print(\"특정 칸에 출력하기\")\n",
    "print(output_b)\n",
    "print(\"%5d\" % number)\n",
    "print(output_d)\n",
    "print(output_e)"
   ]
  },
  {
   "cell_type": "code",
   "execution_count": 83,
   "metadata": {},
   "outputs": [
    {
     "name": "stdout",
     "output_type": "stream",
     "text": [
      "+52\n",
      "-52\n",
      " 52\n",
      "-52\n"
     ]
    }
   ],
   "source": [
    "# 기호와 함께 출력하기\n",
    "number = 52\n",
    "number2 = -52\n",
    "output_f = f\"{number:+d}\" # 양수, +가 추가되어 출력\n",
    "output_g = f\"{number2:+d}\" # 음수, -가 추가되어 출력\n",
    "output_h = f\"{number: d}\" # 양수, 기호 부분 공백\n",
    "output_i = f\"{number2: d}\" # 음수, 기호 부분 공백 하지만 음수라 -로 표기\n",
    "\n",
    "# print(#기호와 함께 출력하기)\n",
    "print(output_f);print(output_g);print(output_h);print(output_i);\n"
   ]
  },
  {
   "cell_type": "markdown",
   "metadata": {},
   "source": [
    "소수점 아래 자릿수 지정하기"
   ]
  },
  {
   "cell_type": "code",
   "execution_count": 84,
   "metadata": {},
   "outputs": [
    {
     "name": "stdout",
     "output_type": "stream",
     "text": [
      "         52.273\n",
      "          52.27\n",
      "           52.3\n"
     ]
    }
   ],
   "source": [
    "number = 52.273\n",
    "\n",
    "output_a = f\"{number:15.3f}\" \n",
    "output_b = f\"{number:15.2f}\" \n",
    "output_c = f\"{number:15.1f}\" \n",
    "\n",
    "print(output_a);print(output_b);print(output_c);"
   ]
  },
  {
   "cell_type": "markdown",
   "metadata": {},
   "source": [
    "의미 없는 소수점 제거하기\n",
    "\n",
    "{:g}"
   ]
  },
  {
   "cell_type": "code",
   "execution_count": 86,
   "metadata": {},
   "outputs": [
    {
     "name": "stdout",
     "output_type": "stream",
     "text": [
      "52.0\n",
      "52\n"
     ]
    }
   ],
   "source": [
    "output_a = 52.0\n",
    "output_b =  f\"{output_a:g}\"\n",
    "print(output_a)\n",
    "print(output_b)"
   ]
  },
  {
   "cell_type": "code",
   "execution_count": 88,
   "metadata": {},
   "outputs": [
    {
     "name": "stdout",
     "output_type": "stream",
     "text": [
      "2.0\n",
      "2\n"
     ]
    }
   ],
   "source": [
    "num1 = 20\n",
    "num2 = 10\n",
    "print(num1/num2) # 정수를 연산했기 때문에 정수가 나오면 좋겠다\n",
    "print(f\"{num1/num2:g}\")"
   ]
  },
  {
   "cell_type": "markdown",
   "metadata": {},
   "source": [
    "문자열 다루기\n",
    "\n",
    "문자열 변수.upper() -> 모두 대문자로 변경\n",
    "\n",
    "문자열 변수.lower() -> 모두 소문자로 변경"
   ]
  },
  {
   "cell_type": "code",
   "execution_count": 90,
   "metadata": {},
   "outputs": [
    {
     "name": "stdout",
     "output_type": "stream",
     "text": [
      "DAEGU\n",
      "daegu\n"
     ]
    }
   ],
   "source": [
    "a = \"Daegu\"\n",
    "print(a.upper())\n",
    "print(a.lower())"
   ]
  },
  {
   "cell_type": "markdown",
   "metadata": {},
   "source": [
    "strip() 함수, lstrip() 함수, rstrip() 함수\n",
    "\n",
    "strip() 함수 : 문자열 양 쪽 끝의 공백 또는 지정된 문자를 제거\n",
    "\n",
    "lstrip() 함수 : 문자열 왼쪽(시작 부분)에서 공백 또는 지정된 문자를 제거\n",
    "\n",
    "rstrip() 함수 : 문자열 오른쪽(끝 부분)에서 공백 또는 지정된 문자를 제거"
   ]
  },
  {
   "cell_type": "code",
   "execution_count": null,
   "metadata": {},
   "outputs": [
    {
     "name": "stdout",
     "output_type": "stream",
     "text": [
      "Hello, World\n",
      "Hello, World   \n",
      "   Hello, World\n",
      " ###Hello, World###   \n"
     ]
    }
   ],
   "source": [
    "text = \"   Hello, World   \"\n",
    "print(text.strip())\n",
    "print(text.lstrip())\n",
    "print(text.rstrip())\n",
    "\n",
    "text = \" ###Hello, World###   \" # 공백이 있을시에는 스트립은 처리를 못하니 확인을 해야한다\n",
    "print(text.strip(\"#\"))           # 1. 만들때 옆에 공백을 제거 후 샾을 제거 하는 방법 연구\n",
    "                                 # 2. 공백이 있어도 샾을 제거 할 수 있는 방법을 연구"
   ]
  },
  {
   "cell_type": "code",
   "execution_count": 107,
   "metadata": {},
   "outputs": [
    {
     "name": "stdout",
     "output_type": "stream",
     "text": [
      "Hello, World   \n",
      "  ###Hello, World###   \n"
     ]
    }
   ],
   "source": [
    "text = \"   Hello, World   \"\n",
    "print(text.lstrip())\n",
    "\n",
    "text = \"  ###Hello, World###   \"\n",
    "print(text.lstrip(\"#\"))\n"
   ]
  },
  {
   "cell_type": "markdown",
   "metadata": {},
   "source": [
    "정규 표현식 (Regular Expression)\n",
    "\n",
    "패턴을 기반으로 문자열을 검색, 추출, 수정하고 검증하는 방법입니다.\n",
    "\n",
    "ex) 회원가입 - 이메일 형식 검증 => 정규 표현식"
   ]
  },
  {
   "cell_type": "code",
   "execution_count": 101,
   "metadata": {},
   "outputs": [
    {
     "name": "stdout",
     "output_type": "stream",
     "text": [
      "유효한 이메일 주소입니다.\n"
     ]
    }
   ],
   "source": [
    "import re\n",
    "email = \"example@domain.com\"\n",
    "pattern = r\"^[a-zA-Z0-9._%+-]+@[a-zA-Z0-9.-]+\\.[a-zA-Z]{2,}$\"\n",
    "if re.match(pattern, email):\n",
    "    print(\"유효한 이메일 주소입니다.\")\n",
    "else:\n",
    "    print(\"유효하지 않은 이메일 주소입니다.\")"
   ]
  },
  {
   "cell_type": "markdown",
   "metadata": {},
   "source": [
    "문자열을 찾는 함수\n",
    "\n",
    "find() : 왼쪽부터 찾아서 처음 등장하는 위치를 찾음\n",
    "\n",
    "rfind() : 오른쪽부터 찾아서 처음 등장하는 위치를 찾음"
   ]
  },
  {
   "cell_type": "code",
   "execution_count": 103,
   "metadata": {},
   "outputs": [
    {
     "name": "stdout",
     "output_type": "stream",
     "text": [
      "0\n",
      "2\n"
     ]
    }
   ],
   "source": [
    "output_a = \"안녕안녕하세요\".find(\"안녕\")\n",
    "print(output_a)\n",
    "\n",
    "output_b = \"안녕안녕하세요\".rfind(\"안녕\")\n",
    "print(output_b)"
   ]
  }
 ],
 "metadata": {
  "kernelspec": {
   "display_name": "Python 3",
   "language": "python",
   "name": "python3"
  },
  "language_info": {
   "codemirror_mode": {
    "name": "ipython",
    "version": 3
   },
   "file_extension": ".py",
   "mimetype": "text/x-python",
   "name": "python",
   "nbconvert_exporter": "python",
   "pygments_lexer": "ipython3",
   "version": "3.11.9"
  }
 },
 "nbformat": 4,
 "nbformat_minor": 2
}
