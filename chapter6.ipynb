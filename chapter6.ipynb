{
 "cells": [
  {
   "cell_type": "markdown",
   "metadata": {},
   "source": [
    "# Chapter6"
   ]
  },
  {
   "cell_type": "markdown",
   "metadata": {},
   "source": [
    "딕셔너리 \n",
    "\n",
    "키를 기반으로 여러 자료를 저장하는 자료형\n",
    "\n",
    "키 : 딕셔너리 내부에서 값을 접근 할 때 사용하는 것\n",
    "\n",
    "값 : 딕셔너리 내부에 있는 각각의 내용\n",
    "\n",
    "참고로 json과 비슷한 형태이다.\n",
    "json -> 웹 개발 할때 많이 사용하는 것"
   ]
  },
  {
   "cell_type": "code",
   "execution_count": 10,
   "metadata": {},
   "outputs": [],
   "source": [
    "# 변수명 = {} 중광호 사용\n",
    "dict_a = {\n",
    "    # 키 : 값 형태, 키와 값이 페이를 갖는다\n",
    "    \"name\" : \"어벤져스 엔드게임\",\n",
    "    \"typr\" : \"히어로 무비\"\n",
    "}"
   ]
  },
  {
   "cell_type": "code",
   "execution_count": 11,
   "metadata": {},
   "outputs": [
    {
     "data": {
      "text/plain": [
       "'어벤져스 엔드게임'"
      ]
     },
     "execution_count": 11,
     "metadata": {},
     "output_type": "execute_result"
    }
   ],
   "source": [
    "# 딕셔너리 값을 조회\n",
    "dict_a[\"name\"]"
   ]
  },
  {
   "cell_type": "code",
   "execution_count": 12,
   "metadata": {},
   "outputs": [
    {
     "data": {
      "text/plain": [
       "'어벤져스'"
      ]
     },
     "execution_count": 12,
     "metadata": {},
     "output_type": "execute_result"
    }
   ],
   "source": [
    "# 딕셔너리 값을 바꾸기\n",
    "dict_a[\"name\"] = \"어벤져스\"\n",
    "dict_a[\"name\"]"
   ]
  },
  {
   "cell_type": "code",
   "execution_count": 13,
   "metadata": {},
   "outputs": [
    {
     "data": {
      "text/plain": [
       "'20241204'"
      ]
     },
     "execution_count": 13,
     "metadata": {},
     "output_type": "execute_result"
    }
   ],
   "source": [
    "# 딕셔너리에 새로운 키 : 값을 추가하기\n",
    "dict_a[\"date\"] = \"20241204\"\n",
    "dict_a[\"date\"]"
   ]
  },
  {
   "cell_type": "code",
   "execution_count": 17,
   "metadata": {},
   "outputs": [
    {
     "name": "stdout",
     "output_type": "stream",
     "text": [
      "name 7D 건조 망고\n",
      "type 당절임\n",
      "ingtedient ['망고', '설탕', '메타중아황산나트륨', '치자황색소']\n",
      "origin 필리핀\n",
      "\n",
      "name : 7D 건조 망고\n",
      "type : 당절임\n",
      "ingtedient : ['망고', '설탕', '메타중아황산나트륨', '치자황색소']\n",
      "origin : 필리핀\n"
     ]
    }
   ],
   "source": [
    "# 딕셔너리 요소에 접근하기\n",
    "dictionary = {\n",
    "    \"name\" : \"7D 건조 망고\",\n",
    "    \"type\" : \"당절임\",\n",
    "    \"ingtedient\" : [\"망고\", \"설탕\", \"메타중아황산나트륨\", \"치자황색소\"],\n",
    "    \"origin\" : \"필리핀\"\n",
    "}\n",
    "# 출력하기\n",
    "print(\"name\", dictionary[\"name\"])\n",
    "print(\"type\", dictionary[\"type\"])\n",
    "print(\"ingtedient\", dictionary[\"ingtedient\"])\n",
    "print(\"origin\", dictionary[\"origin\"])\n",
    "print()\n",
    "\n",
    "for key, value in dictionary.items():\n",
    "    print(f\"{key} : {value}\")"
   ]
  },
  {
   "cell_type": "code",
   "execution_count": 18,
   "metadata": {},
   "outputs": [
    {
     "name": "stdout",
     "output_type": "stream",
     "text": [
      "name:  8D건조 망고\n"
     ]
    }
   ],
   "source": [
    "#값을 변경하기\n",
    "dictionary[\"name\"] = \"8D건조 망고\"\n",
    "print(\"name: \", dictionary[\"name\"])"
   ]
  },
  {
   "cell_type": "code",
   "execution_count": 19,
   "metadata": {},
   "outputs": [
    {
     "data": {
      "text/plain": [
       "['망고', '설탕', '메타중아황산나트륨', '치자황색소']"
      ]
     },
     "execution_count": 19,
     "metadata": {},
     "output_type": "execute_result"
    }
   ],
   "source": [
    "# 리스트가 값으로 갖는 경우 어떻게 출력을 할까?\n",
    "dictionary[\"ingtedient\"]"
   ]
  },
  {
   "cell_type": "code",
   "execution_count": null,
   "metadata": {},
   "outputs": [],
   "source": [
    "# dictionary[\"ingtedient\"][ \"ingtedient\"]\n",
    "# 리스트 형태의 요소를 출력하는 인덱스\n",
    "# 추가로[]에 인덱스 번호를 넣어믄되\n",
    "dictionary[\"ingtedient\"][1]"
   ]
  },
  {
   "cell_type": "code",
   "execution_count": null,
   "metadata": {},
   "outputs": [],
   "source": [
    "# 딕셔너리의 요소를 제거하는 방법\n",
    "dictionary\n"
   ]
  },
  {
   "cell_type": "code",
   "execution_count": 21,
   "metadata": {},
   "outputs": [],
   "source": [
    "del dictionary[\"origin\"]"
   ]
  },
  {
   "cell_type": "code",
   "execution_count": null,
   "metadata": {},
   "outputs": [],
   "source": [
    "# 딕셔너리 내부 검색\n",
    "# in 키워드\n",
    "# 이전에 선언된 dictionary를 이용\n",
    "\n",
    "key = input(\">접근하고자 하는 키워\")\n",
    "#출력 부분\n",
    "if key in dictionary:\n",
    "    print(dictionary[key])\n",
    "else:\n",
    "    print(\"존재하지 않는 키에 접근하고 있습니다.\")\n"
   ]
  },
  {
   "cell_type": "code",
   "execution_count": null,
   "metadata": {},
   "outputs": [],
   "source": [
    "# get() 함수\n",
    "\n",
    "# 존재하지 않는 키에 접근해 봅니다.\n",
    "value = dictionary.get(\"존재하지 않는 키\")\n",
    "print(\"값 : \", value)\n",
    "\n",
    "#Npne 확인방법\n",
    "if value == Npne:\n",
    "    print(\"d존재 하지 않는 키\")"
   ]
  },
  {
   "cell_type": "markdown",
   "metadata": {},
   "source": [
    "연습문제"
   ]
  },
  {
   "cell_type": "code",
   "execution_count": 38,
   "metadata": {},
   "outputs": [
    {
     "name": "stdout",
     "output_type": "stream",
     "text": [
      "Allice 25\n"
     ]
    }
   ],
   "source": [
    "# 문제 : 아래의 딕셔너리를 생성한 후 name과 age 값을 출력하세요\n",
    "\n",
    "# person 딕셔너니\n",
    "# 키 : 값\n",
    "#\"name\" : \"Allice\"\n",
    "#\"age\" : \"25\"\n",
    "#\"city\" : \"Seoul\"\n",
    "\n",
    "person = {\n",
    "    \"name\" : \"Allice\",\n",
    "    \"age\" : \"25\",\n",
    "    \"city\" : \"Seoul\"\n",
    "}\n",
    "print(person[\"name\"], person[\"age\"])\n"
   ]
  },
  {
   "cell_type": "code",
   "execution_count": 35,
   "metadata": {},
   "outputs": [
    {
     "name": "stdout",
     "output_type": "stream",
     "text": [
      "30\n"
     ]
    }
   ],
   "source": [
    "# 3) 딕셔너리에서 age를 30으로 업데이트 하세요\n",
    "person[\"age\"] = \"30\"\n",
    "print(person[\"age\"])"
   ]
  },
  {
   "cell_type": "code",
   "execution_count": 32,
   "metadata": {},
   "outputs": [
    {
     "name": "stdout",
     "output_type": "stream",
     "text": [
      "Developer\n"
     ]
    }
   ],
   "source": [
    "# 4) 딕셔너리에 \"job\" 키를 추가하고 \"Developer\"로 설정하세요\n",
    "person[\"job\"] = \"Developer\"\n",
    "print(person[\"job\"])"
   ]
  },
  {
   "cell_type": "code",
   "execution_count": 39,
   "metadata": {},
   "outputs": [
    {
     "name": "stdout",
     "output_type": "stream",
     "text": [
      "{'name': 'Allice', 'age': '25'}\n"
     ]
    }
   ],
   "source": [
    "# 5) 딕셔너리에서 \"city\" 키를 삭제하세요\n",
    "del person[\"city\"]\n",
    "print(person)"
   ]
  },
  {
   "cell_type": "code",
   "execution_count": 43,
   "metadata": {},
   "outputs": [
    {
     "name": "stdout",
     "output_type": "stream",
     "text": [
      "Allice\n",
      "키가 존재 합니다.\n"
     ]
    }
   ],
   "source": [
    "# 6) 딕셔너리에서 \"name\"라는 키가 존재하는 지 확인하는 코드 작성하시오\n",
    "\n",
    "# 1. if문 + in 사용하는 방식\n",
    "key = input(\">접근하고자 하는 키워\")\n",
    "#출력 부분\n",
    "if key in person:\n",
    "    print(person[key])\n",
    "else:\n",
    "    print(\"존재하지 않는 키에 접근하고 있습니다.\")\n",
    "\n",
    "# 2. get() 함수를 이용하는 방법\n",
    "value = dictionary.get(\"name\")\n",
    "if value == None:\n",
    "    print(\"키가 존재하지 않습니다.\")\n",
    "else:\n",
    "    print(\"키가 존재 합니다.\")    "
   ]
  },
  {
   "cell_type": "markdown",
   "metadata": {},
   "source": [
    "값이 있는지 확인하는 방법\n",
    "values()"
   ]
  },
  {
   "cell_type": "code",
   "execution_count": null,
   "metadata": {},
   "outputs": [],
   "source": [
    "if \"Alice\" in person.values():\n",
    "    print(\"값이 존재합니다.\")\n",
    "else:    \n",
    "    print(\"값이 존재 하지 않습니다.\")"
   ]
  },
  {
   "cell_type": "markdown",
   "metadata": {},
   "source": [
    "문자열, 리스트, 딕셔너리와 관련된 기본함수"
   ]
  },
  {
   "cell_type": "code",
   "execution_count": 48,
   "metadata": {},
   "outputs": [
    {
     "name": "stdout",
     "output_type": "stream",
     "text": [
      "텍스트1텍스트2\n"
     ]
    }
   ],
   "source": [
    "# 문자열 연결 연산자 : +\n",
    "text1 = \"텍스트1\"; text2 =  \"텍스트2\"\n",
    "print(text1 + text2)"
   ]
  },
  {
   "cell_type": "code",
   "execution_count": 49,
   "metadata": {},
   "outputs": [
    {
     "name": "stdout",
     "output_type": "stream",
     "text": [
      "안녕하세요안녕하세요안녕하세요\n"
     ]
    }
   ],
   "source": [
    "# 문자열 반복 연산자 : *\n",
    "print(3*\"안녕하세요\")"
   ]
  },
  {
   "cell_type": "code",
   "execution_count": null,
   "metadata": {},
   "outputs": [
    {
     "name": "stdout",
     "output_type": "stream",
     "text": [
      "==================================================="
     ]
    }
   ],
   "source": [
    "# print문에 end =  옵션을 안넣어주면 다음 출력으로 넘어감\n",
    "# end옵션을 사용해서 넣어주면 옆으로 붙어서 출력됨\n",
    "\n",
    "for i in range(0, 51, 1):\n",
    "    print(\"=\", end=\"\")"
   ]
  },
  {
   "cell_type": "markdown",
   "metadata": {},
   "source": [
    "## 인덱싱 - 많이 사용\n",
    "    문자열 내부 문자 하나를 선택\n",
    "    문자열 외에도 리스트형 자료에 인덱싱을 사용함\n",
    "    python은 0인덱스로 : 숫자를 0부터 셈"
   ]
  },
  {
   "cell_type": "code",
   "execution_count": 57,
   "metadata": {},
   "outputs": [
    {
     "name": "stdout",
     "output_type": "stream",
     "text": [
      "녕\n"
     ]
    }
   ],
   "source": [
    "text = \"안녕하세요\"\n",
    "print(text[1])"
   ]
  },
  {
   "cell_type": "code",
   "execution_count": 58,
   "metadata": {},
   "outputs": [
    {
     "name": "stdout",
     "output_type": "stream",
     "text": [
      "요\n"
     ]
    }
   ],
   "source": [
    "#문자를 거꾸로 출력하는것\n",
    "text = \"안녕하세요\"\n",
    "print(text[-1])"
   ]
  },
  {
   "cell_type": "code",
   "execution_count": null,
   "metadata": {},
   "outputs": [
    {
     "name": "stdout",
     "output_type": "stream",
     "text": [
      "녕하세\n"
     ]
    }
   ],
   "source": [
    "# 문자열 범위 선택 연산자(슬라이싱) : [:]\n",
    "# 문자열의 특정 범위를 선택\n",
    "# 대괄호 안에 범위 구분위치를 콜론으로 구분\n",
    "text = \"안녕하세요\"\n",
    "print(text[1:4])\n",
    "# range(0,5) -> 0,1,2,3,4\n",
    "# text[1:4] -> 1번째,2번째,3번째 까지만\n",
    "#처음은 포함이 되고, 마지막은 빠짐"
   ]
  }
 ],
 "metadata": {
  "kernelspec": {
   "display_name": "Python 3",
   "language": "python",
   "name": "python3"
  },
  "language_info": {
   "codemirror_mode": {
    "name": "ipython",
    "version": 3
   },
   "file_extension": ".py",
   "mimetype": "text/x-python",
   "name": "python",
   "nbconvert_exporter": "python",
   "pygments_lexer": "ipython3",
   "version": "3.11.9"
  }
 },
 "nbformat": 4,
 "nbformat_minor": 2
}
