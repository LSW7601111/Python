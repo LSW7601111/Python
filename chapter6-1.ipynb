{
 "cells": [
  {
   "cell_type": "markdown",
   "metadata": {},
   "source": [
    "for 반복문과 enumerate() 함수 조합해서 사용하기"
   ]
  },
  {
   "cell_type": "code",
   "execution_count": null,
   "metadata": {},
   "outputs": [
    {
     "name": "stdout",
     "output_type": "stream",
     "text": [
      "#반복문과 조합하기\n",
      "0번째 요소는 요소A입니다.\n",
      "1번째 요소는 요소B입니다.\n",
      "2번째 요소는 요소C입니다.\n"
     ]
    }
   ],
   "source": [
    "example_list = [\"요소A\",\"요소B\",\"요소C\"]\n",
    "print(\"#반복문과 조합하기\")\n",
    "for i, value in enumerate(example_list):\n",
    "    print(\"{}번째 요소는 {}입니다.\".format(i,value))\n",
    "\n",
    "# 1. example_list가 enumerate()함수 안에 입력\n",
    "# 2. enumerate(example_list) -> 인덱스와 값을 동시에 출력\n",
    "# 3. for 문이 싱핼이 되기 때문에\n",
    "#    print문에 i, value값이 들어가서 \"~번째 요소는 ~~입니다.\"  라고 출력\n",
    "# 4. for문 앞에 print는 스페이스 4건 또는 탭으로 띄워야 문법오류 X"
   ]
  },
  {
   "cell_type": "markdown",
   "metadata": {},
   "source": [
    "딕셔너리 items() 함수를 "
   ]
  },
  {
   "cell_type": "code",
   "execution_count": null,
   "metadata": {},
   "outputs": [
    {
     "name": "stdout",
     "output_type": "stream",
     "text": [
      "# 딕셔너리의 itmes() 함수\n",
      "items(): dict_items([('키A', '값A'), ('키B', '값B'), ('키C', '값C')])\n",
      "\n",
      "# 딕셔너리의 items() 함수와 반복문 조합하기\n",
      "dictionary[키A] = 값A\n",
      "dictionary[키B] = 값B\n",
      "dictionary[키C] = 값C\n"
     ]
    }
   ],
   "source": [
    "example_dictionary = {\n",
    "    \"키A\":\"값A\",\n",
    "    \"키B\":\"값B\",\n",
    "    \"키C\":\"값C\",\n",
    "}\n",
    "# JSON (JavaScript Object Notation)과 거의 동일한 형태, JSOM 웹에서 많이 사용\n",
    "# API 에서 값을 주고 받을 때 JSON 형태를 많이 가진다\n",
    "\n",
    "# 딕셔너리 itmes() 함수 결과 출력하기\n",
    "print(\"# 딕셔너리의 itmes() 함수\")\n",
    "print(\"items():\", example_dictionary.items())\n",
    "print()\n",
    "\n",
    "# for 반복문과 itmes() 함수를 조합해서 출력하기\n",
    "print(\"# 딕셔너리의 items() 함수와 반복문 조합하기\")\n",
    "for key, element in example_dictionary.items():\n",
    "    print(\"dictionary[{}] = {}\".format(key, element))\n",
    "    print(f\"dictionary[{}] = {}\")"
   ]
  }
 ],
 "metadata": {
  "kernelspec": {
   "display_name": "Python 3",
   "language": "python",
   "name": "python3"
  },
  "language_info": {
   "codemirror_mode": {
    "name": "ipython",
    "version": 3
   },
   "file_extension": ".py",
   "mimetype": "text/x-python",
   "name": "python",
   "nbconvert_exporter": "python",
   "pygments_lexer": "ipython3",
   "version": "3.11.9"
  }
 },
 "nbformat": 4,
 "nbformat_minor": 2
}
