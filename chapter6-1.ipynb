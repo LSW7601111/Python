{
 "cells": [
  {
   "cell_type": "markdown",
   "metadata": {},
   "source": [
    "for 반복문과 enumerate() 함수 조합해서 사용하기"
   ]
  },
  {
   "cell_type": "code",
   "execution_count": null,
   "metadata": {},
   "outputs": [
    {
     "name": "stdout",
     "output_type": "stream",
     "text": [
      "#반복문과 조합하기\n",
      "0번째 요소는 요소A입니다.\n",
      "1번째 요소는 요소B입니다.\n",
      "2번째 요소는 요소C입니다.\n"
     ]
    }
   ],
   "source": [
    "example_list = [\"요소A\",\"요소B\",\"요소C\"]\n",
    "print(\"#반복문과 조합하기\")\n",
    "for i, value in enumerate(example_list):\n",
    "    print(\"{}번째 요소는 {}입니다.\".format(i,value))\n",
    "\n",
    "# 1. example_list가 enumerate()함수 안에 입력\n",
    "# 2. enumerate(example_list) -> 인덱스와 값을 동시에 출력\n",
    "# 3. for 문이 싱핼이 되기 때문에\n",
    "#    print문에 i, value값이 들어가서 \"~번째 요소는 ~~입니다.\"  라고 출력\n",
    "# 4. for문 앞에 print는 스페이스 4건 또는 탭으로 띄워야 문법오류 X"
   ]
  },
  {
   "cell_type": "markdown",
   "metadata": {},
   "source": [
    "딕셔너리 items() 함수를 "
   ]
  },
  {
   "cell_type": "code",
   "execution_count": 4,
   "metadata": {},
   "outputs": [
    {
     "name": "stdout",
     "output_type": "stream",
     "text": [
      "# 딕셔너리의 itmes() 함수\n",
      "items(): dict_items([('키A', '값A'), ('키B', '값B'), ('키C', '값C')])\n",
      "\n",
      "# 딕셔너리의 items() 함수와 반복문 조합하기\n",
      "dictionary[키A] = 값A\n",
      "dictionary[키B] = 값B\n",
      "dictionary[키C] = 값C\n"
     ]
    }
   ],
   "source": [
    "example_dictionary = {\n",
    "    \"키A\":\"값A\",\n",
    "    \"키B\":\"값B\",\n",
    "    \"키C\":\"값C\",\n",
    "}\n",
    "# JSON (JavaScript Object Notation)과 거의 동일한 형태, JSOM 웹에서 많이 사용\n",
    "# API 에서 값을 주고 받을 때 JSON 형태를 많이 가진다\n",
    "\n",
    "# 딕셔너리 itmes() 함수 결과 출력하기\n",
    "print(\"# 딕셔너리의 itmes() 함수\")\n",
    "print(\"items():\", example_dictionary.items())\n",
    "print()\n",
    "\n",
    "# for 반복문과 itmes() 함수를 조합해서 출력하기\n",
    "print(\"# 딕셔너리의 items() 함수와 반복문 조합하기\")\n",
    "for key, element in example_dictionary.items():\n",
    "    print(\"dictionary[{}] = {}\".format(key, element))"
   ]
  },
  {
   "cell_type": "markdown",
   "metadata": {},
   "source": [
    "반복문을 사용하여 리스트 재조합을 하는 경우"
   ]
  },
  {
   "cell_type": "code",
   "execution_count": null,
   "metadata": {},
   "outputs": [
    {
     "name": "stdout",
     "output_type": "stream",
     "text": [
      "i = 0, [0]\n",
      "i = 2, [0, 4]\n",
      "i = 4, [0, 4, 16]\n",
      "i = 6, [0, 4, 16, 36]\n",
      "i = 8, [0, 4, 16, 36, 64]\n",
      "i = 10, [0, 4, 16, 36, 64, 100]\n",
      "i = 12, [0, 4, 16, 36, 64, 100, 144]\n",
      "i = 14, [0, 4, 16, 36, 64, 100, 144, 196]\n",
      "i = 16, [0, 4, 16, 36, 64, 100, 144, 196, 256]\n",
      "i = 18, [0, 4, 16, 36, 64, 100, 144, 196, 256, 324]\n",
      "[0, 4, 16, 36, 64, 100, 144, 196, 256, 324]\n"
     ]
    }
   ],
   "source": [
    "# 변수를 선언합니다.\n",
    "array = []  # <<_ 비어 있는 List변수 array 생성\n",
    "\n",
    "# 반복문을 적용합니다.\n",
    "# range(0,20,2) --> 0 : 시작점(포함), 20 : 끝점(포함X), 2 : 간격\n",
    "# for 문이 0, 2, 4, ---,18까지 안에있는 array.append(i*i)를 실행\n",
    "for i in range(0,20,2):\n",
    "    array.append(i*i) # array.append(), 괄호 안의 값을 array 리스트에 추가\n",
    "    # 리스트명.append(값)  --> .append 매서드는 리스트 자료형에서만 사용가능함\n",
    "    print(f\"i = {i}, {array}\")\n",
    "\n",
    "# for 문이기 때문에 \n",
    "# i=0, array.append(0*0) 맨처음 array = [] --> 0*0의 결과가 새로 추가 ---> array = [0]\n",
    "# i=2, array.append(2*2) 맨처음 array = [] --> 2*2의 결과가 새로 추가 ---> array = [0,4]\n",
    "# i 가 18까지 반복되어 값이 계속 추가\n",
    "\n",
    "\n",
    "# 출력합니다.\n",
    "print(array)    "
   ]
  },
  {
   "cell_type": "markdown",
   "metadata": {},
   "source": [
    "리스트 컴프리핸션 (List comprehension)\n",
    "\n",
    "리스트 이름 = [표현식 for 반복자 in 반복할 수 있는것]"
   ]
  },
  {
   "cell_type": "code",
   "execution_count": 7,
   "metadata": {},
   "outputs": [
    {
     "name": "stdout",
     "output_type": "stream",
     "text": [
      "[0, 4, 16, 36, 64, 100, 144, 196, 256, 324]\n"
     ]
    }
   ],
   "source": [
    "# 리스트를 선언합니다.\n",
    "array = [i*i for i in range(0,20,2)]\n",
    "\n",
    "#출력합니다.\n",
    "print(array)"
   ]
  },
  {
   "cell_type": "markdown",
   "metadata": {},
   "source": [
    "조건을 활용한 리스트 컴프리핸션\n",
    "\n",
    "리스트 이름 = [표현식 for 반복자 in 반복할 수 있는것 if 조건문]\n"
   ]
  },
  {
   "cell_type": "code",
   "execution_count": 9,
   "metadata": {},
   "outputs": [
    {
     "name": "stdout",
     "output_type": "stream",
     "text": [
      "['사과', '자두']\n"
     ]
    }
   ],
   "source": [
    "array = [\"사과\",\"자두\",\"초콜릿\"]\n",
    "output = [furit for furit in array if furit != \"초콜릿\"]\n",
    "\n",
    "print(output)"
   ]
  }
 ],
 "metadata": {
  "kernelspec": {
   "display_name": "Python 3",
   "language": "python",
   "name": "python3"
  },
  "language_info": {
   "codemirror_mode": {
    "name": "ipython",
    "version": 3
   },
   "file_extension": ".py",
   "mimetype": "text/x-python",
   "name": "python",
   "nbconvert_exporter": "python",
   "pygments_lexer": "ipython3",
   "version": "3.11.9"
  }
 },
 "nbformat": 4,
 "nbformat_minor": 2
}
