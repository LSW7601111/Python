{
 "cells": [
  {
   "cell_type": "code",
   "execution_count": null,
   "metadata": {},
   "outputs": [],
   "source": [
    "print(\"100\")\n",
    "# \"\"안에 글자나 문자는 무조건 문자열 데이터 타입\n",
    "# 문자열 데이터 타입 -> 문자열에서만 지원하는 기능\n",
    "# 문자열의 갯수, 문자열에 존재하는 위치(인덱스) 등등\n",
    "# \"\"안에 있는 것은 문자 데이터 타입으로 수학연산이 안됨\n",
    "print(\"%d\" % 100)\n",
    "# 숫자형 데이터 타입을 사용\n",
    "# 사칙연산 등등 숫자로만의 기능을 지원"
   ]
  },
  {
   "cell_type": "markdown",
   "metadata": {},
   "source": [
    "<!-- 웹페이지에 회원가입\n",
    "\n",
    "1. 아이디\n",
    "2. 비번\n",
    "3. 주소\n",
    "4. 전화번호\n",
    "5. 회원번호\n",
    "가 있을때 넣을 수 있는 서식형에 따라 달라진다 \n",
    "ex) 아이디 , 비번, 주소, 전화번호는 문자열로 회원번호는 숫자형으로 넣는등등 -->"
   ]
  },
  {
   "cell_type": "code",
   "execution_count": 2,
   "metadata": {},
   "outputs": [
    {
     "name": "stdout",
     "output_type": "stream",
     "text": [
      "100+100\n",
      "200\n"
     ]
    }
   ],
   "source": [
    "print(\"100+100\")\n",
    "print(\"%d\"%(100+100))"
   ]
  },
  {
   "cell_type": "code",
   "execution_count": null,
   "metadata": {},
   "outputs": [
    {
     "ename": "TypeError",
     "evalue": "not all arguments converted during string formatting",
     "output_type": "error",
     "traceback": [
      "\u001b[1;31m---------------------------------------------------------------------------\u001b[0m",
      "\u001b[1;31mTypeError\u001b[0m                                 Traceback (most recent call last)",
      "Cell \u001b[1;32mIn[1], line 1\u001b[0m\n\u001b[1;32m----> 1\u001b[0m \u001b[38;5;28mprint\u001b[39m(\u001b[38;5;124;43m\"\u001b[39;49m\u001b[38;5;132;43;01m%d\u001b[39;49;00m\u001b[38;5;124;43m\"\u001b[39;49m\u001b[38;5;241;43m%\u001b[39;49m\u001b[43m(\u001b[49m\u001b[38;5;241;43m100\u001b[39;49m\u001b[43m,\u001b[49m\u001b[43m \u001b[49m\u001b[38;5;241;43m100\u001b[39;49m\u001b[43m)\u001b[49m)\n\u001b[0;32m      2\u001b[0m \u001b[38;5;28mprint\u001b[39m(\u001b[38;5;124m\"\u001b[39m\u001b[38;5;132;01m%d\u001b[39;00m\u001b[38;5;124m \u001b[39m\u001b[38;5;132;01m%d\u001b[39;00m\u001b[38;5;124m\"\u001b[39m\u001b[38;5;241m%\u001b[39m(\u001b[38;5;241m100\u001b[39m))\n",
      "\u001b[1;31mTypeError\u001b[0m: not all arguments converted during string formatting"
     ]
    }
   ],
   "source": [
    "print(\"%d\"%(100, 200))\n",
    "print(\"%d %d\"%(100))"
   ]
  },
  {
   "cell_type": "code",
   "execution_count": 3,
   "metadata": {},
   "outputs": [
    {
     "name": "stdout",
     "output_type": "stream",
     "text": [
      "100, 200\n"
     ]
    }
   ],
   "source": [
    "print(\"100, 200\")"
   ]
  },
  {
   "cell_type": "code",
   "execution_count": 5,
   "metadata": {},
   "outputs": [
    {
     "name": "stdout",
     "output_type": "stream",
     "text": [
      "100 200\n"
     ]
    }
   ],
   "source": [
    "print(\"%d %d\"%(100, 200))"
   ]
  },
  {
   "cell_type": "markdown",
   "metadata": {},
   "source": [
    "100 45 200을 출력하도록 코드작성 해보세요"
   ]
  },
  {
   "cell_type": "code",
   "execution_count": null,
   "metadata": {},
   "outputs": [
    {
     "name": "stdout",
     "output_type": "stream",
     "text": [
      "100 45 200\n"
     ]
    }
   ],
   "source": [
    "print(\"%d, %d, %d\"%(100, 45, 200))"
   ]
  },
  {
   "cell_type": "code",
   "execution_count": null,
   "metadata": {},
   "outputs": [
    {
     "name": "stdout",
     "output_type": "stream",
     "text": [
      "123\n",
      "  123\n",
      "00123\n"
     ]
    }
   ],
   "source": [
    "print(\"%d\"%123)\n",
    "print(\"%5d\"%123)\n",
    "# d 앞에 있는 숫자는 총 자릿수를 의미 \n",
    "# d 앞에 아무것도 없으면 공백으로 처리\n",
    "# d앞에 숫자 앞에 숫자가 들어가면 그 숫자가 들어감\n",
    "print(\"%05d\"%123)"
   ]
  },
  {
   "cell_type": "code",
   "execution_count": null,
   "metadata": {},
   "outputs": [
    {
     "name": "stdout",
     "output_type": "stream",
     "text": [
      "123.450000\n",
      "  123.5 원\n",
      " 123.45 원\n",
      "123.450 원\n"
     ]
    }
   ],
   "source": [
    "#소수가 있는 숫자 형태의 출력\n",
    "print(\"%f\"%123.45)\n",
    "print(\"%7.1f\"%123.45,\"원\")\n",
    "print(\"%7.2f\"%123.45,\"원\")\n",
    "print(\"%7.3f\"%123.45,\"원\")"
   ]
  },
  {
   "cell_type": "code",
   "execution_count": 17,
   "metadata": {},
   "outputs": [
    {
     "name": "stdout",
     "output_type": "stream",
     "text": [
      "python 원\n",
      "    python\n"
     ]
    }
   ],
   "source": [
    "#문자열 출력 방법\n",
    "print(\"%s\"%\"python\",\"원\")\n",
    "print(\"%10s\"%\"python\")"
   ]
  },
  {
   "cell_type": "markdown",
   "metadata": {},
   "source": [
    "format( ) 함수와 { }를 함께 사용해 서식 지정"
   ]
  },
  {
   "cell_type": "code",
   "execution_count": 43,
   "metadata": {},
   "outputs": [
    {
     "name": "stdout",
     "output_type": "stream",
     "text": [
      "123   123 00123\n",
      "123   123 00123\n",
      "123  1123 02123\n",
      "123  2123 01123\n",
      "123  2123 01123        123\n"
     ]
    }
   ],
   "source": [
    "print(\"%d %5d %05d\"%(123, 123, 123))\n",
    "print(\"{0:d} {1:5d} {2:05d}\".format(123, 123, 123))\n",
    "print(\"{0:d} {1:5d} {2:05d}\".format(123, 1123, 2123))\n",
    "print(\"{0:d} {2:5d} {1:05d}\".format(123, 1123, 2123))\n",
    "#  {0번:형태}{2번:형태}{1번:형태}    0번   1번   2번\n",
    "print(\"{0:d} {2:5d} {1:05d} {0:10d}\".format(123, 1123, 2123))"
   ]
  },
  {
   "cell_type": "code",
   "execution_count": null,
   "metadata": {},
   "outputs": [
    {
     "name": "stdout",
     "output_type": "stream",
     "text": [
      "\n",
      "줄바꿈\n",
      "연습\n",
      "\t탭키\t연습\n",
      "글자가'강조'되는 효과1\n",
      "글자가\"강조\"되는 효과1\n",
      "\\\\\\ 역슬래시 3개 출력\n",
      "\\n \\t \\\" \\\\를 그대로 출력\n"
     ]
    }
   ],
   "source": [
    "print(\"\\n줄바꿈\\n연습\") #n = new line\n",
    "print(\"\\t탭키\\t연습\") #t = tab\n",
    "print(\"글자가\\'강조\\'되는 효과1\")\n",
    "print(\"글자가\\\"강조\\\"되는 효과1\")\n",
    "print(\"\\\\\\\\\\\\ 역슬래시 3개 출력\")\n",
    "print(r\"\\n \\t \\\" \\\\를 그대로 출력\")"
   ]
  },
  {
   "cell_type": "code",
   "execution_count": 45,
   "metadata": {},
   "outputs": [
    {
     "name": "stdout",
     "output_type": "stream",
     "text": [
      "      *      \n",
      "     ***     \n",
      "    *****    \n",
      "   *******   \n",
      "  *********  \n",
      "   *******   \n",
      "    *****    \n",
      "     ***     \n",
      "      *      \n"
     ]
    }
   ],
   "source": [
    "print(\"      *      \")\n",
    "print(\"     ***     \")\n",
    "print(\"    *****    \")\n",
    "print(\"   *******   \")\n",
    "print(\"  *********  \")\n",
    "print(\"   *******   \")\n",
    "print(\"    *****    \")\n",
    "print(\"     ***     \")\n",
    "print(\"      *      \")"
   ]
  },
  {
   "cell_type": "code",
   "execution_count": null,
   "metadata": {},
   "outputs": [
    {
     "name": "stdout",
     "output_type": "stream",
     "text": [
      "  *********  \n",
      "   *******   \n",
      "    *****    \n",
      "     ***     \n",
      "      *      \n",
      "     ***     \n",
      "    *****    \n",
      "   *******   \n",
      "  *********  \n"
     ]
    }
   ],
   "source": [
    "print(\"  *********  \")\n",
    "print(\"   *******   \")\n",
    "print(\"    *****    \")\n",
    "print(\"     ***     \")\n",
    "print(\"      *      \")\n",
    "print(\"     ***     \")\n",
    "print(\"    *****    \")\n",
    "print(\"   *******   \")\n",
    "print(\"  *********  \")"
   ]
  },
  {
   "cell_type": "code",
   "execution_count": 3,
   "metadata": {},
   "outputs": [
    {
     "name": "stdout",
     "output_type": "stream",
     "text": [
      "      *      \n",
      "     ***     \n",
      "    *@***    \n",
      "   ****@**   \n",
      "  **0******  \n",
      " ****0***@** \n",
      "***0********@\n",
      "      ****   \n",
      "      ****   \n"
     ]
    }
   ],
   "source": [
    "print(\"      *      \")\n",
    "print(\"     ***     \")\n",
    "print(\"    *@***    \")\n",
    "print(\"   ****@**   \")\n",
    "print(\"  **0******  \")\n",
    "print(\" ****0***@** \")\n",
    "print(\"***0********@\")\n",
    "print(\"      ****   \")\n",
    "print(\"      ****   \")\n"
   ]
  },
  {
   "cell_type": "code",
   "execution_count": null,
   "metadata": {},
   "outputs": [],
   "source": []
  }
 ],
 "metadata": {
  "kernelspec": {
   "display_name": "Python 3",
   "language": "python",
   "name": "python3"
  },
  "language_info": {
   "codemirror_mode": {
    "name": "ipython",
    "version": 3
   },
   "file_extension": ".py",
   "mimetype": "text/x-python",
   "name": "python",
   "nbconvert_exporter": "python",
   "pygments_lexer": "ipython3",
   "version": "3.11.9"
  }
 },
 "nbformat": 4,
 "nbformat_minor": 2
}
