{
 "cells": [
  {
   "cell_type": "markdown",
   "metadata": {},
   "source": [
    "1. 변수의 자료형\n",
    "2. if문 구문이 돌아가는 형태\n",
    "3. 반복문\n",
    "4. 데이터 타입\n",
    "5. 프린터문\n",
    "6. 함수\n",
    "이 큰틀의 것을 잘 익히는 것이 중요하다.\n"
   ]
  },
  {
   "cell_type": "markdown",
   "metadata": {},
   "source": []
  },
  {
   "cell_type": "markdown",
   "metadata": {},
   "source": [
    "# Chapter7. 함수\n",
    "    1. 함수 = 코드의 집합\n",
    "       관련용어 : \n",
    "       * 매개변수 : 함수의 입력값, 함수 호출 시 괄호 내부에 넣는 여러가지 재료\n",
    "       * 리턴값 : 함수릐 출력값, 함수를 호출하여 최종적으로 나오는 결과"
   ]
  },
  {
   "cell_type": "markdown",
   "metadata": {},
   "source": [
    "문법\n",
    "\n",
    "def 함수이름(매개변수1, 매개변수2): 후\n",
    "\n",
    "명령어"
   ]
  },
  {
   "cell_type": "code",
   "execution_count": null,
   "metadata": {},
   "outputs": [
    {
     "name": "stdout",
     "output_type": "stream",
     "text": [
      "안녕하세요\n",
      "안녕하세요\n",
      "안녕하세요\n",
      "안녕하세요\n",
      "안녕하세요\n"
     ]
    }
   ],
   "source": [
    "def print_n_times(value, n):\n",
    "    for i in range(n):\n",
    "        print(value)\n",
    "\n",
    "print_n_times(\"안녕하세요\", 5)       \n",
    "\n",
    "# 입력값이 어떻게 들어가고 출력값이 어떻게 나오는지를 확인하는것이 제일 중요!!!"
   ]
  },
  {
   "cell_type": "code",
   "execution_count": null,
   "metadata": {},
   "outputs": [
    {
     "name": "stdout",
     "output_type": "stream",
     "text": [
      "6\n"
     ]
    }
   ],
   "source": [
    "def addition(a,b):\n",
    "    return a + b\n",
    "\n",
    "# 함수 선언\n",
    "#def 함수명(매개변수1, 매개변수2):\n",
    "def function_k(a,b):\n",
    "    # 앞에 공백 4칸 또는 탭 사용해서 들어쓰기(indent) python의 문법이라 중요한다\n",
    "    # VSCode를 사용하면 자동적으로 4칸이 띄어짐, 탭 대신에 공백 4칸이 좋음\n",
    "    sum = addition(a,b)\n",
    "    nul = sum * 2\n",
    "\n",
    "    return nul # return 변수 -> 변수값이 최종 리턴\n",
    "\n",
    "#함수 호출\n",
    "#함수명(매개변수값을 입력)\n",
    "print(function_k(1,2))"
   ]
  },
  {
   "cell_type": "markdown",
   "metadata": {},
   "source": [
    "기본 매개변수 : 매개변수 값을 입력을 하지 않았을 경우에 기본으로 정해진 값"
   ]
  },
  {
   "cell_type": "code",
   "execution_count": 19,
   "metadata": {},
   "outputs": [
    {
     "name": "stdout",
     "output_type": "stream",
     "text": [
      "26\n"
     ]
    }
   ],
   "source": [
    "# 기본 매개변수 정하는 법, [매개변수에 = 값으로 하면 기본 매개변수 설정이 가능]\n",
    "\n",
    "def function_k(a=3,b=10):\n",
    "    sum = a+b\n",
    "    nul = sum * 2\n",
    "\n",
    "    return nul # return 변수 -> 변수값이 최종 리턴\n",
    "\n",
    "print(function_k()) # 여기에 값을 정해주지 않아도 기본으로 설정되어있으면 그 값으로 출렵\n"
   ]
  },
  {
   "cell_type": "markdown",
   "metadata": {},
   "source": [
    "가변 매개변수 : 매개변수를 원하는 만큼 받을 수 있음"
   ]
  },
  {
   "cell_type": "code",
   "execution_count": 14,
   "metadata": {},
   "outputs": [
    {
     "name": "stdout",
     "output_type": "stream",
     "text": [
      "안녕하세요\n",
      "즐거운\n",
      "파이썬 프로그래밍\n",
      "\n",
      "안녕하세요\n",
      "즐거운\n",
      "파이썬 프로그래밍\n",
      "\n",
      "안녕하세요\n",
      "즐거운\n",
      "파이썬 프로그래밍\n",
      "\n"
     ]
    }
   ],
   "source": [
    "def print_n_times(n, *values):\n",
    "# n번 반복합니다.\n",
    "    for i in range(n):\n",
    "        #values는 리스트처럼 활용합니다.\n",
    "        for value in values:\n",
    "            print(value)\n",
    "        #단순한 줄바꿈\n",
    "        print()    \n",
    "\n",
    "# 함수를 호출합니다.\n",
    "print_n_times(3, \"안녕하세요\", \"즐거운\", \"파이썬 프로그래밍\")"
   ]
  },
  {
   "cell_type": "code",
   "execution_count": 21,
   "metadata": {},
   "outputs": [
    {
     "name": "stdout",
     "output_type": "stream",
     "text": [
      "13\n"
     ]
    }
   ],
   "source": [
    "def calculate_area_and_perimeter(a, b):\n",
    "    return a + b\n",
    "\n",
    "def c(a, b):\n",
    "    c = calculate_area_and_perimeter(a, b)\n",
    "    sum = calculate_area_and_perimeter(a,b)\n",
    "    height = sum * 2\n",
    "\n",
    "    return height\n",
    "  \n",
    "print(calculate_area_and_perimeter(3, 10))\n"
   ]
  },
  {
   "cell_type": "code",
   "execution_count": null,
   "metadata": {},
   "outputs": [
    {
     "name": "stdout",
     "output_type": "stream",
     "text": [
      "넓이 : 200\n",
      "둘레 : 60\n"
     ]
    }
   ],
   "source": [
    "# 1. 기본 함수 형태는 갖추기 [함수명, 매개변수 정도 작성]\n",
    "# 2. 출력값 먼저 생각 후 , 출력값을 계산\n",
    "# 3. 출력값을 retuen 뒤에 추가\n",
    "def calculate_area_and_perimeter(width, height):\n",
    "    area = width * height\n",
    "    perimeter = (width + height) * 2\n",
    "\n",
    "    return area, perimeter # retyrn 변수 -> 변수값이 최종 리턴\n",
    "\n",
    "width = int(input(\"직사각형의 가로를 입력하세요 : \"))\n",
    "height = int(input(\"직사각형의 세로를 입력하세요 : \"))\n",
    "\n",
    "# 사용자 입력 받기\n",
    "area, perimeter = calculate_area_and_perimeter(width, height)\n",
    "\n",
    "# 함수호출 하여 넓이와 둘레 계산\n",
    "print(f\"넓이 : {area}\")\n",
    "print(f\"둘레 : {perimeter}\")\n",
    "\n",
    "\n"
   ]
  },
  {
   "cell_type": "markdown",
   "metadata": {},
   "source": [
    "키워드 매개변수\n"
   ]
  },
  {
   "cell_type": "code",
   "execution_count": 29,
   "metadata": {},
   "outputs": [
    {
     "name": "stdout",
     "output_type": "stream",
     "text": [
      "넓이 : 20000\n",
      "둘레 : 600\n",
      "넓이 : 20000, 둘레 : 600\n",
      "넓이 : 20000, 둘레 : 600\n"
     ]
    }
   ],
   "source": [
    "# 함수를 호출할 때 키워드를 사용하는 방식\n",
    "\n",
    "# 일반적 방식, 매개변수를 직접 넣는 방식\n",
    "\n",
    "width1 = 100\n",
    "\n",
    "height1 = 200\n",
    "\n",
    "area, perimeter = calculate_area_and_perimeter(width1, height1)\n",
    "print(f\"넓이 : {area}\\n둘레 : {perimeter}\")\n",
    "\n",
    "# 키워드 매개 변수\n",
    "\n",
    "area, perimeter = calculate_area_and_perimeter(width = width1, height = height1)\n",
    "print(f\"넓이 : {area}, 둘레 : {perimeter}\")\n",
    "\n",
    "area, perimeter = calculate_area_and_perimeter(width = height1, height = width1)\n",
    "print(f\"넓이 : {area}, 둘레 : {perimeter}\")\n",
    "\n",
    "# 키워드 매개변수의 장점\n",
    "# 1. 가독성 : 매개변수를 명시하기 때문에 코드의도가 명확해진다.\n",
    "# 2. 순서와 상관이 없음 : 매개변수 순서에 관계없이 함수값을 전달 할 수 있다."
   ]
  },
  {
   "cell_type": "markdown",
   "metadata": {},
   "source": [
    "함수의 return 키워드\n",
    "\n",
    " * 함수를 실행했던 위치로 돌아가게 함"
   ]
  },
  {
   "cell_type": "code",
   "execution_count": 33,
   "metadata": {},
   "outputs": [
    {
     "name": "stdout",
     "output_type": "stream",
     "text": [
      "A 위치입니다.\n"
     ]
    }
   ],
   "source": [
    "def return_test():\n",
    "    print(\"A 위치입니다.\")\n",
    "    return\n",
    "    print(\"A 위치입니다.\")\n",
    "\n",
    "# 함수를 호출합니다.\n",
    "return_test()"
   ]
  },
  {
   "cell_type": "code",
   "execution_count": null,
   "metadata": {},
   "outputs": [
    {
     "name": "stdout",
     "output_type": "stream",
     "text": [
      "100.0\n"
     ]
    }
   ],
   "source": [
    "def square(number):\n",
    "    return number**2\n",
    "\n",
    "a = float(input(\"변수값을 입력하세요 : \"))\n",
    "print(square(a))\n",
    "\n",
    "\n",
    "# def square():\n",
    "#     a = float(input(\"변수값을 입력하세요 : \"))\n",
    "#     print(a)\n",
    "#     return\n",
    "\n",
    "# square()  내가 한 답\n",
    "\n"
   ]
  },
  {
   "cell_type": "markdown",
   "metadata": {},
   "source": [
    "범위 내부의 정수를 모두 더하는 함수"
   ]
  },
  {
   "cell_type": "code",
   "execution_count": null,
   "metadata": {},
   "outputs": [
    {
     "name": "stdout",
     "output_type": "stream",
     "text": [
      " 0  to 100:  5050\n",
      " 0  to 1000:  500500\n"
     ]
    }
   ],
   "source": [
    "def sum_all(start, end):\n",
    "    # 변수를 선언합니다.\n",
    "    output = 0\n",
    "    # 반복문을 돌려 숫자를 더합니다.\n",
    "    for i in range(start, end+1):\n",
    "        output += i  # i=i+1\n",
    "    # 리턴 합니다.\n",
    "    return output  #  <<<--- 아웃풋을 리턴하라는건데 이해가 안됨\n",
    "\n",
    "# 함수를 호출합니다.\n",
    "print(\" 0  to 100: \", sum_all(0,100))\n",
    "print(\" 0  to 1000: \", sum_all(0,1000))\n",
    "        "
   ]
  },
  {
   "cell_type": "markdown",
   "metadata": {},
   "source": [
    "재귀함수"
   ]
  },
  {
   "cell_type": "code",
   "execution_count": 5,
   "metadata": {},
   "outputs": [
    {
     "name": "stdout",
     "output_type": "stream",
     "text": [
      "1! : 1\n",
      "2! : 2\n",
      "3! : 6\n",
      "4! : 24\n",
      "5! : 120\n"
     ]
    }
   ],
   "source": [
    "# 반복문으로 팩토리얼 구하기\n",
    "\n",
    "# 함수를 선언합니다.\n",
    "\n",
    "def factorial(n):\n",
    "    # 변수를 선언합니다.\n",
    "    output = 1\n",
    "    # 반복문을 돌려 숫자를 더합니다.\n",
    "    for i in range(1, n + 1):\n",
    "        output *= i # i = i * i\n",
    "\n",
    "    # for loop 단계별\n",
    "    # range(1, n+1) : 1에서 n까지 1씩 증가\n",
    "    # range(start, end, step) : start에서 step만큼 증가하여 end -1 까지 증가\n",
    "    # i = 1, output = 1  ---> output = 1 * 1 = 1\n",
    "    # i = 2, output = 1 * 1 ---> output = 1 * 2 = 2\n",
    "    # i = 3, output = 1 * 2  ---> output = 1 * 2 * 3\n",
    "    # i = 4, output = 1 * 2 * 3  ---> output = 1 * 2 * 3 * 4\n",
    "    # i = 5, output = 1 * 2 * 3 * 4 ---> output = 1 * 2 * 3 * 4 * 5\n",
    "    # .....\n",
    "    # i = n-1(연산전) output = 1*2*3*...*(n-2) ---> (연산후) output = 1*2*3*...*(n-1)\n",
    "    # i = n (연산전) output = 1*2*3*...*(n-2) ---> (연산후) output = 1*2*3*...*(n-1)*n\n",
    "\n",
    "\n",
    "\n",
    "    # 리턴합니다.\n",
    "    return output\n",
    "\n",
    "# 함수를 호출합니다.\n",
    "for i in range(1, 6):\n",
    "    print(f\"{i}! : {factorial(i)}\")"
   ]
  },
  {
   "cell_type": "code",
   "execution_count": 11,
   "metadata": {},
   "outputs": [
    {
     "name": "stdout",
     "output_type": "stream",
     "text": [
      "1! : 1\n",
      "2! : 2\n",
      "3! : 6\n",
      "4! : 24\n",
      "5! : 120\n"
     ]
    }
   ],
   "source": [
    "# 재귀함수로 팩토리얼 구하기\n",
    "\n",
    "def factorial(n): # n = 4,\n",
    "    # n이 0이라면 1을 리턴\n",
    "    if n == 0:\n",
    "        return 1\n",
    "    # n이 0이 아니라면 n*(n-1)!을 리턴\n",
    "    else:\n",
    "        return n * factorial(n-1) # return 부분에 선언된 함수가 호출됨\n",
    "        # 본인 스스로가 다시 호출됨 : 재귀함수\n",
    "\n",
    "# n = 4,\n",
    "# 1. factorial(4)가 호출이 됩니다. factorial(4) = 4 * 3 * 2 * 1 * 1\n",
    "# 2. return 4 * factorial(3) ----> 4 * factorial(3) = 4 * 3 * 2 * 1 * 1\n",
    "# 3. factorial(3)이 호출됩니다. ---> factorial(3) = 3 * 2 * 1 * 1\n",
    "# 4. return 3 * factorial(2) 리턴  --> 3 * factorial(2) = 3 * 2 * 1 * 1\n",
    "# 5. factorial(2) 호출 -> factorial(2) = 2 * 1 * 1\n",
    "# 6. return 2 * factorial(2-1) --> return 2 * factorial(1) = 2 * 1 * 1\n",
    "# 7. factorial(1) 호출 -> factorial(1) = 1 *1\n",
    "# 8. return 1 * factorial(0) 호출 ---> 1 * 1 리턴\n",
    "# 9. factorial(0)  = 1 리턴\n",
    "\n",
    "# 함수를 호출합니다.        \n",
    "for i in range(1, 6):\n",
    "    print(f\"{i}! : {factorial(i)}\")"
   ]
  },
  {
   "cell_type": "markdown",
   "metadata": {},
   "source": [
    "파이썬의 독특한 자료형\n",
    "\n",
    "1. 리스트 : 가장 많이 사용되는 자료형, 다른 언어에서는 배열\n",
    "   - 특징 : 가변(mutable) 자료형\n",
    "   - 형식 : []에 ,(콤마)로 구분되는 자료가 들어가 있음"
   ]
  },
  {
   "cell_type": "code",
   "execution_count": null,
   "metadata": {},
   "outputs": [],
   "source": [
    "# 리스트 예시\n",
    "my_list = [1, 3.5, \"hello\",  [1, 2, 3]]\n",
    "print(my_list)"
   ]
  },
  {
   "cell_type": "markdown",
   "metadata": {},
   "source": [
    "2. 튜플 (Tuple) : 리스트와 비슷하지만, 불변(inmutable) 자료형, 한번 생성된 튜플은 그내용을 변경할 수가 없음\n",
    "   - 특징 : 가변성이 없기 때문에 튜플은 좀더 빠르고, 함수의 변환값이나 딕셔너리의 키값으로 사용됨\n",
    "   "
   ]
  },
  {
   "cell_type": "code",
   "execution_count": 12,
   "metadata": {},
   "outputs": [
    {
     "name": "stdout",
     "output_type": "stream",
     "text": [
      "(1, 2, 3, 'apple', 1)\n"
     ]
    }
   ],
   "source": [
    "# 리스트 예시\n",
    "my_Tuple = (1, 2, 3, \"apple\", 1)\n",
    "print(my_Tuple)"
   ]
  },
  {
   "cell_type": "markdown",
   "metadata": {},
   "source": [
    "문제 풀이 해결법\n",
    "\n",
    "PC의 작동원리를 먼저 생각\n",
    "\n",
    "1. 문제를 읽고, 생각 어떤식으로 계산이 될까?\n",
    "2. 생각한 내용을 파이썬 코드로 전환하는 과정\n",
    "   - 문법적인 구문을 잘 팔악을 해야함\n",
    "     * 장기간 -> 파이썬 내부함수, if문, 반복문 문법X 응용O\n",
    "     * 단기간 -> 함수형태로 작성하지말고 변수값 있는대로 추가해서 결과만 먼저 얻기\n",
    "\n",
    "\n"
   ]
  }
 ],
 "metadata": {
  "kernelspec": {
   "display_name": "Python 3",
   "language": "python",
   "name": "python3"
  },
  "language_info": {
   "codemirror_mode": {
    "name": "ipython",
    "version": 3
   },
   "file_extension": ".py",
   "mimetype": "text/x-python",
   "name": "python",
   "nbconvert_exporter": "python",
   "pygments_lexer": "ipython3",
   "version": "3.11.9"
  }
 },
 "nbformat": 4,
 "nbformat_minor": 2
}
