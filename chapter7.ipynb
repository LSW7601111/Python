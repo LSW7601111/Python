{
 "cells": [
  {
   "cell_type": "markdown",
   "metadata": {},
   "source": [
    "1. 변수의 자료형\n",
    "2. if문 구문이 돌아가는 형태\n",
    "3. 반복문\n",
    "4. 데이터 타입\n",
    "5. 프린터문\n",
    "6. 함수\n",
    "이 큰틀의 것을 잘 익히는 것이 중요하다.\n"
   ]
  },
  {
   "cell_type": "markdown",
   "metadata": {},
   "source": []
  },
  {
   "cell_type": "markdown",
   "metadata": {},
   "source": [
    "# Chapter7. 함수\n",
    "    1. 함수 = 코드의 집합\n",
    "       관련용어 : \n",
    "       * 매개변수 : 함수의 입력값, 함수 호출 시 괄호 내부에 넣는 여러가지 재료\n",
    "       * 리턴값 : 함수릐 출력값, 함수를 호출하여 최종적으로 나오는 결과"
   ]
  },
  {
   "cell_type": "markdown",
   "metadata": {},
   "source": [
    "문법\n",
    "\n",
    "def 함수이름(매개변수1, 매개변수2): 후\n",
    "\n",
    "명령어"
   ]
  },
  {
   "cell_type": "code",
   "execution_count": null,
   "metadata": {},
   "outputs": [
    {
     "name": "stdout",
     "output_type": "stream",
     "text": [
      "안녕하세요\n",
      "안녕하세요\n",
      "안녕하세요\n",
      "안녕하세요\n",
      "안녕하세요\n"
     ]
    }
   ],
   "source": [
    "def print_n_times(value, n):\n",
    "    for i in range(n):\n",
    "        print(value)\n",
    "\n",
    "print_n_times(\"안녕하세요\", 5)       \n",
    "\n",
    "# 입력값이 어떻게 들어가고 출력값이 어떻게 나오는지를 확인하는것이 제일 중요!!!"
   ]
  },
  {
   "cell_type": "code",
   "execution_count": null,
   "metadata": {},
   "outputs": [
    {
     "name": "stdout",
     "output_type": "stream",
     "text": [
      "6\n"
     ]
    }
   ],
   "source": [
    "def addition(a,b):\n",
    "    return a + b\n",
    "\n",
    "# 함수 선언\n",
    "#def 함수명(매개변수1, 매개변수2):\n",
    "def function_k(a,b):\n",
    "    # 앞에 공백 4칸 또는 탭 사용해서 들어쓰기(indent) python의 문법이라 중요한다\n",
    "    # VSCode를 사용하면 자동적으로 4칸이 띄어짐, 탭 대신에 공백 4칸이 좋음\n",
    "    sum = addition(a,b)\n",
    "    nul = sum * 2\n",
    "\n",
    "    return nul # return 변수 -> 변수값이 최종 리턴\n",
    "\n",
    "#함수 호출\n",
    "#함수명(매개변수값을 입력)\n",
    "print(function_k(1,2))"
   ]
  },
  {
   "cell_type": "markdown",
   "metadata": {},
   "source": [
    "기본 매개변수 : 매개변수 값을 입력을 하지 않았을 경우에 기본으로 정해진 값"
   ]
  },
  {
   "cell_type": "code",
   "execution_count": null,
   "metadata": {},
   "outputs": [
    {
     "name": "stdout",
     "output_type": "stream",
     "text": [
      "26\n"
     ]
    }
   ],
   "source": [
    "# 기본 매개변수 정하는 법, [매개변수에 = 값으로 하면 기본 매개변수 설정이 가능]\n",
    "\n",
    "def function_k(a=3,b=10):\n",
    "    sum = a+b\n",
    "    nul = sum * 2\n",
    "\n",
    "    return nul # return 변수 -> 변수값이 최종 리턴\n",
    "\n",
    "print(function_k()) # 여기에 값을 정해주지 않아도 기본으로 설정되어있으면 그 값으로 출렵\n"
   ]
  },
  {
   "cell_type": "markdown",
   "metadata": {},
   "source": [
    "가변 매개변수 : 매개변수를 원하는 만큼 받을 수 있음"
   ]
  },
  {
   "cell_type": "code",
   "execution_count": 14,
   "metadata": {},
   "outputs": [
    {
     "name": "stdout",
     "output_type": "stream",
     "text": [
      "안녕하세요\n",
      "즐거운\n",
      "파이썬 프로그래밍\n",
      "\n",
      "안녕하세요\n",
      "즐거운\n",
      "파이썬 프로그래밍\n",
      "\n",
      "안녕하세요\n",
      "즐거운\n",
      "파이썬 프로그래밍\n",
      "\n"
     ]
    }
   ],
   "source": [
    "def print_n_times(n, *values):\n",
    "# n번 반복합니다.\n",
    "    for i in range(n):\n",
    "        #values는 리스트처럼 활용합니다.\n",
    "        for value in values:\n",
    "            print(value)\n",
    "        #단순한 줄바꿈\n",
    "        print()    \n",
    "\n",
    "# 함수를 호출합니다.\n",
    "print_n_times(3, \"안녕하세요\", \"즐거운\", \"파이썬 프로그래밍\")"
   ]
  }
 ],
 "metadata": {
  "kernelspec": {
   "display_name": "Python 3",
   "language": "python",
   "name": "python3"
  },
  "language_info": {
   "codemirror_mode": {
    "name": "ipython",
    "version": 3
   },
   "file_extension": ".py",
   "mimetype": "text/x-python",
   "name": "python",
   "nbconvert_exporter": "python",
   "pygments_lexer": "ipython3",
   "version": "3.11.9"
  }
 },
 "nbformat": 4,
 "nbformat_minor": 2
}
