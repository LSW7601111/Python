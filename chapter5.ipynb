{
 "cells": [
  {
   "cell_type": "code",
   "execution_count": 1,
   "metadata": {},
   "outputs": [
    {
     "name": "stdout",
     "output_type": "stream",
     "text": [
      "안녕하세요? for문을 공부중 입니다. ^^\n",
      "안녕하세요? for문을 공부중 입니다. ^^\n",
      "안녕하세요? for문을 공부중 입니다. ^^\n"
     ]
    }
   ],
   "source": [
    "# i 라는 변수가 계속 반복되면서 증가\n",
    "for i in range(0, 3, 1):\n",
    "    print(\"안녕하세요? for문을 공부중 입니다. ^^\")"
   ]
  },
  {
   "cell_type": "markdown",
   "metadata": {},
   "source": [
    "1부터 10까지 합계 구하는 코드를 작성하시오\n",
    "for문 사용"
   ]
  },
  {
   "cell_type": "code",
   "execution_count": null,
   "metadata": {},
   "outputs": [
    {
     "name": "stdout",
     "output_type": "stream",
     "text": [
      "i :  1\n",
      "sum :  0\n",
      "i :  2\n",
      "sum :  1\n",
      "i :  3\n",
      "sum :  3\n",
      "i :  4\n",
      "sum :  6\n",
      "i :  5\n",
      "sum :  10\n",
      "i :  6\n",
      "sum :  15\n",
      "i :  7\n",
      "sum :  21\n",
      "i :  8\n",
      "sum :  28\n",
      "i :  9\n",
      "sum :  36\n",
      "i :  10\n",
      "sum :  45\n",
      "55\n"
     ]
    }
   ],
   "source": [
    "sum = 0\n",
    "for i in range(1, 11, 1):\n",
    "    print(\"i : \", i)\n",
    "    print(\"sum : \", sum)\n",
    "    sum = sum+i #(sum += i)\n",
    "print(sum)    \n"
   ]
  },
  {
   "cell_type": "markdown",
   "metadata": {},
   "source": [
    "500과 1000사이에 있는 홀수의 합계"
   ]
  },
  {
   "cell_type": "code",
   "execution_count": 4,
   "metadata": {},
   "outputs": [
    {
     "name": "stdout",
     "output_type": "stream",
     "text": [
      "500과 1000 사이에 있는 홀수의 합계 : 187500\n"
     ]
    }
   ],
   "source": [
    "i, sum = 0, 0\n",
    "\n",
    "for i in range(501, 1001, 2):\n",
    "    sum = sum +i\n",
    "\n",
    "print(\"500과 1000 사이에 있는 홀수의 합계 : %d\" % sum)    "
   ]
  },
  {
   "cell_type": "markdown",
   "metadata": {},
   "source": [
    "위의 코드를 활용하여 0과 100 사이에 있는 7의 배수 합계를 구하시오"
   ]
  },
  {
   "cell_type": "code",
   "execution_count": 9,
   "metadata": {},
   "outputs": [
    {
     "name": "stdout",
     "output_type": "stream",
     "text": [
      "0과 100 사이에 있는 홀수의 합계 : 735\n"
     ]
    }
   ],
   "source": [
    "i, sum = 0, 0\n",
    "\n",
    "for i in range(0, 101, 7):\n",
    "    sum = sum +i\n",
    "\n",
    "print(\"0과 100 사이에 있는 홀수의 합계 : %d\" % sum)    "
   ]
  },
  {
   "cell_type": "markdown",
   "metadata": {},
   "source": [
    "구구단 2단을 출력 코드 작성\n",
    "print(), for 반복문 이용\n",
    "2 * 1 = 2\n",
    "2 * 2 = 4\n",
    "...\n",
    "...\n",
    "2 * 9 =18 "
   ]
  },
  {
   "cell_type": "code",
   "execution_count": 15,
   "metadata": {},
   "outputs": [
    {
     "name": "stdout",
     "output_type": "stream",
     "text": [
      "i :  1\n",
      "sum :  0\n",
      "i :  3\n",
      "sum :  0\n",
      "i :  5\n",
      "sum :  0\n",
      "i :  7\n",
      "sum :  0\n",
      "i :  9\n",
      "sum :  0\n"
     ]
    }
   ],
   "source": [
    "i, sum = 0, 0\n",
    "\n",
    "for i in range(1, 10, 2):\n",
    "    print(\"i : \", i)\n",
    "    print(\"sum : \", sum)\n",
    "    sum = sum*i\n"
   ]
  },
  {
   "cell_type": "markdown",
   "metadata": {},
   "source": [
    "반복문을 사용할 경우 \n",
    "\n",
    "* 어느 부분이 반복(규칙, 변화) 되는 지를 확인(변경되는 부분이 어느부분인지)"
   ]
  },
  {
   "cell_type": "code",
   "execution_count": 16,
   "metadata": {},
   "outputs": [
    {
     "name": "stdout",
     "output_type": "stream",
     "text": [
      "2 * 1 =  2\n",
      "2 * 2 =  4\n",
      "2 * 3 =  6\n",
      "2 * 4 =  8\n",
      "2 * 5 = 10\n",
      "2 * 6 = 12\n",
      "2 * 7 = 14\n",
      "2 * 8 = 16\n",
      "2 * 9 = 18\n"
     ]
    }
   ],
   "source": [
    "for i in range(1, 10, 1):\n",
    "    print(\"2 * %d = %2d\"% (i, i*2))"
   ]
  },
  {
   "cell_type": "markdown",
   "metadata": {},
   "source": [
    "위의 코드를 활용해서 2단부터 9단까지 출력하는 코드를 작성해 보세요\n",
    "for 반복문을 2개 중첩해서 사용"
   ]
  },
  {
   "cell_type": "code",
   "execution_count": 41,
   "metadata": {},
   "outputs": [
    {
     "name": "stdout",
     "output_type": "stream",
     "text": [
      "2 * 1 =  2\n",
      "2 * 2 =  4\n",
      "2 * 3 =  6\n",
      "2 * 4 =  8\n",
      "2 * 5 = 10\n",
      "2 * 6 = 12\n",
      "2 * 7 = 14\n",
      "2 * 8 = 16\n",
      "2 * 9 = 18\n",
      "3 * 1 =  3\n",
      "3 * 2 =  6\n",
      "3 * 3 =  9\n",
      "3 * 4 = 12\n",
      "3 * 5 = 15\n",
      "3 * 6 = 18\n",
      "3 * 7 = 21\n",
      "3 * 8 = 24\n",
      "3 * 9 = 27\n",
      "4 * 1 =  4\n",
      "4 * 2 =  8\n",
      "4 * 3 = 12\n",
      "4 * 4 = 16\n",
      "4 * 5 = 20\n",
      "4 * 6 = 24\n",
      "4 * 7 = 28\n",
      "4 * 8 = 32\n",
      "4 * 9 = 36\n",
      "5 * 1 =  5\n",
      "5 * 2 = 10\n",
      "5 * 3 = 15\n",
      "5 * 4 = 20\n",
      "5 * 5 = 25\n",
      "5 * 6 = 30\n",
      "5 * 7 = 35\n",
      "5 * 8 = 40\n",
      "5 * 9 = 45\n",
      "6 * 1 =  6\n",
      "6 * 2 = 12\n",
      "6 * 3 = 18\n",
      "6 * 4 = 24\n",
      "6 * 5 = 30\n",
      "6 * 6 = 36\n",
      "6 * 7 = 42\n",
      "6 * 8 = 48\n",
      "6 * 9 = 54\n",
      "7 * 1 =  7\n",
      "7 * 2 = 14\n",
      "7 * 3 = 21\n",
      "7 * 4 = 28\n",
      "7 * 5 = 35\n",
      "7 * 6 = 42\n",
      "7 * 7 = 49\n",
      "7 * 8 = 56\n",
      "7 * 9 = 63\n",
      "8 * 1 =  8\n",
      "8 * 2 = 16\n",
      "8 * 3 = 24\n",
      "8 * 4 = 32\n",
      "8 * 5 = 40\n",
      "8 * 6 = 48\n",
      "8 * 7 = 56\n",
      "8 * 8 = 64\n",
      "8 * 9 = 72\n",
      "9 * 1 =  9\n",
      "9 * 2 = 18\n",
      "9 * 3 = 27\n",
      "9 * 4 = 36\n",
      "9 * 5 = 45\n",
      "9 * 6 = 54\n",
      "9 * 7 = 63\n",
      "9 * 8 = 72\n",
      "9 * 9 = 81\n"
     ]
    }
   ],
   "source": [
    "\n",
    "for i in range(2, 10, 1):\n",
    "    for j in range(1, 10, 1):\n",
    "        print(\"%d * %d = %2d\"% (i, j, j*i))"
   ]
  },
  {
   "cell_type": "code",
   "execution_count": 40,
   "metadata": {},
   "outputs": [
    {
     "name": "stdout",
     "output_type": "stream",
     "text": [
      "2 * 1 =  2\n",
      "2 * 2 =  4\n",
      "2 * 3 =  6\n",
      "2 * 4 =  8\n",
      "2 * 5 = 10\n",
      "2 * 6 = 12\n",
      "2 * 7 = 14\n",
      "2 * 8 = 16\n",
      "2 * 9 = 18\n"
     ]
    }
   ],
   "source": [
    "n = int(input(\"단수를 입력하세요 : \"))\n",
    "\n",
    "for i in range(1, 10, 1):\n",
    "    print(\"%d * %d = %2d\"% (n, i, i*n))"
   ]
  },
  {
   "cell_type": "markdown",
   "metadata": {},
   "source": [
    "중첩 for 문"
   ]
  },
  {
   "cell_type": "code",
   "execution_count": null,
   "metadata": {},
   "outputs": [
    {
     "name": "stdout",
     "output_type": "stream",
     "text": [
      "파이썬은 꿀잼입니다.^^(i값 : 0, k값 : 0)\n",
      "파이썬은 꿀잼입니다.^^(i값 : 0, k값 : 1)\n",
      "파이썬은 꿀잼입니다.^^(i값 : 1, k값 : 0)\n",
      "파이썬은 꿀잼입니다.^^(i값 : 1, k값 : 1)\n",
      "파이썬은 꿀잼입니다.^^(i값 : 2, k값 : 0)\n",
      "파이썬은 꿀잼입니다.^^(i값 : 2, k값 : 1)\n"
     ]
    }
   ],
   "source": [
    "for i in range(0, 3, 1): #  i [0,1,2]\n",
    "    for k in range(0, 2, 1): #  k [0,1]\n",
    "        print(\"파이썬은 꿀잼입니다.^^(i값 : %d, k값 : %d)\"%(i, k))"
   ]
  },
  {
   "cell_type": "code",
   "execution_count": 15,
   "metadata": {},
   "outputs": [
    {
     "name": "stdout",
     "output_type": "stream",
     "text": [
      "  #  2단   #    #  3단   #    #  4단   #    #  5단   #    #  6단   #    #  7단   #    #  8단   #    #  9단   #  \n",
      " 2 x  1 =  2   3 x  1 =  3   4 x  1 =  4   5 x  1 =  5   6 x  1 =  6   7 x  1 =  7   8 x  1 =  8   9 x  1 =  9  \n",
      " 2 x  2 =  4   3 x  2 =  6   4 x  2 =  8   5 x  2 = 10   6 x  2 = 12   7 x  2 = 14   8 x  2 = 16   9 x  2 = 18  \n",
      " 2 x  3 =  6   3 x  3 =  9   4 x  3 = 12   5 x  3 = 15   6 x  3 = 18   7 x  3 = 21   8 x  3 = 24   9 x  3 = 27  \n",
      " 2 x  4 =  8   3 x  4 = 12   4 x  4 = 16   5 x  4 = 20   6 x  4 = 24   7 x  4 = 28   8 x  4 = 32   9 x  4 = 36  \n",
      " 2 x  5 = 10   3 x  5 = 15   4 x  5 = 20   5 x  5 = 25   6 x  5 = 30   7 x  5 = 35   8 x  5 = 40   9 x  5 = 45  \n",
      " 2 x  6 = 12   3 x  6 = 18   4 x  6 = 24   5 x  6 = 30   6 x  6 = 36   7 x  6 = 42   8 x  6 = 48   9 x  6 = 54  \n",
      " 2 x  7 = 14   3 x  7 = 21   4 x  7 = 28   5 x  7 = 35   6 x  7 = 42   7 x  7 = 49   8 x  7 = 56   9 x  7 = 63  \n",
      " 2 x  8 = 16   3 x  8 = 24   4 x  8 = 32   5 x  8 = 40   6 x  8 = 48   7 x  8 = 56   8 x  8 = 64   9 x  8 = 72  \n",
      " 2 x  9 = 18   3 x  9 = 27   4 x  9 = 36   5 x  9 = 45   6 x  9 = 54   7 x  9 = 63   8 x  9 = 72   9 x  9 = 81  \n"
     ]
    }
   ],
   "source": [
    "i, k, a = 0, 0, \"\"\n",
    "\n",
    "for i in range(2, 10):\n",
    "    a = a + (\"  #  %d단   #  \" % i)\n",
    "\n",
    "print(a)    \n",
    "\n",
    "for i in range(1, 10):\n",
    "    a=\"\"\n",
    "    for k in range(2, 10):\n",
    "        a = a +str(\"%2d x %2d = %2d  \" % (k, i, k*i))\n",
    "    print(a)    "
   ]
  },
  {
   "cell_type": "markdown",
   "metadata": {},
   "source": [
    "while 문은 반복 횟수를 결정하기 보다 조건이 참일때 반복\n",
    "\n",
    "for 문 : 리스트, 대규모 DB값, 순차적으로 반복해야 할 때 많이 사용\n",
    "\n",
    "while 문 : 조건일 때만 동작, for 문 기능까지 함"
   ]
  },
  {
   "cell_type": "code",
   "execution_count": null,
   "metadata": {},
   "outputs": [
    {
     "name": "stdout",
     "output_type": "stream",
     "text": [
      "%d : 안녕하세요? for 문을 공부 중입니다. ^^\n",
      "%d : 안녕하세요? for 문을 공부 중입니다. ^^\n",
      "%d : 안녕하세요? for 문을 공부 중입니다. ^^\n"
     ]
    }
   ],
   "source": [
    "# for 문 안녕하세요~ 3회 출력하는 코드\n",
    "\n",
    "for i in range(0, 3, 1):\n",
    "    print(\"%d : 안녕하세요? for 문을 공부 중입니다. ^^\" % i )"
   ]
  },
  {
   "cell_type": "code",
   "execution_count": null,
   "metadata": {},
   "outputs": [
    {
     "name": "stdout",
     "output_type": "stream",
     "text": [
      "0 : 안녕하세요? for 문을 공부 중입니다. ^^\n",
      "1 : 안녕하세요? for 문을 공부 중입니다. ^^\n",
      "2 : 안녕하세요? for 문을 공부 중입니다. ^^\n"
     ]
    }
   ],
   "source": [
    "# i = 0 : for 문 range 부분 첫부분\n",
    "i = 0\n",
    "# while i < 3 부분 i가 3보다 작을 때 실행\n",
    "while i < 3:\n",
    "    print(\"%d : 안녕하세요? for 문을 공부 중입니다. ^^\" % i )\n",
    "    i += 1 # i를 1씩 증가"
   ]
  },
  {
   "cell_type": "markdown",
   "metadata": {},
   "source": [
    "while"
   ]
  },
  {
   "cell_type": "code",
   "execution_count": null,
   "metadata": {},
   "outputs": [
    {
     "name": "stdout",
     "output_type": "stream",
     "text": [
      "1에서 10까지의 합계 : 66\n"
     ]
    }
   ],
   "source": [
    "\n",
    "i, sum = 0, 0  # i값 sum값 0 --> 초기값을 설정\n",
    "\n",
    "i = 1 # 시작값\n",
    "while i < 11: # while문 조건이 10까지 돌아가야하기 때문\n",
    "    sum += i\n",
    "    i += 1\n",
    "\n",
    "print(\"1에서 10까지의 합계 : %d\" % sum)    "
   ]
  },
  {
   "cell_type": "markdown",
   "metadata": {},
   "source": [
    "tip\n",
    "    간단한 구문은 안보고 작성하는 것\n",
    "\n",
    "    부분 부분 별로 바꾸어서 해보기\n",
    "        * 바꿨을때 어떻게 될지 추론\n",
    "        * 실행 계산 결과 확인\n",
    "        * 추론이 어떤것들이 틀렸는지 확인"
   ]
  },
  {
   "cell_type": "markdown",
   "metadata": {},
   "source": [
    "while문 무한루프\n",
    "\n",
    "계속 돌아가는 while문"
   ]
  },
  {
   "cell_type": "code",
   "execution_count": null,
   "metadata": {},
   "outputs": [],
   "source": [
    "while True:\n",
    "    print(\"무한루프 반복문\")"
   ]
  },
  {
   "cell_type": "markdown",
   "metadata": {},
   "source": [
    "ex) 무한 루프를 사용해 입력한 두 숫자의 합계를 반복해서 계산"
   ]
  },
  {
   "cell_type": "code",
   "execution_count": 31,
   "metadata": {},
   "outputs": [
    {
     "name": "stdout",
     "output_type": "stream",
     "text": [
      "10 + 20 = 30\n",
      "10 + 20 = 30\n"
     ]
    },
    {
     "ename": "KeyboardInterrupt",
     "evalue": "Interrupted by user",
     "output_type": "error",
     "traceback": [
      "\u001b[1;31m---------------------------------------------------------------------------\u001b[0m",
      "\u001b[1;31mKeyboardInterrupt\u001b[0m                         Traceback (most recent call last)",
      "Cell \u001b[1;32mIn[31], line 5\u001b[0m\n\u001b[0;32m      2\u001b[0m a, b \u001b[38;5;241m=\u001b[39m \u001b[38;5;241m0\u001b[39m , \u001b[38;5;241m0\u001b[39m \u001b[38;5;66;03m# a, b 는 더할 두 숫자\u001b[39;00m\n\u001b[0;32m      4\u001b[0m \u001b[38;5;28;01mwhile\u001b[39;00m \u001b[38;5;28;01mTrue\u001b[39;00m:\n\u001b[1;32m----> 5\u001b[0m     a \u001b[38;5;241m=\u001b[39m \u001b[38;5;28mint\u001b[39m(\u001b[38;5;28;43minput\u001b[39;49m\u001b[43m(\u001b[49m\u001b[38;5;124;43m\"\u001b[39;49m\u001b[38;5;124;43m더 할 첫 번째 수를 입력하세요 : \u001b[39;49m\u001b[38;5;124;43m\"\u001b[39;49m\u001b[43m)\u001b[49m)\n\u001b[0;32m      6\u001b[0m     b \u001b[38;5;241m=\u001b[39m \u001b[38;5;28mint\u001b[39m(\u001b[38;5;28minput\u001b[39m(\u001b[38;5;124m\"\u001b[39m\u001b[38;5;124m더 할 두 번째 수를 입력하세요 : \u001b[39m\u001b[38;5;124m\"\u001b[39m))\n\u001b[0;32m      7\u001b[0m     \u001b[38;5;28msum\u001b[39m \u001b[38;5;241m=\u001b[39m a\u001b[38;5;241m+\u001b[39mb\n",
      "File \u001b[1;32m~\\AppData\\Local\\Packages\\PythonSoftwareFoundation.Python.3.11_qbz5n2kfra8p0\\LocalCache\\local-packages\\Python311\\site-packages\\ipykernel\\kernelbase.py:1282\u001b[0m, in \u001b[0;36mKernel.raw_input\u001b[1;34m(self, prompt)\u001b[0m\n\u001b[0;32m   1280\u001b[0m     msg \u001b[38;5;241m=\u001b[39m \u001b[38;5;124m\"\u001b[39m\u001b[38;5;124mraw_input was called, but this frontend does not support input requests.\u001b[39m\u001b[38;5;124m\"\u001b[39m\n\u001b[0;32m   1281\u001b[0m     \u001b[38;5;28;01mraise\u001b[39;00m StdinNotImplementedError(msg)\n\u001b[1;32m-> 1282\u001b[0m \u001b[38;5;28;01mreturn\u001b[39;00m \u001b[38;5;28;43mself\u001b[39;49m\u001b[38;5;241;43m.\u001b[39;49m\u001b[43m_input_request\u001b[49m\u001b[43m(\u001b[49m\n\u001b[0;32m   1283\u001b[0m \u001b[43m    \u001b[49m\u001b[38;5;28;43mstr\u001b[39;49m\u001b[43m(\u001b[49m\u001b[43mprompt\u001b[49m\u001b[43m)\u001b[49m\u001b[43m,\u001b[49m\n\u001b[0;32m   1284\u001b[0m \u001b[43m    \u001b[49m\u001b[38;5;28;43mself\u001b[39;49m\u001b[38;5;241;43m.\u001b[39;49m\u001b[43m_parent_ident\u001b[49m\u001b[43m[\u001b[49m\u001b[38;5;124;43m\"\u001b[39;49m\u001b[38;5;124;43mshell\u001b[39;49m\u001b[38;5;124;43m\"\u001b[39;49m\u001b[43m]\u001b[49m\u001b[43m,\u001b[49m\n\u001b[0;32m   1285\u001b[0m \u001b[43m    \u001b[49m\u001b[38;5;28;43mself\u001b[39;49m\u001b[38;5;241;43m.\u001b[39;49m\u001b[43mget_parent\u001b[49m\u001b[43m(\u001b[49m\u001b[38;5;124;43m\"\u001b[39;49m\u001b[38;5;124;43mshell\u001b[39;49m\u001b[38;5;124;43m\"\u001b[39;49m\u001b[43m)\u001b[49m\u001b[43m,\u001b[49m\n\u001b[0;32m   1286\u001b[0m \u001b[43m    \u001b[49m\u001b[43mpassword\u001b[49m\u001b[38;5;241;43m=\u001b[39;49m\u001b[38;5;28;43;01mFalse\u001b[39;49;00m\u001b[43m,\u001b[49m\n\u001b[0;32m   1287\u001b[0m \u001b[43m\u001b[49m\u001b[43m)\u001b[49m\n",
      "File \u001b[1;32m~\\AppData\\Local\\Packages\\PythonSoftwareFoundation.Python.3.11_qbz5n2kfra8p0\\LocalCache\\local-packages\\Python311\\site-packages\\ipykernel\\kernelbase.py:1325\u001b[0m, in \u001b[0;36mKernel._input_request\u001b[1;34m(self, prompt, ident, parent, password)\u001b[0m\n\u001b[0;32m   1322\u001b[0m \u001b[38;5;28;01mexcept\u001b[39;00m \u001b[38;5;167;01mKeyboardInterrupt\u001b[39;00m:\n\u001b[0;32m   1323\u001b[0m     \u001b[38;5;66;03m# re-raise KeyboardInterrupt, to truncate traceback\u001b[39;00m\n\u001b[0;32m   1324\u001b[0m     msg \u001b[38;5;241m=\u001b[39m \u001b[38;5;124m\"\u001b[39m\u001b[38;5;124mInterrupted by user\u001b[39m\u001b[38;5;124m\"\u001b[39m\n\u001b[1;32m-> 1325\u001b[0m     \u001b[38;5;28;01mraise\u001b[39;00m \u001b[38;5;167;01mKeyboardInterrupt\u001b[39;00m(msg) \u001b[38;5;28;01mfrom\u001b[39;00m \u001b[38;5;28;01mNone\u001b[39;00m\n\u001b[0;32m   1326\u001b[0m \u001b[38;5;28;01mexcept\u001b[39;00m \u001b[38;5;167;01mException\u001b[39;00m:\n\u001b[0;32m   1327\u001b[0m     \u001b[38;5;28mself\u001b[39m\u001b[38;5;241m.\u001b[39mlog\u001b[38;5;241m.\u001b[39mwarning(\u001b[38;5;124m\"\u001b[39m\u001b[38;5;124mInvalid Message:\u001b[39m\u001b[38;5;124m\"\u001b[39m, exc_info\u001b[38;5;241m=\u001b[39m\u001b[38;5;28;01mTrue\u001b[39;00m)\n",
      "\u001b[1;31mKeyboardInterrupt\u001b[0m: Interrupted by user"
     ]
    }
   ],
   "source": [
    "sum = 0\n",
    "a, b = 0 , 0 # a, b 는 더할 두 숫자\n",
    "\n",
    "while True:\n",
    "    a = int(input(\"더 할 첫 번째 수를 입력하세요 : \"))\n",
    "    b = int(input(\"더 할 두 번째 수를 입력하세요 : \"))\n",
    "    sum = a+b\n",
    "    print(\"%d + %d = %d\" % (a, b, sum))"
   ]
  },
  {
   "cell_type": "markdown",
   "metadata": {},
   "source": [
    "\n",
    "무한 루프를 종료 하려면 ?\n",
    "\n",
    "    주피터 노트북 : 코드 블럭 왼쩍에 사각형 버튼이나 (esc키를 누르면됨)\n",
    "\n",
    "    터미널 : cantrol + C"
   ]
  },
  {
   "cell_type": "markdown",
   "metadata": {},
   "source": [
    "반복문을 탈출시키는 Break 문\n",
    "\n",
    "    * Break 반복문을 중지하는 역할"
   ]
  },
  {
   "cell_type": "code",
   "execution_count": 33,
   "metadata": {},
   "outputs": [
    {
     "name": "stdout",
     "output_type": "stream",
     "text": [
      "for 문을 1 번 실행\n"
     ]
    }
   ],
   "source": [
    "for i in range(1, 100):\n",
    "    print(\"for 문을 %d 번 실행\" % i)\n",
    "    break"
   ]
  },
  {
   "cell_type": "markdown",
   "metadata": {},
   "source": [
    "위 구문에서 if문을 추가해서 i가 100일때 중지가 되도록 작성"
   ]
  },
  {
   "cell_type": "code",
   "execution_count": 45,
   "metadata": {},
   "outputs": [
    {
     "name": "stdout",
     "output_type": "stream",
     "text": [
      "for 문을 1 번 실행\n",
      "for 문을 2 번 실행\n",
      "for 문을 3 번 실행\n",
      "for 문을 4 번 실행\n",
      "for 문을 5 번 실행\n",
      "for 문을 6 번 실행\n",
      "for 문을 7 번 실행\n",
      "for 문을 8 번 실행\n",
      "for 문을 9 번 실행\n",
      "for 문을 10 번 실행\n",
      "for 문을 11 번 실행\n",
      "for 문을 12 번 실행\n",
      "for 문을 13 번 실행\n",
      "for 문을 14 번 실행\n",
      "for 문을 15 번 실행\n",
      "for 문을 16 번 실행\n",
      "for 문을 17 번 실행\n",
      "for 문을 18 번 실행\n",
      "for 문을 19 번 실행\n",
      "for 문을 20 번 실행\n",
      "for 문을 21 번 실행\n",
      "for 문을 22 번 실행\n",
      "for 문을 23 번 실행\n",
      "for 문을 24 번 실행\n",
      "for 문을 25 번 실행\n",
      "for 문을 26 번 실행\n",
      "for 문을 27 번 실행\n",
      "for 문을 28 번 실행\n",
      "for 문을 29 번 실행\n",
      "for 문을 30 번 실행\n",
      "for 문을 31 번 실행\n",
      "for 문을 32 번 실행\n",
      "for 문을 33 번 실행\n",
      "for 문을 34 번 실행\n",
      "for 문을 35 번 실행\n",
      "for 문을 36 번 실행\n",
      "for 문을 37 번 실행\n",
      "for 문을 38 번 실행\n",
      "for 문을 39 번 실행\n",
      "for 문을 40 번 실행\n",
      "for 문을 41 번 실행\n",
      "for 문을 42 번 실행\n",
      "for 문을 43 번 실행\n",
      "for 문을 44 번 실행\n",
      "for 문을 45 번 실행\n",
      "for 문을 46 번 실행\n",
      "for 문을 47 번 실행\n",
      "for 문을 48 번 실행\n",
      "for 문을 49 번 실행\n",
      "for 문을 50 번 실행\n",
      "for 문을 51 번 실행\n",
      "for 문을 52 번 실행\n",
      "for 문을 53 번 실행\n",
      "for 문을 54 번 실행\n",
      "for 문을 55 번 실행\n",
      "for 문을 56 번 실행\n",
      "for 문을 57 번 실행\n",
      "for 문을 58 번 실행\n",
      "for 문을 59 번 실행\n",
      "for 문을 60 번 실행\n",
      "for 문을 61 번 실행\n",
      "for 문을 62 번 실행\n",
      "for 문을 63 번 실행\n",
      "for 문을 64 번 실행\n",
      "for 문을 65 번 실행\n",
      "for 문을 66 번 실행\n",
      "for 문을 67 번 실행\n",
      "for 문을 68 번 실행\n",
      "for 문을 69 번 실행\n",
      "for 문을 70 번 실행\n",
      "for 문을 71 번 실행\n",
      "for 문을 72 번 실행\n",
      "for 문을 73 번 실행\n",
      "for 문을 74 번 실행\n",
      "for 문을 75 번 실행\n",
      "for 문을 76 번 실행\n",
      "for 문을 77 번 실행\n",
      "for 문을 78 번 실행\n",
      "for 문을 79 번 실행\n",
      "for 문을 80 번 실행\n",
      "for 문을 81 번 실행\n",
      "for 문을 82 번 실행\n",
      "for 문을 83 번 실행\n",
      "for 문을 84 번 실행\n",
      "for 문을 85 번 실행\n",
      "for 문을 86 번 실행\n",
      "for 문을 87 번 실행\n",
      "for 문을 88 번 실행\n",
      "for 문을 89 번 실행\n",
      "for 문을 90 번 실행\n",
      "for 문을 91 번 실행\n",
      "for 문을 92 번 실행\n",
      "for 문을 93 번 실행\n",
      "for 문을 94 번 실행\n",
      "for 문을 95 번 실행\n",
      "for 문을 96 번 실행\n",
      "for 문을 97 번 실행\n",
      "for 문을 98 번 실행\n",
      "for 문을 99 번 실행\n"
     ]
    }
   ],
   "source": [
    "for i in range(1, 100):\n",
    "    print(\"for 문을 %d 번 실행\" % i)\n",
    "    if i >= 100:\n",
    "        break"
   ]
  },
  {
   "cell_type": "code",
   "execution_count": 53,
   "metadata": {},
   "outputs": [
    {
     "name": "stdout",
     "output_type": "stream",
     "text": [
      "10 + 20 = 30\n",
      "10 + 20 = 30\n"
     ]
    }
   ],
   "source": [
    "# 숫자 대신에 $를 집어넣으면 loop가 종료(break)\n",
    "\n",
    "sum = 0\n",
    "a, b = 0 , 0 # a, b 는 더할 두 숫자\n",
    "\n",
    "while True:\n",
    "    a = input(\"더 할 첫 번째 수를 입력하세요 : \")\n",
    "    if a == \"$\":\n",
    "        break\n",
    "    b = input(\"더 할 두 번째 수를 입력하세요 : \")\n",
    "    if b == \"$\":\n",
    "        break\n",
    "\n",
    "    a = int(a)\n",
    "    b = int(b)\n",
    "    sum = a + b\n",
    "    print(\"%d + %d = %d\" % (a, b, sum))\n",
    "    \n"
   ]
  },
  {
   "cell_type": "markdown",
   "metadata": {},
   "source": [
    "continue 문 반복문처음으로 다시 돌아가는 구문"
   ]
  },
  {
   "cell_type": "code",
   "execution_count": null,
   "metadata": {},
   "outputs": [],
   "source": [
    "sum, i = 0, 0\n",
    "\n",
    "for i in range(1, 101):\n",
    "    # 정수를 3으로 나눠서 0인 경우 -> 3의 배수를 의미\n",
    "    # if 문에서 3의 배수이면 continue\n",
    "    # continue를 싱행하면 sum += i가 실행이 되지 않고 for문의 처음으로 이동함\n",
    "    if 1 % 3 == 0:\n",
    "        continue\n",
    "\n",
    "    sum += i\n",
    "\n",
    "print(\"1~100의 합계 (3의 배수는 제외): %d\" % sum)\n"
   ]
  },
  {
   "cell_type": "markdown",
   "metadata": {},
   "source": [
    "별모양의 글자를 출력하는 코드\n",
    "print(\"\\u2605\")"
   ]
  },
  {
   "cell_type": "code",
   "execution_count": 56,
   "metadata": {},
   "outputs": [
    {
     "name": "stdout",
     "output_type": "stream",
     "text": [
      "★\n"
     ]
    }
   ],
   "source": [
    "print(\"\\u2605\") # 유니코드"
   ]
  },
  {
   "cell_type": "markdown",
   "metadata": {},
   "source": [
    "유니코드란? \n",
    "\n",
    "전 세계의 대부분의 문자와 심볼을 고유한 코드포인트로\n",
    "매핑한 국제 표준 u다음에 숫자는 16진수로 표현"
   ]
  },
  {
   "cell_type": "code",
   "execution_count": 77,
   "metadata": {},
   "outputs": [
    {
     "name": "stdout",
     "output_type": "stream",
     "text": [
      "        ★\n",
      "      ★★★\n",
      "    ★★★★★\n",
      "  ★★★★★★★\n",
      "★★★★★★★★★\n",
      "  ★★★★★★★\n",
      "    ★★★★★\n",
      "      ★★★\n",
      "        ★\n"
     ]
    }
   ],
   "source": [
    "i, k = 0, 0\n",
    "\n",
    "i = 0\n",
    "while i < 9:\n",
    "    if i < 5:\n",
    "        k = 0\n",
    "        while k < 4 - i:\n",
    "            print(\" \", end = \" \")\n",
    "            k += 1\n",
    "        k = 0\n",
    "        while k < i * 2 + 1:\n",
    "            print(\"\\u2605\", end = \"\")            \n",
    "            k += 1\n",
    "    else:\n",
    "        k = 0\n",
    "        while k < i - 4:\n",
    "            print(\" \", end = \" \")\n",
    "            k += 1\n",
    "        k = 0                \n",
    "        while k < (9 - i) * 2 - 1:\n",
    "            print(\"\\u2605\", end = \"\")            \n",
    "            k += 1\n",
    "    print()\n",
    "    i += 1        \n"
   ]
  }
 ],
 "metadata": {
  "kernelspec": {
   "display_name": "Python 3",
   "language": "python",
   "name": "python3"
  },
  "language_info": {
   "codemirror_mode": {
    "name": "ipython",
    "version": 3
   },
   "file_extension": ".py",
   "mimetype": "text/x-python",
   "name": "python",
   "nbconvert_exporter": "python",
   "pygments_lexer": "ipython3",
   "version": "3.11.9"
  }
 },
 "nbformat": 4,
 "nbformat_minor": 2
}
