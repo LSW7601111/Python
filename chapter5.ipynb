{
 "cells": [
  {
   "cell_type": "code",
   "execution_count": 1,
   "metadata": {},
   "outputs": [
    {
     "name": "stdout",
     "output_type": "stream",
     "text": [
      "안녕하세요? for문을 공부중 입니다. ^^\n",
      "안녕하세요? for문을 공부중 입니다. ^^\n",
      "안녕하세요? for문을 공부중 입니다. ^^\n"
     ]
    }
   ],
   "source": [
    "# i 라는 변수가 계속 반복되면서 증가\n",
    "for i in range(0, 3, 1):\n",
    "    print(\"안녕하세요? for문을 공부중 입니다. ^^\")"
   ]
  },
  {
   "cell_type": "markdown",
   "metadata": {},
   "source": [
    "1부터 10까지 합계 구하는 코드를 작성하시오\n",
    "for문 사용"
   ]
  },
  {
   "cell_type": "code",
   "execution_count": 7,
   "metadata": {},
   "outputs": [
    {
     "name": "stdout",
     "output_type": "stream",
     "text": [
      "i :  1\n",
      "sum :  0\n",
      "i :  2\n",
      "sum :  1\n",
      "i :  3\n",
      "sum :  3\n",
      "i :  4\n",
      "sum :  6\n",
      "i :  5\n",
      "sum :  10\n",
      "i :  6\n",
      "sum :  15\n",
      "i :  7\n",
      "sum :  21\n",
      "i :  8\n",
      "sum :  28\n",
      "i :  9\n",
      "sum :  36\n",
      "i :  10\n",
      "sum :  45\n",
      "55\n"
     ]
    }
   ],
   "source": [
    "sum = 0\n",
    "for i in range(1, 11, 1):\n",
    "    print(\"i : \", i)\n",
    "    print(\"sum : \", sum)\n",
    "    sum = sum+i\n",
    "print(sum)    \n"
   ]
  },
  {
   "cell_type": "markdown",
   "metadata": {},
   "source": [
    "500과 1000사이에 있는 홀수의 합계"
   ]
  },
  {
   "cell_type": "code",
   "execution_count": 4,
   "metadata": {},
   "outputs": [
    {
     "name": "stdout",
     "output_type": "stream",
     "text": [
      "500과 1000 사이에 있는 홀수의 합계 : 187500\n"
     ]
    }
   ],
   "source": [
    "i, sum = 0, 0\n",
    "\n",
    "for i in range(501, 1001, 2):\n",
    "    sum = sum +i\n",
    "\n",
    "print(\"500과 1000 사이에 있는 홀수의 합계 : %d\" % sum)    "
   ]
  },
  {
   "cell_type": "markdown",
   "metadata": {},
   "source": [
    "위의 코드를 활용하여 0과 100 사이에 있는 7의 배수 합계를 구하시오"
   ]
  },
  {
   "cell_type": "code",
   "execution_count": 9,
   "metadata": {},
   "outputs": [
    {
     "name": "stdout",
     "output_type": "stream",
     "text": [
      "0과 100 사이에 있는 홀수의 합계 : 735\n"
     ]
    }
   ],
   "source": [
    "i, sum = 0, 0\n",
    "\n",
    "for i in range(0, 101, 7):\n",
    "    sum = sum +i\n",
    "\n",
    "print(\"0과 100 사이에 있는 홀수의 합계 : %d\" % sum)    "
   ]
  },
  {
   "cell_type": "markdown",
   "metadata": {},
   "source": [
    "구구단 2단을 출력 코드 작성\n",
    "print(), for 반복문 이용\n",
    "2 * 1 = 2\n",
    "2 * 2 = 4\n",
    "...\n",
    "...\n",
    "2 * 9 =18 "
   ]
  },
  {
   "cell_type": "code",
   "execution_count": 15,
   "metadata": {},
   "outputs": [
    {
     "name": "stdout",
     "output_type": "stream",
     "text": [
      "i :  1\n",
      "sum :  0\n",
      "i :  3\n",
      "sum :  0\n",
      "i :  5\n",
      "sum :  0\n",
      "i :  7\n",
      "sum :  0\n",
      "i :  9\n",
      "sum :  0\n"
     ]
    }
   ],
   "source": [
    "i, sum = 0, 0\n",
    "\n",
    "for i in range(1, 10, 2):\n",
    "    print(\"i : \", i)\n",
    "    print(\"sum : \", sum)\n",
    "    sum = sum*i\n"
   ]
  },
  {
   "cell_type": "markdown",
   "metadata": {},
   "source": [
    "반복문을 사용할 경우 \n",
    "\n",
    "* 어느 부분이 반복(규칙, 변화) 되는 지를 확인(변경되는 부분이 어느부분인지)"
   ]
  },
  {
   "cell_type": "code",
   "execution_count": 16,
   "metadata": {},
   "outputs": [
    {
     "name": "stdout",
     "output_type": "stream",
     "text": [
      "2 * 1 =  2\n",
      "2 * 2 =  4\n",
      "2 * 3 =  6\n",
      "2 * 4 =  8\n",
      "2 * 5 = 10\n",
      "2 * 6 = 12\n",
      "2 * 7 = 14\n",
      "2 * 8 = 16\n",
      "2 * 9 = 18\n"
     ]
    }
   ],
   "source": [
    "for i in range(1, 10, 1):\n",
    "    print(\"2 * %d = %2d\"% (i, i*2))"
   ]
  },
  {
   "cell_type": "markdown",
   "metadata": {},
   "source": [
    "위의 코드를 활용해서 2단부터 9단까지 출력하는 코드를 작성해 보세요\n",
    "for 반복문을 2개 중첩해서 사용"
   ]
  },
  {
   "cell_type": "code",
   "execution_count": 41,
   "metadata": {},
   "outputs": [
    {
     "name": "stdout",
     "output_type": "stream",
     "text": [
      "2 * 1 =  2\n",
      "2 * 2 =  4\n",
      "2 * 3 =  6\n",
      "2 * 4 =  8\n",
      "2 * 5 = 10\n",
      "2 * 6 = 12\n",
      "2 * 7 = 14\n",
      "2 * 8 = 16\n",
      "2 * 9 = 18\n",
      "3 * 1 =  3\n",
      "3 * 2 =  6\n",
      "3 * 3 =  9\n",
      "3 * 4 = 12\n",
      "3 * 5 = 15\n",
      "3 * 6 = 18\n",
      "3 * 7 = 21\n",
      "3 * 8 = 24\n",
      "3 * 9 = 27\n",
      "4 * 1 =  4\n",
      "4 * 2 =  8\n",
      "4 * 3 = 12\n",
      "4 * 4 = 16\n",
      "4 * 5 = 20\n",
      "4 * 6 = 24\n",
      "4 * 7 = 28\n",
      "4 * 8 = 32\n",
      "4 * 9 = 36\n",
      "5 * 1 =  5\n",
      "5 * 2 = 10\n",
      "5 * 3 = 15\n",
      "5 * 4 = 20\n",
      "5 * 5 = 25\n",
      "5 * 6 = 30\n",
      "5 * 7 = 35\n",
      "5 * 8 = 40\n",
      "5 * 9 = 45\n",
      "6 * 1 =  6\n",
      "6 * 2 = 12\n",
      "6 * 3 = 18\n",
      "6 * 4 = 24\n",
      "6 * 5 = 30\n",
      "6 * 6 = 36\n",
      "6 * 7 = 42\n",
      "6 * 8 = 48\n",
      "6 * 9 = 54\n",
      "7 * 1 =  7\n",
      "7 * 2 = 14\n",
      "7 * 3 = 21\n",
      "7 * 4 = 28\n",
      "7 * 5 = 35\n",
      "7 * 6 = 42\n",
      "7 * 7 = 49\n",
      "7 * 8 = 56\n",
      "7 * 9 = 63\n",
      "8 * 1 =  8\n",
      "8 * 2 = 16\n",
      "8 * 3 = 24\n",
      "8 * 4 = 32\n",
      "8 * 5 = 40\n",
      "8 * 6 = 48\n",
      "8 * 7 = 56\n",
      "8 * 8 = 64\n",
      "8 * 9 = 72\n",
      "9 * 1 =  9\n",
      "9 * 2 = 18\n",
      "9 * 3 = 27\n",
      "9 * 4 = 36\n",
      "9 * 5 = 45\n",
      "9 * 6 = 54\n",
      "9 * 7 = 63\n",
      "9 * 8 = 72\n",
      "9 * 9 = 81\n"
     ]
    }
   ],
   "source": [
    "\n",
    "for i in range(2, 10, 1):\n",
    "    for j in range(1, 10, 1):\n",
    "        print(\"%d * %d = %2d\"% (i, j, j*i))"
   ]
  },
  {
   "cell_type": "code",
   "execution_count": 40,
   "metadata": {},
   "outputs": [
    {
     "name": "stdout",
     "output_type": "stream",
     "text": [
      "2 * 1 =  2\n",
      "2 * 2 =  4\n",
      "2 * 3 =  6\n",
      "2 * 4 =  8\n",
      "2 * 5 = 10\n",
      "2 * 6 = 12\n",
      "2 * 7 = 14\n",
      "2 * 8 = 16\n",
      "2 * 9 = 18\n"
     ]
    }
   ],
   "source": [
    "n = int(input(\"단수를 입력하세요 : \"))\n",
    "\n",
    "for i in range(1, 10, 1):\n",
    "    print(\"%d * %d = %2d\"% (n, i, i*n))"
   ]
  }
 ],
 "metadata": {
  "kernelspec": {
   "display_name": "Python 3",
   "language": "python",
   "name": "python3"
  },
  "language_info": {
   "codemirror_mode": {
    "name": "ipython",
    "version": 3
   },
   "file_extension": ".py",
   "mimetype": "text/x-python",
   "name": "python",
   "nbconvert_exporter": "python",
   "pygments_lexer": "ipython3",
   "version": "3.11.9"
  }
 },
 "nbformat": 4,
 "nbformat_minor": 2
}
