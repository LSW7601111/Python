{
 "cells": [
  {
   "cell_type": "markdown",
   "metadata": {},
   "source": [
    "Chapter3"
   ]
  },
  {
   "cell_type": "markdown",
   "metadata": {},
   "source": [
    "산술 연산자 우선순위\n",
    "1. 괄호가 제일 우선, 곱셈(나눗셈), 덧셈(뺄셈) 순서로 진행\n",
    "2. (곱셈, 나눗셈), (덧셈, 뺄셈)이 같이 있으면 왼쪽에서 오른쪽 순서로 연산 진행\n",
    "3. 순서가 애매할 수 있으니 괄호를 잘 활용하는 것이 좋다\n"
   ]
  },
  {
   "cell_type": "markdown",
   "metadata": {},
   "source": [
    "데이터 타입 변환 함수\n",
    "1. int() : 문자열 -> 정수형\n",
    "2. float() : 문자열 -> 실수형\n",
    "3. str() : 숫자 형태(정수 또는 실수) -> 문자열"
   ]
  },
  {
   "cell_type": "markdown",
   "metadata": {},
   "source": [
    "대입연산자"
   ]
  },
  {
   "cell_type": "code",
   "execution_count": null,
   "metadata": {},
   "outputs": [
    {
     "name": "stdout",
     "output_type": "stream",
     "text": [
      "15\n",
      "10\n",
      "50\n",
      "312500000\n",
      "62500000.0\n",
      "12500000.0\n",
      "0.0\n"
     ]
    }
   ],
   "source": [
    "a = 10\n",
    "a += 5; print(a) # a = a + 5\n",
    "a -= 5; print(a) # a = a - 5\n",
    "a *= 5; print(a) # a = a * 5\n",
    "a **= 5; print(a) # a = a**5\n",
    "a /= 5; print(a) # a =  a / 5\n",
    "a //= 5; print(a) # a = a // 5\n",
    "a %= 5; print(a) # a = a %5\n"
   ]
  },
  {
   "cell_type": "markdown",
   "metadata": {},
   "source": [
    "동전 교환 프로그램 만들기\n",
    "\n",
    "1. 교환할 돈을 입력하는 단계\n",
    "2. 500원짜리, 100원짜리, 50원짜리, 10원짜리, 바꾸지 못한 잔돈 등으로 표시 \n",
    " * 어떤 문제가 주어지면 쪼개서 생각하는 습관\n",
    " * 시물레이션 또는 가정을 하여 접근\n",
    "\n",
    " ex) 1770원을 교환 해야한다고 가정\n",
    "    * 500원짜리 3개 교환 후(몫 연산을 해야된다는 것을 생각) ->\n",
    "      100원짜리 2개 -> 50원짜리 1개 -> 10원짜리 2개를 변환"
   ]
  },
  {
   "cell_type": "code",
   "execution_count": 15,
   "metadata": {},
   "outputs": [
    {
     "name": "stdout",
     "output_type": "stream",
     "text": [
      "500원 짜리 ===> 5개\n",
      "나머지금액 450원\n",
      "100원 짜리 ===> 4개\n",
      "나머지금액 50원\n",
      "50원 짜리 ===> 1개\n",
      "나머지금액 0원\n",
      "10원 짜리 ===> 0개\n",
      "나머지금액 0원\n"
     ]
    }
   ],
   "source": [
    "money = int(input(\"교환할 돈을 입력하세요 : \"))\n",
    "# 1770원을 가정하고 파이썬으로 계산 해 보자\n",
    "# 몫, 나머지 연산 -> python 언어로 어떻게 표현이 되는지를 찾아보자\n",
    "# // -> 몫, % -> 나머지 \n",
    "\n",
    "# money = 1770\n",
    "\n",
    "money // 500 # 몫\n",
    "money % 500 # 나머지\n",
    "# print를 통해서 숫자 나타내는 방법을 찾아봄\n",
    "print(\"500원 짜리 ===> %d개\" % (money//500))\n",
    "money %= 500\n",
    "print(\"나머지금액 %d원\" % (money))\n",
    "print(\"100원 짜리 ===> %d개\" % (money//100))\n",
    "money %= 100\n",
    "print(\"나머지금액 %d원\" % (money))\n",
    "print(\"50원 짜리 ===> %d개\" % (money//50))\n",
    "money %= 50\n",
    "print(\"나머지금액 %d원\" % (money))\n",
    "print(\"10원 짜리 ===> %d개\" % (money//10))\n",
    "money %= 10\n",
    "print(\"나머지금액 %d원\" % (money))\n",
    "\n",
    "\n",
    "\n",
    "\n"
   ]
  }
 ],
 "metadata": {
  "kernelspec": {
   "display_name": "Python 3",
   "language": "python",
   "name": "python3"
  },
  "language_info": {
   "codemirror_mode": {
    "name": "ipython",
    "version": 3
   },
   "file_extension": ".py",
   "mimetype": "text/x-python",
   "name": "python",
   "nbconvert_exporter": "python",
   "pygments_lexer": "ipython3",
   "version": "3.11.9"
  }
 },
 "nbformat": 4,
 "nbformat_minor": 2
}
